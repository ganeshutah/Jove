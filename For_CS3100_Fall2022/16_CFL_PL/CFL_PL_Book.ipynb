{
 "cells": [
  {
   "cell_type": "markdown",
   "metadata": {},
   "source": [
    "# A method to portray the PL proof outlined in Figure 11.6\n",
    " \n",
    "##  THIS NOTEBOOK is referenced in Asg-8 and Quiz-8\n",
    " "
   ]
  },
  {
   "cell_type": "code",
   "execution_count": null,
   "metadata": {
    "run_control": {
     "frozen": false,
     "read_only": false
    }
   },
   "outputs": [],
   "source": [
    "#~~~~~~~~~~~~~~~~~~~~~~~~~~~~~~~~~~~~~~~~~~~~~~~~~~~~~~~\n",
    "import sys\n",
    "\n",
    "# -- Detect if in Own Install or in Colab\n",
    "try:\n",
    "    import google.colab\n",
    "    OWN_INSTALL = False\n",
    "except:\n",
    "    OWN_INSTALL = True\n",
    "    \n",
    "if OWN_INSTALL:\n",
    "    \n",
    "  #---- Leave these definitions ON if running on laptop\n",
    "  #---- Else turn OFF by putting them between ''' ... '''\n",
    "\n",
    "  sys.path[0:0] = ['../../../../..',  '../../../../../3rdparty',  \n",
    "                   '../../../..',  '../../../../3rdparty',  \n",
    "                   '../../..',     '../../../3rdparty', \n",
    "                   '../..',        '../../3rdparty',\n",
    "                   '..',           '../3rdparty' ]\n",
    "\n",
    "else: # In colab\n",
    "  ! if [ ! -d Jove ]; then git clone https://github.com/ganeshutah/Jove Jove; fi\n",
    "  sys.path.append('./Jove')\n",
    "  sys.path.append('./Jove/jove')\n",
    "\n",
    "# -- common imports --\n",
    "from jove.lex import lex\n",
    "from jove.yacc import yacc\n",
    "\n",
    "from jove.StateNameSanitizers import ResetStNum, NxtStateStr\n",
    "from jove.SystemImports       import *\n",
    "\n",
    "from jove.Def_NFA import mk_nfa\n",
    "from jove.DotBashers import *\n",
    "\n",
    "#~~~~~~~~~~~~~~~~~~~~~~~~~~~~~~~~~~~~~~~~~~~~~~~~~~~~~~~"
   ]
  },
  {
   "cell_type": "markdown",
   "metadata": {},
   "source": [
    "# Variant of example on Page 154\n",
    "\n",
    "## Grammar of bracketing types introduced\n",
    "\n",
    "S -> (S) | T   # ADDING another EPS production here as in the book causes ambiguity!\n",
    "\n",
    "T -> [ T ] | T T | EPS\n"
   ]
  },
  {
   "cell_type": "code",
   "execution_count": null,
   "metadata": {
    "run_control": {
     "frozen": false,
     "read_only": false
    }
   },
   "outputs": [],
   "source": [
    "# Tokens in our CFG\n",
    "tokens = ('LSQ','RSQ','LPAREN','RPAREN', 'EPS')  \n",
    "\n",
    "t_EPS     = r'\\'\\'|\\\"\\\"'   \n",
    "t_LSQ     = r'\\['\n",
    "t_RSQ     = r'\\]'\n",
    "t_LPAREN  = r'\\('\n",
    "t_RPAREN  = r'\\)'\n",
    " \n",
    "\n",
    "# Ignored characters\n",
    "t_ignore = \" \\t\"\n",
    "\n",
    "def t_newline(t):\n",
    "    r'\\n+'\n",
    "    t.lexer.lineno += t.value.count(\"\\n\")\n",
    "    \n",
    "def t_error(t):\n",
    "    print(\"Illegal character '%s'\" % t.value[0])\n",
    "    t.lexer.skip(1)\n",
    "    \n",
    "def p_paren(t):\n",
    "    'S : LPAREN S RPAREN'\n",
    "    #--------------------\n",
    "    nlin = t[2]['nl']\n",
    "    elin = t[2]['el']\n",
    "    \n",
    "    rootin = nlin[0]\n",
    "    \n",
    "    root = NxtStateStr(\"S_\")\n",
    "    left = NxtStateStr(\"(_\")\n",
    "    right= NxtStateStr(\")_\")\n",
    "    \n",
    "    t[0] = { 'nl' : [root, left] + nlin + [right], #order important f. proper layout!\n",
    "             'el' : elin + [ (root, left),\n",
    "                             (root, rootin),\n",
    "                             (root, right) ]\n",
    "           }\n",
    "    \n",
    "def p_T(t):\n",
    "    'S : T'\n",
    "    #\n",
    "    nlin = t[1]['nl']\n",
    "    elin = t[1]['el']    \n",
    "    rootin = nlin[0]   \n",
    "    root = NxtStateStr(\"S_\")   \n",
    "    t[0] = { 'nl' : [root] + nlin, #order important f. proper layout!\n",
    "             'el' : elin + [ (root, rootin) ]\n",
    "           }\n",
    "    \n",
    "\n",
    "def p_sq(t):\n",
    "    'T : LSQ T RSQ'\n",
    "    #--------------------\n",
    "    nlin = t[2]['nl']\n",
    "    elin = t[2]['el']\n",
    "    \n",
    "    rootin = nlin[0]\n",
    "    \n",
    "    root = NxtStateStr(\"T_\")\n",
    "    left = NxtStateStr(\"[_\")\n",
    "    right= NxtStateStr(\"]_\")\n",
    "    \n",
    "    t[0] = { 'nl' : [root, left] + nlin + [right], #order important f. proper layout!\n",
    "             'el' : elin + [ (root, left),\n",
    "                             (root, rootin),\n",
    "                             (root, right) ]\n",
    "           }\n",
    "\n",
    "def p_TT(t):\n",
    "    'T : T T'\n",
    "    #--------------------\n",
    "    nlin1 = t[1]['nl']\n",
    "    elin1 = t[1]['el']\n",
    "    nlin2 = t[2]['nl']\n",
    "    elin2 = t[2]['el']\n",
    "    \n",
    "    rootin1 = nlin1[0]\n",
    "    rootin2 = nlin2[0]\n",
    "    \n",
    "    root = NxtStateStr(\"T_\")\n",
    "    \n",
    "    t[0] = { 'nl' : [root] + nlin1 + nlin2, #order important f. proper layout!\n",
    "             'el' : elin1 + elin2 + [ (root, rootin1),\n",
    "                                      (root, rootin2) ]                      \n",
    "           }\n",
    "    \n",
    "def p_eps_T(t):\n",
    "    'T : EPS'\n",
    "    #--------\n",
    "    nlin = [ NxtStateStr(\"@_\") ]\n",
    "    elin = [ ]   \n",
    "    rootin = nlin[0]   \n",
    "    root = NxtStateStr(\"T_\")   \n",
    "    t[0] = { 'nl' : [root] + nlin, #order important f. proper layout!\n",
    "             'el' : elin + [ (root, rootin) ]\n",
    "           }\n",
    "    \n",
    " \n",
    "    \n",
    "def p_error(t):\n",
    "    print(\"Syntax error at '%s'\" % t.value)\n",
    "\n",
    "#--\n",
    "def parseSinit():\n",
    "    \"\"\"In: a string s containing a regular expression.\n",
    "       Out: An attribute quadruple (nfa,ast,nodelist,edgelist)        \n",
    "    \"\"\"\n",
    "    mylexer  = lex()\n",
    "    myparser = yacc()\n",
    "    return (mylexer, myparser)\n",
    "\n",
    "#--\n",
    "def parseS(s, L, P):\n",
    "    \"\"\"In: a string s containing a regular expression.\n",
    "       Out: An attribute quadruple (nfa,ast,nodelist,edgelist)        \n",
    "    \"\"\"\n",
    "    mylexer  = L\n",
    "    myparser = P\n",
    "    #-- pass the right lexer into the parser    \n",
    "    p = myparser.parse(s, lexer = mylexer)  \n",
    "    return (p['nl'], p['el'])       "
   ]
  },
  {
   "cell_type": "code",
   "execution_count": null,
   "metadata": {},
   "outputs": [],
   "source": [
    "def drawPT(nl_el, comment=\"PT\"):\n",
    "    \"\"\"Given an (nfa, ast, nl, el) quadruple where nl is the node and el the edge-list,\n",
    "       draw the Parse Tree by returning a dot object. Also return the NFA dot object.\n",
    "    \"\"\"\n",
    "    (nl, el) = nl_el\n",
    "    dotObj_pt = Digraph(comment)\n",
    "    dotObj_pt.graph_attr['rankdir'] = 'TB'\n",
    "    for n in nl:\n",
    "        prNam = n.split('_')[0]\n",
    "        dotObj_pt.node(n, prNam, shape=\"oval\", peripheries=\"1\")\n",
    "    for e in el:\n",
    "        dotObj_pt.edge(e[0], e[1])\n",
    "    return dotObj_pt"
   ]
  },
  {
   "cell_type": "code",
   "execution_count": null,
   "metadata": {},
   "outputs": [],
   "source": [
    "(L, P) = parseSinit()"
   ]
  },
  {
   "cell_type": "code",
   "execution_count": null,
   "metadata": {},
   "outputs": [],
   "source": [
    "drawPT(parseS(\"('')\", L, P))"
   ]
  },
  {
   "cell_type": "code",
   "execution_count": null,
   "metadata": {},
   "outputs": [],
   "source": [
    "drawPT(parseS(\"([''])\", L, P))"
   ]
  },
  {
   "cell_type": "code",
   "execution_count": null,
   "metadata": {},
   "outputs": [],
   "source": [
    "drawPT(parseS(\"['']\", L, P))"
   ]
  },
  {
   "cell_type": "code",
   "execution_count": null,
   "metadata": {},
   "outputs": [],
   "source": [
    "drawPT(parseS(\"[['']]\", L, P))"
   ]
  },
  {
   "cell_type": "code",
   "execution_count": null,
   "metadata": {},
   "outputs": [],
   "source": []
  }
 ],
 "metadata": {
  "kernelspec": {
   "display_name": "Python 3",
   "language": "python",
   "name": "python3"
  },
  "language_info": {
   "codemirror_mode": {
    "name": "ipython",
    "version": 3
   },
   "file_extension": ".py",
   "mimetype": "text/x-python",
   "name": "python",
   "nbconvert_exporter": "python",
   "pygments_lexer": "ipython3",
   "version": "3.7.3"
  },
  "toc": {
   "colors": {
    "hover_highlight": "#DAA520",
    "running_highlight": "#FF0000",
    "selected_highlight": "#FFD700"
   },
   "moveMenuLeft": true,
   "nav_menu": {
    "height": "12px",
    "width": "252px"
   },
   "navigate_menu": true,
   "number_sections": true,
   "sideBar": true,
   "threshold": 4,
   "toc_cell": false,
   "toc_section_display": "block",
   "toc_window_display": false,
   "widenNotebook": false
  }
 },
 "nbformat": 4,
 "nbformat_minor": 2
}
