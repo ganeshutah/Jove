{
  "cells": [
    {
      "cell_type": "code",
      "execution_count": 1,
      "metadata": {
        "colab": {
          "base_uri": "https://localhost:8080/"
        },
        "id": "ReuBKe5-Weqw",
        "outputId": "7281d1bc-dd25-4a68-a996-774378e90784",
        "run_control": {
          "frozen": false,
          "read_only": false
        }
      },
      "outputs": [
        {
          "name": "stdout",
          "output_type": "stream",
          "text": [
            "Cloning into 'Jove'...\n",
            "remote: Enumerating objects: 6210, done.\u001b[K\n",
            "remote: Counting objects: 100% (1576/1576), done.\u001b[K\n",
            "remote: Compressing objects: 100% (652/652), done.\u001b[K\n",
            "remote: Total 6210 (delta 919), reused 1505 (delta 859), pack-reused 4634\u001b[K\n",
            "Receiving objects: 100% (6210/6210), 9.21 MiB | 10.18 MiB/s, done.\n",
            "Resolving deltas: 100% (3924/3924), done.\n",
            "You may use any of these help commands:\n",
            "help(step_tm)\n",
            "help(run_tm)\n",
            "help(explore_tm)\n",
            "\n",
            "You may use any of these help commands:\n",
            "help(md2mc)\n",
            ".. and if you want to dig more, then ..\n",
            "help(default_line_attr)\n",
            "help(length_ok_input_items)\n",
            "help(union_line_attr_list_fld)\n",
            "help(extend_rsltdict)\n",
            "help(form_delta)\n",
            "help(get_machine_components)\n",
            "\n",
            "You may use any of these help commands:\n",
            "help(ResetStNum)\n",
            "help(NxtStateStr)\n",
            "\n",
            " \"help(JoveEditor)\" gives you info on the generic animation panel that animates all machines. \n"
          ]
        }
      ],
      "source": [
        "#~~~~~~~~~~~~~~~~~~~~~~~~~~~~~~~~~~~~~~~~~~~~~~~~~~~~~~~\n",
        "import sys\n",
        "\n",
        "# -- Detect if in Own Install or in Colab\n",
        "try:\n",
        "    import google.colab\n",
        "    OWN_INSTALL = False\n",
        "except:\n",
        "    OWN_INSTALL = True\n",
        "    \n",
        "if OWN_INSTALL:\n",
        "    \n",
        "  #---- Leave these definitions ON if running on laptop\n",
        "  #---- Else turn OFF by putting them between ''' ... '''\n",
        "\n",
        "  sys.path[0:0] = ['../../../../..',  '../../../../../3rdparty',  \n",
        "                   '../../../..',  '../../../../3rdparty',  \n",
        "                   '../../..',     '../../../3rdparty', \n",
        "                   '../..',        '../../3rdparty',\n",
        "                   '..',           '../3rdparty' ]\n",
        "\n",
        "else: # In colab\n",
        "  ! if [ ! -d Jove ]; then git clone https://github.com/ganeshutah/Jove Jove; fi\n",
        "  sys.path.append('./Jove')\n",
        "  sys.path.append('./Jove/jove')\n",
        "\n",
        "# -- common imports --\n",
        "from jove.Def_TM     import *\n",
        "from jove.Def_md2mc  import *\n",
        "from jove.DotBashers import *\n",
        "from jove.JoveEditor import *\n",
        "from jove.Def_PDA    import *\n",
        "from jove.AnimateTM import * #-- usage: AnimateTM(whas101DTM, FuseEdges=True)\n",
        "\n",
        "# -- common imports --\n",
        "from jove.PcpJupyterNew import *\n",
        "#~~~~~~~~~~~~~~~~~~~~~~~~~~~~~~~~~~\n",
        "#~~~~~~~~~~~~~~~~~~~~~~~~~~~~~~~~~~~~~~~~~~~~~~~~~~~~~~~"
      ]
    },
    {
      "cell_type": "markdown",
      "metadata": {
        "id": "-nOdLS6oMm9U"
      },
      "source": [
        "# ========== Look  below for  \"YOUR ACTUAL ASSIGNMENT STARTS HERE\" ========="
      ]
    },
    {
      "cell_type": "markdown",
      "metadata": {
        "id": "UJwZNqPuWeq8"
      },
      "source": [
        "## Illustration:\n",
        "\n",
        "### Solve the PCP instance given below by hand first (15 points) \n",
        "\n",
        "\n",
        "### TILES = [('110', '1'), ('1', '0'), ('0', '110'),       ('0','1')] \n",
        "\n",
        "### And then by using the tool (10 points)\n",
        "\n",
        "### using the command pcp_solve( TILES  , OWN_INSTALL)  \n",
        "\n",
        "### You may always use help(pcp_solve) for details"
      ]
    },
    {
      "cell_type": "markdown",
      "metadata": {
        "id": "xprLSBVmX2ja"
      },
      "source": [
        "#  !! HAND SOLUTION IN A TABULAR FORMAT is 1,4,2,2,3 !!\n",
        "## i.e.,   \n",
        "\n",
        " \n",
        "| T1     | T4   | T2  |  T2 | T3 |\n",
        "| -------|------|-----|-----|----| \n",
        "| 110    |   0  |   1 |  1  | 0  |\n",
        "|  1     |   1  |   0 |  0  | 110|\n",
        "\n",
        "#**BUT PLEASE NOTE THAT THE PCP SOLVER CAN PRINT THINGS BACKWARDS!!**\n",
        " \n",
        "## It is part of the external tool's algorithm (it tries solving straight-up and also reversed. \n",
        "\n",
        "## Since I did not write this tool, I have no control over it\n",
        "\n",
        "# SOLUTION PRINTED will likely be [3,2,2,4,1]\n",
        "\n",
        "and look like this\n",
        "\n",
        "| T3    | T2   | T2  |  T4 | T1 |\n",
        "|-------|------|-----|-----|----| \n",
        "| 0     |   1  |   1 |  0  | 011|\n",
        "| 011   |   0  |   0 |  1  | 1  |\n",
        "\n",
        "\n",
        "# *If you detect such a reversal, kindly place a comment next to the tool printout.*\n",
        "\n",
        "##*i.e., say that the solution is presented reversed.*\n",
        "\n",
        "## If the reversal did not occur, you may optionally say, for the sake of good documentation, that *No reversal happened.*\n"
      ]
    },
    {
      "cell_type": "code",
      "execution_count": 2,
      "metadata": {
        "colab": {
          "base_uri": "https://localhost:8080/"
        },
        "id": "VGqbyJKaXU_Y",
        "outputId": "8e8f13f9-60c9-4454-e52c-9a3dfa63957a"
      },
      "outputs": [
        {
          "name": "stdout",
          "output_type": "stream",
          "text": [
            "Detected platform linux\n",
            " Running the command ... :  ['./Jove/jove/pcp', '-i', 'temp.txt']\n",
            "Solution(s) to PCP instance are below. Note: the tiles may be reversed,\n",
            "  as the solver may sometimes present the solution in reverse.:\n",
            "\n",
            "Solution 1\n",
            "[3, 2, 2, 4, 1]\n",
            "0   1   1   0   011 \n",
            "011 0   0   1   1   \n",
            "\n",
            "\n"
          ]
        }
      ],
      "source": [
        "# !! HOW THE HAND-SOLUTION IS OBTAINED THRU THE pcp_solve TOOL !!\n",
        "TILES = [('110', '1'), ('1', '0'), ('0', '110'), ('0','1')]\n",
        "pcp_solve(TILES, OWN_INSTALL)"
      ]
    },
    {
      "cell_type": "markdown",
      "metadata": {
        "id": "czcYNHADGD6n"
      },
      "source": [
        "# ========== YOUR ACTUAL ASSIGNMENT STARTS HERE ==============="
      ]
    },
    {
      "cell_type": "markdown",
      "metadata": {
        "id": "EM1gW0o2Weqs",
        "run_control": {
          "frozen": false,
          "read_only": false
        }
      },
      "source": [
        "# 1) 30 POINTS: Experience with Post Correspondence\n",
        "## a) (10 POINTS) Try solving this PCP system by hand, spending 20 mins. \n",
        "\n",
        "\n",
        "| T1     | T2   | T3|\n",
        "| -------|------|---|\n",
        "| 100    |   0  | 1 |\n",
        "|   1    | 100  | 0 |\n",
        "\n",
        "# Then use the PCP system to solve it, as illustrated below. Show your hand-work in the form of some strings you tried. No particular format, except keep it short and readable. \n",
        "\n",
        "# **When you solve it using the tool below, note down the shortest solution length that the tool tends to print. What is that length?**\n",
        "\n",
        " \n",
        "\n",
        "\n",
        "#==== YOUR ANSWER HERE --- JUST SOME INDICATION THAT YOU TRIED BY HAND ====\n",
        "\n",
        "| T1  | T3  | T3  | T1  | T1  | T2  | T2  | T3  | T3 |  \n",
        "|-----|-----|-----|-----|-----|-----|-----|-----|----|\n",
        "| 100 | 1   | 1   | 100 | 100 | 0   | 0   | 1   | 1  |\n",
        "| 1   | 0   | 0   | 1   | 1   | 100 | 100 | 0   | 0  |\n",
        "\n",
        ". . . This pattern keeps looping :(\n",
        "\n",
        "I've realized that the pattern needs to start with T1 and end with T2, but I get stuck in this loop when doing it by hand.\n",
        "\n",
        "\n",
        "\n",
        "\n",
        "\n"
      ]
    },
    {
      "cell_type": "code",
      "execution_count": 3,
      "metadata": {
        "colab": {
          "base_uri": "https://localhost:8080/"
        },
        "id": "3DJ8e_SGWeq9",
        "outputId": "ce3acd44-2b65-4edc-a628-5492b675e0e3"
      },
      "outputs": [
        {
          "name": "stdout",
          "output_type": "stream",
          "text": [
            "Detected platform linux\n",
            " Running the command ... :  ['./Jove/jove/pcp', '-i', 'temp.txt']\n",
            "Solution(s) to PCP instance are below. Note: the tiles may be reversed,\n",
            "  as the solver may sometimes present the solution in reverse.:\n",
            "\n",
            "Solution 1\n",
            "[1, 3, 3, 1, 1, 2, 1, 3, 3, 3, 2, 1, 1, 1, 3, 2, 1, 3, 3, 2, 1, 3, 2, 1, 1, 3, 2, 1, 3, 1, 3, 3, 2, 1, 3, 2, 1, 1, 3, 3, 1, 1, 3, 2, 1, 3, 2, 2, 1, 1, 2, 2, 1, 3, 2, 2, 2, 2, 3, 3, 2, 2, 3, 3, 1, 2, 1, 1, 2, 3, 2, 2, 3, 2, 2]\n",
            "100 1   1   100 100 0   100 1   1   1   0   100 100 100 1   \n",
            "1   0   0   1   1   100 1   0   0   0   100 1   1   1   0   \n",
            "\n",
            "0   100 1   1   0   100 1   0   100 100 1   0   100 1   100 \n",
            "100 1   0   0   100 1   0   100 1   1   0   100 1   0   1   \n",
            "\n",
            "1   1   0   100 1   0   100 100 1   1   100 100 1   0   100 \n",
            "0   0   100 1   0   100 1   1   0   0   1   1   0   100 1   \n",
            "\n",
            "1   0   0   100 100 0   0   100 1   0   0   0   0   1   1   \n",
            "0   100 100 1   1   100 100 1   0   100 100 100 100 0   0   \n",
            "\n",
            "0   0   1   1   100 0   100 100 0   1   0   0   1   0   0   \n",
            "100 100 0   0   1   100 1   1   100 0   100 100 0   100 100 \n",
            "\n",
            "\n",
            "\n",
            "\n",
            "\n",
            "Solution 2\n",
            "[1, 3, 3, 1, 1, 2, 1, 3, 3, 3, 2, 1, 1, 1, 3, 1, 3, 3, 2, 2, 1, 2, 1, 2, 2, 3, 1, 3, 3, 3, 3, 1, 2, 1, 1, 1, 1, 2, 3, 2, 1, 3, 3, 2, 2, 3, 1, 3, 2, 1, 2, 1, 1, 3, 3, 1, 3, 2, 3, 2, 2, 1, 1, 2, 1, 3, 2, 2, 2, 3, 2, 2, 3, 2, 2]\n",
            "100 1   1   100 100 0   100 1   1   1   0   100 100 100 1   \n",
            "1   0   0   1   1   100 1   0   0   0   100 1   1   1   0   \n",
            "\n",
            "100 1   1   0   0   100 0   100 0   0   1   100 1   1   1   \n",
            "1   0   0   100 100 1   100 1   100 100 0   1   0   0   0   \n",
            "\n",
            "1   100 0   100 100 100 100 0   1   0   100 1   1   0   0   \n",
            "0   1   100 1   1   1   1   100 0   100 1   0   0   100 100 \n",
            "\n",
            "1   100 1   0   100 0   100 100 1   1   100 1   0   1   0   \n",
            "0   1   0   100 1   100 1   1   0   0   1   0   100 0   100 \n",
            "\n",
            "0   100 100 0   100 1   0   0   0   1   0   0   1   0   0   \n",
            "100 1   1   100 1   0   100 100 100 0   100 100 0   100 100 \n",
            "\n",
            "\n",
            "\n",
            "\n",
            "\n"
          ]
        }
      ],
      "source": [
        "# NOW YOUR MECHANICAL SOLUTION HERE\n",
        "TILES = [('100', '1'), ('0', '100'), ('1', '0')]\n",
        "pcp_solve(TILES, OWN_INSTALL)"
      ]
    },
    {
      "cell_type": "markdown",
      "metadata": {
        "id": "tgoYuiPsGxE2"
      },
      "source": [
        "# Please put a note below in case the solution was presented by the tool in a reversed manner\n",
        "\n",
        "## ...note here if there was a reversal..."
      ]
    },
    {
      "cell_type": "markdown",
      "metadata": {
        "id": "bTgmOptHQac4"
      },
      "source": [
        "#**THE SOLUTION LENGTH IS ... -- o.m.g **\n",
        "## Scrape the output of pcp_solve and use the python len() function"
      ]
    },
    {
      "cell_type": "code",
      "execution_count": 7,
      "metadata": {
        "id": "JvNNxHbFQeyj"
      },
      "outputs": [],
      "source": [
        "sol1 = [1, 3, 3, 1, 1, 2, 1, 3, 3, 3, 2, 1, 1, 1, 3, 2, 1, 3, 3, 2, 1, 3, 2, 1, 1, 3, 2, 1, 3, 1, 3, 3, 2, 1, 3, 2, 1, 1, 3, 3, 1, 1, 3, 2, 1, 3, 2, 2, 1, 1, 2, 2, 1, 3, 2, 2, 2, 2, 3, 3, 2, 2, 3, 3, 1, 2, 1, 1, 2, 3, 2, 2, 3, 2, 2]\n",
        "sol2 = [1, 3, 3, 1, 1, 2, 1, 3, 3, 3, 2, 1, 1, 1, 3, 1, 3, 3, 2, 2, 1, 2, 1, 2, 2, 3, 1, 3, 3, 3, 3, 1, 2, 1, 1, 1, 1, 2, 3, 2, 1, 3, 3, 2, 2, 3, 1, 3, 2, 1, 2, 1, 1, 3, 3, 1, 3, 2, 3, 2, 2, 1, 1, 2, 1, 3, 2, 2, 2, 3, 2, 2, 3, 2, 2]"
      ]
    },
    {
      "cell_type": "code",
      "execution_count": 8,
      "metadata": {
        "colab": {
          "base_uri": "https://localhost:8080/"
        },
        "id": "nlqcsl5BQlBT",
        "outputId": "815ee27f-d6ed-47f5-bde9-5b6752b04477"
      },
      "outputs": [
        {
          "data": {
            "text/plain": [
              "75"
            ]
          },
          "execution_count": 8,
          "metadata": {},
          "output_type": "execute_result"
        }
      ],
      "source": [
        "len(sol1)\n",
        "len(sol2)"
      ]
    },
    {
      "cell_type": "code",
      "execution_count": 24,
      "metadata": {
        "colab": {
          "base_uri": "https://localhost:8080/"
        },
        "id": "S1FzbhbgRnMY",
        "outputId": "d3d7c1c3-106b-45ac-a716-9ea80d70623d"
      },
      "outputs": [
        {
          "name": "stdout",
          "output_type": "stream",
          "text": [
            "Detected platform linux\n",
            " Running the command ... :  ['./Jove/jove/pcp', '-i', 'temp.txt']\n",
            "No solution exists for the provided PCP instance.\n"
          ]
        }
      ],
      "source": [
        "TILES = [('0000', '0'), ('000000', '0'), ('000000', '000')]\n",
        "pcp_solve(TILES, OWN_INSTALL)"
      ]
    },
    {
      "cell_type": "markdown",
      "metadata": {
        "id": "T6WUJdUlPhoU"
      },
      "source": [
        "## b) (10 POINTS) When given a PCP problem (a set of tiles) over an alphabet $\\Sigma=\\{0,1\\}$, it is hard to solve, but when it is converted to the alphabet $\\Sigma=\\{0\\}$, it can become much easier.\n",
        " \n",
        "## In our case, it ends up creating these tiles\n",
        "\n",
        "| T1     | T2   | T3|\n",
        "| -------|------|---|\n",
        "| 0000   |   0  | 0 |\n",
        "|   0    | 000  | 0 |\n",
        "\n",
        "## But the presence of tile T3 gives a trivial solution, so let's set this aside (even the PCP tool does not admit tiles with identical top and bottom, I'm told).\n",
        "\n",
        "| T1     | T2   | \n",
        "| -------|------|\n",
        "| 0000   |   0  | \n",
        "|   0    | 000  | \n",
        "\n",
        "## Does this system have a solution? If so what is the solution? Write down, by hand, the shortest solution in the same tabular form as in the \"hand solution\" above. \n",
        "\n",
        "# Hint: Tile-1 has 3 in excess at the top, and Tile-2 has 2 in excess at the bottom. Tile-3 is a non-player. The LCM of 3 and 2 is 6 (least common multiple). Thus, repeating T1 and T2 according to the LCM (...think...) should help you. What does it take T1 to catch up to the LCM? T2?\n",
        "\n",
        "# Do copy-paste the markdown syntax from above. Specifically, click on the markdown for the \"HAND SOLUTION IN A TABULAR FORMAT\". Copy that tabular syntax. Paste it below. Edit as needed.\n",
        "\n",
        "#==== YOUR ANSWER HERE --- THE TABLE PLEASE ====\n",
        "\n",
        "| T2   | T2   | T2   | T1   | T1   | \n",
        "|------|------|------|------|------|\n",
        "|   0  |   0  |   0  | 0000 | 0000 | \n",
        "| 000  | 000  | 000  |   0  |   0  |\n",
        "\n",
        "## c) 10 Can you say that a PCP system over a singleton alphabet (Sigma has only one symbol, say '0') is decidable? Justify in 2-3 sentences. Again ignore the case of the identical top/bottom (w/w) tiles. \n",
        "\n",
        "## **Hint:** Think of tiles that are all \"top-heavy\" (more on top in every tile), are all \"bottom-heavy\" (more on the bottom in every tile), and \"mixed tiles\" (some top-heavy and some bottom-heavy tiles).\n",
        "\n",
        "#==== YOUR ANSWER HERE --- ANSWER AS FOLLOWS ====\n",
        "You can say that this is decidable over a singleton alphabet. If all tiles are \"top-heavy\" or all are \"bottom-heavy\", then there is no solution. Otherwise, as long as there is at least one \"top-heavy\" and one \"bottom-heavy\" tile there will be a solution because the one with a smaller difference between top and bottom can \"catch up\" to the other given enough repetitions."
      ]
    },
    {
      "cell_type": "markdown",
      "metadata": {
        "id": "nqJAuft_LN-l"
      },
      "source": [
        "#**===========================================**\n",
        "#**===========================================**\n",
        "#**===========================================**"
      ]
    },
    {
      "cell_type": "markdown",
      "metadata": {
        "id": "SXWCPYRhKs6l"
      },
      "source": [
        "\n",
        "\n",
        "# 2) 40 POINTS: Showing that $Halt_{TM} = \\{ \\langle M,w\\rangle : M\\; halts\\; on\\; w \\}$ is not recursive via a proof by contradiction (assuming there is a decider $H$ for this set, and following steps similar to the proof we did in class on 11/16/22 that $A_{TM}$ is not recursive."
      ]
    },
    {
      "cell_type": "markdown",
      "metadata": {
        "id": "aZptlVaVM6v3"
      },
      "source": [
        "#==== YOUR ANSWER HERE --- ANSWER AS FOLLOWS ====\n",
        "# ... typeset a proof neatly using markdown ...\n"
      ]
    },
    {
      "cell_type": "markdown",
      "metadata": {
        "id": "4kdbW17QWeq-"
      },
      "source": [
        "# SOLUTION:\n",
        "\n",
        "# Halt_TM proof : template for you to reuse\n",
        "\n",
        "# **Please look at Theorem 15.3 of Page 233 and fill the template below, to make it look like that proof.**\n",
        "\n",
        "## *You are providing a different theorem, of course.*\n",
        "\n",
        "## *But plz make it look like that theorem, so that the TAs can grade more easily.*\n",
        " \n",
        " \n",
        "* Suppose there exists a decider $H$ for $Halt_{TM}$. \n",
        " $H$ expects to be\n",
        " given a TM $M$ and a string $w$. Notice that _giving a TM to $H$_\n",
        " means\n",
        " ``giving it a character string representing a TM program.''\n",
        " Hence, in reality, we will be feeding $H$\n",
        "  the pair $\\langle M,w\\rangle$.\n",
        "\n",
        "* Build a program called $D$ as follows: \n",
        "  1. $D$ takes a single argument $M$.\n",
        "  2. As its first step, $D$ invokes $H$ on $\\langle M,M \\rangle$\n",
        "  3. If $H(\\langle M,M\\rangle)$ rejects, $D(\\langle M\\rangle)$ accepts.\n",
        "  4. If $H(\\langle M,M\\rangle)$ accepts, $D(\\langle M\\rangle)$ rejects.\n",
        "    \n",
        " \n",
        "* Now we can ask what $D(\\langle D\\rangle)$ will do\n",
        "  - The $D(\\langle D\\rangle)$ ``call'' turns into an $H(\\langle D,D\\rangle)$ \n",
        "    call.\n",
        " \n",
        "* Suppose $H(\\langle D,D\\rangle)$ rejects. then $D(\\langle D\\rangle)$ accepts.\n",
        "\n",
        "* But, according to the advertised behavior of $H$, the\n",
        "   fact that $H(\\langle D,D\\rangle)$\n",
        "   rejects means that $D$ is \n",
        "   a Turing machine that doesn't halt (and therefore never accepts), or\n",
        "  that $D(\\langle D\\rangle)$ accepts. This is one case of the contradiction\n",
        " \n",
        "* Suppose $H(\\langle D,D \\rangle)$ accepts. \n",
        "  In that case,  \n",
        "  $D(\\langle D\\rangle)$ rejects.\n",
        "\n",
        "* But, according to the advertised behavior of $H$, the\n",
        "  fact that $H(\\langle D,D\\rangle)$\n",
        "  accepts means that $D$ is \n",
        "   a Turing machine that halts or that\n",
        "   $D(\\langle D\\rangle)$ rejects. This is\n",
        "  the second part of a two-part contradiction that we\n",
        "  have obtained.\n",
        "\n",
        "\n",
        "* Therefore, we obtain a contradiction under\n",
        "  all cases.\n",
        "  \n",
        "* Thus, $Halt_{TM}$ is undecidable.\n",
        "\n",
        " \n",
        " "
      ]
    },
    {
      "cell_type": "markdown",
      "metadata": {
        "id": "aER_uPHWLzUf"
      },
      "source": [
        "#**===========================================**\n",
        "#**===========================================**\n",
        "#**===========================================**"
      ]
    },
    {
      "cell_type": "markdown",
      "metadata": {
        "id": "bql0w7-YKzFv"
      },
      "source": [
        "\n",
        "\n",
        "# 3) 30 POINTS: Showing via a mapping reduction that $CFL_{TM} = \\{ \\langle M\\rangle : M\\; is\\; a\\; TM\\; whose\\; language\\; is\\; context\\_free \\}$. Follow the template of proof of $Reg_{TM}$ in the class proof of 11/16/22, except\n",
        "\n",
        "## a) Change the \"entry pattern\" from 0^n 1^n to something else. We will discuss various approaches on 11/21/22\n",
        "\n",
        "## b) Argue that this is indeed a mapping-reduction, as follows:\n",
        "\n",
        "### i) if $\\langle M,w\\rangle$ in $A_{TM}$ then $M'$ has a CFL\n",
        "### ii) if $\\langle M,w\\rangle$ is outside of $A_{TM}$, then $M'$ falls outside of the family of strings with a  CFL"
      ]
    },
    {
      "cell_type": "markdown",
      "metadata": {
        "id": "K1bWZJeqNI6J"
      },
      "source": [
        "#==== YOUR ANSWER HERE --- ANSWER AS FOLLOWS ====\n",
        "# ... typeset a proof neatly using markdown ...\n"
      ]
    },
    {
      "cell_type": "markdown",
      "metadata": {
        "id": "df3pFYFMWeq_"
      },
      "source": [
        "## SOLUTION: CFL_TM Mapping Reduction\n",
        "\n",
        "\n",
        "* The mapping reduction from $A_{TM}$ to $CFL_{TM}$ is to emit this machine M' \n",
        " \n",
        "\n",
        "      M'(x) {\n",
        "        if x = 0^(2^n) for some n then accept ; \n",
        "        Run M on w ;\n",
        "        If M accepts w and x = 0^m for some m, then accept ;\n",
        "        If M rejects w, then reject ; \n",
        "      }\n",
        " \n",
        "\n",
        "* Suppose M' has a CFL\n",
        "  - But this is possible only if the language of M' is $\\Sigma *$\n",
        "  - This is possible if M accepts w\n",
        "  \n",
        "* Suppose M' does not have a CFL\n",
        "  - Language is $0^{2^n}$\n",
        "  - This is possible only if M does not accept w\n",
        "  \n",
        "* Thus we have achieved our mapping reduction \n",
        "  - that is, M' has a CFL if and only if M accepts w."
      ]
    },
    {
      "cell_type": "markdown",
      "metadata": {
        "id": "nRoUNlXSWerI"
      },
      "source": [
        "# END"
      ]
    }
  ],
  "metadata": {
    "colab": {
      "provenance": []
    },
    "kernelspec": {
      "display_name": "Python 3.9.13 64-bit (microsoft store)",
      "language": "python",
      "name": "python3"
    },
    "language_info": {
      "codemirror_mode": {
        "name": "ipython",
        "version": 3
      },
      "file_extension": ".py",
      "mimetype": "text/x-python",
      "name": "python",
      "nbconvert_exporter": "python",
      "pygments_lexer": "ipython3",
      "version": "3.9.13"
    },
    "toc": {
      "colors": {
        "hover_highlight": "#DAA520",
        "running_highlight": "#FF0000",
        "selected_highlight": "#FFD700"
      },
      "moveMenuLeft": true,
      "nav_menu": {
        "height": "318px",
        "width": "252px"
      },
      "navigate_menu": true,
      "number_sections": true,
      "sideBar": true,
      "threshold": 4,
      "toc_cell": false,
      "toc_section_display": "block",
      "toc_window_display": false,
      "widenNotebook": false
    },
    "vscode": {
      "interpreter": {
        "hash": "5f4ba07150852e74fa74847117914c0a19f8ec002575f8d4b1c0a9de9f55c374"
      }
    }
  },
  "nbformat": 4,
  "nbformat_minor": 0
}
