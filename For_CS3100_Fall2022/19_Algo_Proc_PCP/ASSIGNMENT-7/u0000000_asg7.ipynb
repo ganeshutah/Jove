{
  "cells": [
    {
      "cell_type": "code",
      "execution_count": null,
      "metadata": {
        "run_control": {
          "frozen": false,
          "read_only": false
        },
        "id": "ReuBKe5-Weqw"
      },
      "outputs": [],
      "source": [
        "#~~~~~~~~~~~~~~~~~~~~~~~~~~~~~~~~~~~~~~~~~~~~~~~~~~~~~~~\n",
        "import sys\n",
        "\n",
        "# -- Detect if in Own Install or in Colab\n",
        "try:\n",
        "    import google.colab\n",
        "    OWN_INSTALL = False\n",
        "except:\n",
        "    OWN_INSTALL = True\n",
        "    \n",
        "if OWN_INSTALL:\n",
        "    \n",
        "  #---- Leave these definitions ON if running on laptop\n",
        "  #---- Else turn OFF by putting them between ''' ... '''\n",
        "\n",
        "  sys.path[0:0] = ['../../../../..',  '../../../../../3rdparty',  \n",
        "                   '../../../..',  '../../../../3rdparty',  \n",
        "                   '../../..',     '../../../3rdparty', \n",
        "                   '../..',        '../../3rdparty',\n",
        "                   '..',           '../3rdparty' ]\n",
        "\n",
        "else: # In colab\n",
        "  ! if [ ! -d Jove ]; then git clone https://github.com/ganeshutah/Jove Jove; fi\n",
        "  sys.path.append('./Jove')\n",
        "  sys.path.append('./Jove/jove')\n",
        "\n",
        "# -- common imports --\n",
        "from jove.Def_TM     import *\n",
        "from jove.Def_md2mc  import *\n",
        "from jove.DotBashers import *\n",
        "from jove.JoveEditor import *\n",
        "from jove.Def_PDA    import *\n",
        "from jove.AnimateTM import * #-- usage: AnimateTM(whas101DTM, FuseEdges=True)\n",
        "\n",
        "# -- common imports --\n",
        "from jove.PcpJupyterNew import *\n",
        "#~~~~~~~~~~~~~~~~~~~~~~~~~~~~~~~~~~\n",
        "#~~~~~~~~~~~~~~~~~~~~~~~~~~~~~~~~~~~~~~~~~~~~~~~~~~~~~~~"
      ]
    },
    {
      "cell_type": "markdown",
      "source": [
        "# ========== Look  below for  \"YOUR ACTUAL ASSIGNMENT STARTS HERE\" ========="
      ],
      "metadata": {
        "id": "-nOdLS6oMm9U"
      }
    },
    {
      "cell_type": "markdown",
      "metadata": {
        "id": "UJwZNqPuWeq8"
      },
      "source": [
        "## Illustration:\n",
        "\n",
        "### Solve the PCP instance given below by hand first (15 points) \n",
        "\n",
        "\n",
        "### TILES = [('110', '1'), ('1', '0'), ('0', '110'),       ('0','1')] \n",
        "\n",
        "### And then by using the tool (10 points)\n",
        "\n",
        "### using the command pcp_solve( TILES  , OWN_INSTALL)  \n",
        "\n",
        "### You may always use help(pcp_solve) for details"
      ]
    },
    {
      "cell_type": "markdown",
      "source": [
        "#  !! HAND SOLUTION IN A TABULAR FORMAT !!\n",
        "\n",
        " \n",
        "\n",
        " \n",
        "| T1     | T2   | T1  |  T3 | T4 |\n",
        "| -------|------|-----|-----|----| \n",
        "| 110    |   1  | 110 |  0  |  0 |\n",
        "|  1     |   0  |   1 | 110 |  1 |\n",
        " "
      ],
      "metadata": {
        "id": "xprLSBVmX2ja"
      }
    },
    {
      "cell_type": "code",
      "source": [
        "# !! HOW THE HAND-SOLUTION IS OBTAINED THRU THE pcp_solve TOOL !!\n",
        "TILES = [('110', '1'), ('1', '0'), ('0', '110'), ('0','1')]\n",
        "pcp_solve(TILES, OWN_INSTALL)"
      ],
      "metadata": {
        "id": "VGqbyJKaXU_Y"
      },
      "execution_count": null,
      "outputs": []
    },
    {
      "cell_type": "markdown",
      "source": [
        "# ========== YOUR ACTUAL ASSIGNMENT STARTS HERE ==============="
      ],
      "metadata": {
        "id": "czcYNHADGD6n"
      }
    },
    {
      "cell_type": "markdown",
      "metadata": {
        "run_control": {
          "frozen": false,
          "read_only": false
        },
        "id": "EM1gW0o2Weqs"
      },
      "source": [
        "# 1) 30 POINTS: Experience with Post Correspondence\n",
        "## a) (10 POINTS) Try solving this PCP system by hand, spending 20 mins. \n",
        "\n",
        "\n",
        "| T1     | T2   | T3|\n",
        "| -------|------|---|\n",
        "| 100    |   0  | 1 |\n",
        "|   1    | 100  | 0 |\n",
        "\n",
        "# Then use the PCP system to solve it, as illustrated below. Show your hand-work in the form of some strings you tried. No particular format, except keep it short and readable. \n",
        "\n",
        "# **When you solve it using the tool below, note down the shortest solution length that the tool tends to print. What is that length?**\n",
        "\n",
        " \n",
        "\n",
        "\n",
        "#==== YOUR ANSWER HERE --- JUST SOME INDICATION THAT YOU TRIED BY HAND ====\n",
        "\n",
        "# ...JUST ABOUT 5-6 LINES ; EDIT THIS LINE AND ADD MORE LINES AS NEEDED ....\n",
        "\n",
        "\n",
        "\n",
        "\n",
        "\n"
      ]
    },
    {
      "cell_type": "code",
      "execution_count": null,
      "metadata": {
        "id": "3DJ8e_SGWeq9"
      },
      "outputs": [],
      "source": [
        "# NOW YOUR MECHANICAL SOLUTION HERE\n",
        "TILES = ...type the above tiles in the right format...\n",
        "pcp_solve(TILES, OWN_INSTALL)"
      ]
    },
    {
      "cell_type": "markdown",
      "source": [
        "#**THE SOLUTION LENGTH IS ... -- o.m.g **\n",
        "## Scrape the output of pcp_solve and use the python len() function"
      ],
      "metadata": {
        "id": "bTgmOptHQac4"
      }
    },
    {
      "cell_type": "code",
      "source": [
        "sol = [1, 3,.... ]"
      ],
      "metadata": {
        "id": "JvNNxHbFQeyj"
      },
      "execution_count": null,
      "outputs": []
    },
    {
      "cell_type": "code",
      "source": [
        "len(sol)"
      ],
      "metadata": {
        "id": "nlqcsl5BQlBT"
      },
      "execution_count": null,
      "outputs": []
    },
    {
      "cell_type": "code",
      "source": [],
      "metadata": {
        "id": "XMa4WJD0QnNd"
      },
      "execution_count": null,
      "outputs": []
    },
    {
      "cell_type": "markdown",
      "source": [
        "## b) (10 POINTS) If you had  these tiles, then is it decidable? \n",
        "\n",
        "| T1     | T2   | T3|\n",
        "| -------|------|---|\n",
        "| 0000   |   0  | 0 |\n",
        "|   0    | 000  | 0 |\n",
        "\n",
        "## If so what is the solution? Write the shortest solution in the same tabular form as in the \"hand solution\" above. \n",
        "\n",
        "# Hint: Tile-1 has 3 in excess at the top, and Tile-2 has 2 in excess at the bottom. Tile-3 is a non-player. The LCM of 3 and 2 is 6 (least common multiple). Thus, repeating T1 and T2 according to the LCM (...think...) should help you. What does it take T1 to catch up to the LCM? T2?\n",
        "\n",
        "# Do copy-paste the markdown syntax from above. Specifically, click on the markdown for the \"HAND SOLUTION IN A TABULAR FORMAT\". Copy that tabular syntax. Paste it below. Edit as needed.\n",
        "\n",
        "#==== YOUR ANSWER HERE --- THE TABLE PLEASE ====\n",
        "\n",
        "# ...answer...\n",
        "\n",
        "## c) 10 Can you say that a PCP system over a singleton alphabet (Sigma has only one symbol, say '0') is decidable? Justify in 2-3 sentences.\n",
        "\n",
        "#==== YOUR ANSWER HERE --- ANSWER AS FOLLOWS ====\n",
        "# ...answer..."
      ],
      "metadata": {
        "id": "T6WUJdUlPhoU"
      }
    },
    {
      "cell_type": "markdown",
      "source": [
        "#**===========================================**\n",
        "#**===========================================**\n",
        "#**===========================================**"
      ],
      "metadata": {
        "id": "nqJAuft_LN-l"
      }
    },
    {
      "cell_type": "markdown",
      "source": [
        "\n",
        "\n",
        "# 2) 40 POINTS: Showing that $Halt_{TM} = \\{ \\langle M,w\\rangle : M\\; halts\\; on\\; w \\}$ is not recursive via a proof by contradiction (assuming there is a decider $H$ for this set, and following steps similar to the proof we did in class on 11/16/22 that $A_{TM}$ is not recursive."
      ],
      "metadata": {
        "id": "SXWCPYRhKs6l"
      }
    },
    {
      "cell_type": "markdown",
      "source": [
        "#==== YOUR ANSWER HERE --- ANSWER AS FOLLOWS ====\n",
        "# ... typeset a proof neatly using markdown ...\n"
      ],
      "metadata": {
        "id": "aZptlVaVM6v3"
      }
    },
    {
      "cell_type": "markdown",
      "metadata": {
        "id": "4kdbW17QWeq-"
      },
      "source": [
        "# SOLUTION:\n",
        "\n",
        "# Halt_TM proof : template for you to reuse\n",
        " \n",
        " \n",
        "* Suppose there exists a decider $H$ for $Halt_{TM}$. \n",
        " $H$ expects to be\n",
        " given a \\TM $M$ and a string $w$. Notice that _giving a TM to $H$_\n",
        " means\n",
        " ``giving it a character string representing a TM program.''\n",
        " Hence, in reality, we will be feeding $H$\n",
        "  the pair $\\langle M,w\\rangle$.\n",
        "\n",
        "* Build a program called $D$ as follows: \n",
        "  - $D$ takes a single argument $M$.\n",
        "  - As its first step, $D$ ...\n",
        "  - If $H(\\langle M,M\\rangle)$ rejects, $D(\\langle M\\rangle)$...\n",
        "  - If $H(\\langle M,M\\rangle)$ accepts, $D(\\langle M\\rangle)$ ...\n",
        "    \n",
        " \n",
        "* Now we can ask what $D(\\langle D\\rangle)$ will \n",
        "  - The $D(\\langle D\\rangle)$ ``call'' turns into an $H(\\langle D,D\\rangle)$ \n",
        "    call.\n",
        " \n",
        "* Suppose $H(\\langle D,D\\rangle)$ rejects. then $D(\\langle D\\rangle)$...\n",
        "\n",
        "* But, according to the advertised behavior of $H$, the\n",
        "   fact that $H(\\langle D,D\\rangle)$\n",
        "   rejects means that $D$ is \n",
        "   a Turing machine that ..., or\n",
        "  that $D(\\langle D\\rangle)$  ... This is one case of the contradiction\n",
        " \n",
        "* Suppose $H(\\langle D,D\\rangle)$ accepts. \n",
        "  In that case,  \n",
        "  $D(\\langle D\\rangle)$ ...\n",
        "\n",
        "* But, according to the advertised behavior of $H$, the\n",
        "  fact that $H(\\langle D,D\\rangle)$\n",
        "  accepts means that $D$ {\\em is} \n",
        "   a Turing machine that ... or that\n",
        "   $D(\\langle D\\rangle)$ }  ... This is\n",
        "  the second part of a two-part contradiction that we\n",
        "  have obtained.\n",
        "\n",
        "\n",
        "* Therefore, we obtain a contradiction under\n",
        "  all cases. \n",
        "  \n",
        "* Thus, $Halt_{TM}$ is undecidable.\n",
        "\n",
        " \n",
        " "
      ]
    },
    {
      "cell_type": "code",
      "execution_count": null,
      "metadata": {
        "id": "QxR-1xkyWeq_"
      },
      "outputs": [],
      "source": []
    },
    {
      "cell_type": "code",
      "execution_count": null,
      "metadata": {
        "id": "ZAeQhHrjWeq_"
      },
      "outputs": [],
      "source": []
    },
    {
      "cell_type": "markdown",
      "source": [
        "#**===========================================**\n",
        "#**===========================================**\n",
        "#**===========================================**"
      ],
      "metadata": {
        "id": "aER_uPHWLzUf"
      }
    },
    {
      "cell_type": "markdown",
      "source": [
        "\n",
        "\n",
        "# 3) 30 POINTS: Showing via a mapping reduction that $CFL_{TM} = \\{ \\langle M\\rangle : M\\; is\\; a\\; TM\\; whose\\; language\\; is\\; context\\_free \\}$. Follow the template of proof of $Reg_{TM}$ in the class proof of 11/16/22, except\n",
        "\n",
        "## a) Change the \"entry pattern\" from 0^n 1^n to something else. We will discuss various approaches on 11/21/22\n",
        "\n",
        "## b) Argue that this is indeed a mapping-reduction, as follows:\n",
        "\n",
        "### i) if $\\langle M,w\\rangle$ in $A_{TM}$ then $M'$ has a CFL\n",
        "### ii) if $\\langle M,w\\rangle$ is outside of $A_{TM}$, then $M'$ falls outside of the family of strings with a  CFL"
      ],
      "metadata": {
        "id": "bql0w7-YKzFv"
      }
    },
    {
      "cell_type": "markdown",
      "source": [
        "#==== YOUR ANSWER HERE --- ANSWER AS FOLLOWS ====\n",
        "# ... typeset a proof neatly using markdown ...\n"
      ],
      "metadata": {
        "id": "K1bWZJeqNI6J"
      }
    },
    {
      "cell_type": "markdown",
      "metadata": {
        "id": "df3pFYFMWeq_"
      },
      "source": [
        "## SOLUTION: CFL_TM Mapping Reduction\n",
        "\n",
        "\n",
        "* The mapping reduction from $A_{TM}$ to $CFL_{TM}$ is to emit this machine M' \n",
        " \n",
        "\n",
        "      M'(x) {\n",
        "        if x is of the form ...\n",
        "        ... ;\n",
        "        If M accepts w, .. ;\n",
        "        If M rejects w, .. ; }\n",
        " \n",
        "\n",
        "* Suppose M' has a CFL\n",
        "  - but this is possible only if the language of M'...\n",
        "  - This is possible if ...\n",
        "  \n",
        "* Suppose M' does not have a CFL\n",
        "  - this is possible only if ...\n",
        "  \n",
        "* Thus we have achieved our mapping reduction \n",
        "  - that is, M' has a CFL if and only if M accepts w."
      ]
    },
    {
      "cell_type": "markdown",
      "metadata": {
        "id": "nRoUNlXSWerI"
      },
      "source": [
        "# END"
      ]
    }
  ],
  "metadata": {
    "kernelspec": {
      "display_name": "Python 3",
      "language": "python",
      "name": "python3"
    },
    "language_info": {
      "codemirror_mode": {
        "name": "ipython",
        "version": 3
      },
      "file_extension": ".py",
      "mimetype": "text/x-python",
      "name": "python",
      "nbconvert_exporter": "python",
      "pygments_lexer": "ipython3",
      "version": "3.8.5"
    },
    "toc": {
      "colors": {
        "hover_highlight": "#DAA520",
        "running_highlight": "#FF0000",
        "selected_highlight": "#FFD700"
      },
      "moveMenuLeft": true,
      "nav_menu": {
        "height": "318px",
        "width": "252px"
      },
      "navigate_menu": true,
      "number_sections": true,
      "sideBar": true,
      "threshold": 4,
      "toc_cell": false,
      "toc_section_display": "block",
      "toc_window_display": false,
      "widenNotebook": false
    },
    "colab": {
      "provenance": []
    }
  },
  "nbformat": 4,
  "nbformat_minor": 0
}