{
 "cells": [
  {
   "cell_type": "code",
   "execution_count": 1,
   "metadata": {
    "run_control": {
     "frozen": false,
     "read_only": false
    }
   },
   "outputs": [],
   "source": [
    "#~~~~~~~~~~~~~~~~~~~~~~~~~~~~~~~~~~~~~~~~~~~~~~~~~~~~~~~\n",
    "import sys\n",
    "\n",
    "# -- Detect if in Own Install or in Colab\n",
    "try:\n",
    "    import google.colab\n",
    "    OWN_INSTALL = False\n",
    "except:\n",
    "    OWN_INSTALL = True\n",
    "    \n",
    "if OWN_INSTALL:\n",
    "    \n",
    "  #---- Leave these definitions ON if running on laptop\n",
    "  #---- Else turn OFF by putting them between ''' ... '''\n",
    "\n",
    "  sys.path[0:0] = ['../../../../..',  '../../../../../3rdparty',  \n",
    "                   '../../../..',  '../../../../3rdparty',  \n",
    "                   '../../..',     '../../../3rdparty', \n",
    "                   '../..',        '../../3rdparty',\n",
    "                   '..',           '../3rdparty' ]\n",
    "\n",
    "else: # In colab\n",
    "  ! if [ ! -d Jove ]; then git clone https://github.com/ganeshutah/Jove Jove; fi\n",
    "  sys.path.append('./Jove')\n",
    "  sys.path.append('./Jove/jove')\n",
    "\n",
    "# -- common imports --\n",
    "from jove.PcpJupyterNew import *\n",
    "#~~~~~~~~~~~~~~~~~~~~~~~~~~~~~~~~~~~~~~~~~~~~~~~~~~~~~~~"
   ]
  },
  {
   "cell_type": "markdown",
   "metadata": {
    "run_control": {
     "frozen": false,
     "read_only": false
    }
   },
   "source": [
    "# PCP Jupyter Interface"
   ]
  },
  {
   "cell_type": "markdown",
   "metadata": {
    "run_control": {
     "frozen": false,
     "read_only": false
    }
   },
   "source": [
    "Bringing Ling Zhao's PCP Solver to jupyter notebooks!\n",
    "\n",
    "Arguments will be exactly as they were for the command line version for the basic pcp_solve:\n",
    "\n",
    "run     - number of runs\n",
    "\n",
    "ni      - no iterative search\n",
    "\n",
    "di      - depth increment\n",
    "\n",
    "depth   - search depth"
   ]
  },
  {
   "cell_type": "code",
   "execution_count": 2,
   "metadata": {
    "run_control": {
     "frozen": false,
     "read_only": false
    },
    "scrolled": false
   },
   "outputs": [
    {
     "name": "stdout",
     "output_type": "stream",
     "text": [
      "Help on function pcp_solve in module jove.PcpJupyterNew:\n",
      "\n",
      "pcp_solve(pcp_pairs, OWN_INSTALL=False, run=None, ni=False, di=None, depth=None, tiles_per_row=15)\n",
      "    Forward user input to a file, which we then use Ling Zhao's pcp solver to solve.\n",
      "    :param OWN_INSTALL: if True, running on one's own machine; default is Colab (so false)\n",
      "    :param pcp_pairs: List of tuple pairs representing pcp 'tiles'\n",
      "    :param run: Number of runs to perform.\n",
      "    :param ni: No iterative search.\n",
      "    :param di: Depth increment.\n",
      "    :param depth: Search depth.\n",
      "    :param tiles_per_row: Number of tiles to show in single row together (useful for creating more meaningful output)\n",
      "\n"
     ]
    }
   ],
   "source": [
    "help(pcp_solve)"
   ]
  },
  {
   "cell_type": "markdown",
   "metadata": {
    "run_control": {
     "frozen": false,
     "read_only": false
    }
   },
   "source": [
    "### Examples:"
   ]
  },
  {
   "cell_type": "code",
   "execution_count": 3,
   "metadata": {
    "run_control": {
     "frozen": false,
     "read_only": false
    },
    "scrolled": true
   },
   "outputs": [
    {
     "name": "stdout",
     "output_type": "stream",
     "text": [
      "Detected platform Darwin\n",
      " Running the command ... :  ['./pcp', '-i', 'temp.txt']\n",
      "Solution(s) to PCP instance:\n",
      "\n",
      "Solution 1\n",
      "[3, 2, 2, 3, 3, 1, 3, 2, 2, 2, 1, 3, 3, 3, 2, 1, 3, 2, 2, 1, 3, 2, 1, 3, 3, 2, 1, 3, 2, 3, 2, 2, 1, 3, 2, 1, 3, 3, 2, 2, 3, 3, 2, 1, 3, 2, 1, 1, 3, 3, 1, 1, 3, 2, 1, 1, 1, 1, 2, 2, 1, 1, 2, 2, 3, 1, 3, 3, 1, 2, 1, 1, 2, 1, 1]\n",
      "0   1   1   0   0   011 0   1   1   1   011 0   0   0   1   \n",
      "011 0   0   011 011 1   011 0   0   0   1   011 011 011 0   \n",
      "\n",
      "011 0   1   1   011 0   1   011 0   0   1   011 0   1   0   \n",
      "1   011 0   0   1   011 0   1   011 011 0   1   011 0   011 \n",
      "\n",
      "1   1   011 0   1   011 0   0   1   1   0   0   1   011 0   \n",
      "0   0   1   011 0   1   011 011 0   0   011 011 0   1   011 \n",
      "\n",
      "1   011 011 0   0   011 011 0   1   011 011 011 011 1   1   \n",
      "0   1   1   011 011 1   1   011 0   1   1   1   1   0   0   \n",
      "\n",
      "011 011 1   1   0   011 0   0   011 1   011 011 1   011 011 \n",
      "1   1   0   0   011 1   011 011 1   0   1   1   0   1   1   \n",
      "\n",
      "\n",
      "\n",
      "\n",
      "\n",
      "Solution 2\n",
      "[3, 2, 2, 3, 3, 1, 3, 2, 2, 2, 1, 3, 3, 3, 2, 3, 2, 2, 1, 1, 3, 1, 3, 1, 1, 2, 3, 2, 2, 2, 2, 3, 1, 3, 3, 3, 3, 1, 2, 1, 3, 2, 2, 1, 1, 2, 3, 2, 1, 3, 1, 3, 3, 2, 2, 3, 2, 1, 2, 1, 1, 3, 3, 1, 3, 2, 1, 1, 1, 2, 1, 1, 2, 1, 1]\n",
      "0   1   1   0   0   011 0   1   1   1   011 0   0   0   1   \n",
      "011 0   0   011 011 1   011 0   0   0   1   011 011 011 0   \n",
      "\n",
      "0   1   1   011 011 0   011 0   011 011 1   0   1   1   1   \n",
      "011 0   0   1   1   011 1   011 1   1   0   011 0   0   0   \n",
      "\n",
      "1   0   011 0   0   0   0   011 1   011 0   1   1   011 011 \n",
      "0   011 1   011 011 011 011 1   0   1   011 0   0   1   1   \n",
      "\n",
      "1   0   1   011 0   011 0   0   1   1   0   1   011 1   011 \n",
      "0   011 0   1   011 1   011 011 0   0   011 0   1   0   1   \n",
      "\n",
      "011 0   0   011 0   1   011 011 011 1   011 011 1   011 011 \n",
      "1   011 011 1   011 0   1   1   1   0   1   1   0   1   1   \n",
      "\n",
      "\n",
      "\n",
      "\n",
      "\n"
     ]
    }
   ],
   "source": [
    "pcp_solve([('110', '1'), ('1', '0'), ('0', '110')], OWN_INSTALL)"
   ]
  },
  {
   "cell_type": "code",
   "execution_count": 4,
   "metadata": {
    "run_control": {
     "frozen": false,
     "read_only": false
    }
   },
   "outputs": [
    {
     "name": "stdout",
     "output_type": "stream",
     "text": [
      "Detected platform Darwin\n",
      " Running the command ... :  ['./pcp', '-i', 'temp.txt']\n",
      "Solution(s) to PCP instance:\n",
      "\n",
      "Solution 1\n",
      "[2, 1, 2, 2, 2, 1, 2, 1, 2, 2, 2, 1, 2, 2, 3, 1, 3, 2, 2, 1, 2, 3, 2, 2, 3, 1, 2, 2, 3, 2, 1, 2, 3, 2, 2, 1, 2, 2, 1, 2, 2, 3, 2, 1, 3, 2, 3, 1, 2, 2, 2, 1, 2, 2, 1, 2, 2, 2, 3, 3, 2, 3, 1, 3, 2, 2, 1, 3, 2, 2, 1, 3, 2, 3, 3, 2, 2, 3, 1, 2, 2, 2, 3, 1, 2, 2, 2, 3, 2, 2, 1, 2, 3, 2, 3, 1, 2, 3, 2, 3, 1, 2, 3, 1, 2, 2, 3, 3, 3, 2, 3, 3, 3, 2, 3, 3, 2, 2, 1, 2, 2, 2, 3, 2, 2, 3, 2, 3, 1, 2, 2, 3, 1, 2, 2, 1, 2, 3, 3, 2, 2, 1, 2, 3, 2, 2, 1, 3, 2, 3, 2, 2, 1, 3, 2, 3, 3, 1, 2, 2, 2, 3, 3, 1, 2, 2, 2, 3, 2, 3, 2, 2, 1, 3, 2, 3, 2, 2, 1, 3, 3, 3, 1, 2, 2, 2, 3, 3, 1, 2, 2, 2, 2, 2, 3, 2, 3, 1, 2, 2, 3, 2, 2, 1, 3, 1, 2, 3, 3, 2, 2, 1, 2, 3, 1, 2, 2, 2, 3, 2, 3, 2, 2, 1, 3, 2, 3, 3, 2, 3, 1, 2, 3, 3, 1, 2, 2, 2, 3, 2, 3, 3, 2, 3, 2, 3, 2, 3, 1, 2, 3, 2, 3, 3, 3, 3, 2, 3, 3, 2, 2, 2, 3, 2, 3, 1, 2, 3, 3, 2, 3, 2, 3, 3, 2, 3]\n",
      "10   1011 10   10   10   1011 10   1011 10   10   10   1011 10   10   1    \n",
      "1    010  1    1    1    010  1    010  1    1    1    010  1    1    101  \n",
      "\n",
      "1011 1    10   10   1011 10   1    10   10   1    1011 10   10   1    10   \n",
      "010  101  1    1    010  1    101  1    1    101  010  1    1    101  1    \n",
      "\n",
      "1011 10   1    10   10   1011 10   10   1011 10   10   1    10   1011 1    \n",
      "010  1    101  1    1    010  1    1    010  1    1    101  1    010  101  \n",
      "\n",
      "10   1    1011 10   10   10   1011 10   10   1011 10   10   10   1    1    \n",
      "1    101  010  1    1    1    010  1    1    010  1    1    1    101  101  \n",
      "\n",
      "10   1    1011 1    10   10   1011 1    10   10   1011 1    10   1    1    \n",
      "1    101  010  101  1    1    010  101  1    1    010  101  1    101  101  \n",
      "\n",
      "10   10   1    1011 10   10   10   1    1011 10   10   10   1    10   10   \n",
      "1    1    101  010  1    1    1    101  010  1    1    1    101  1    1    \n",
      "\n",
      "1011 10   1    10   1    1011 10   1    10   1    1011 10   1    1011 10   \n",
      "010  1    101  1    101  010  1    101  1    101  010  1    101  010  1    \n",
      "\n",
      "10   1    1    1    10   1    1    1    10   1    1    10   10   1011 10   \n",
      "1    101  101  101  1    101  101  101  1    101  101  1    1    010  1    \n",
      "\n",
      "10   10   1    10   10   1    10   1    1011 10   10   1    1011 10   10   \n",
      "1    1    101  1    1    101  1    101  010  1    1    101  010  1    1    \n",
      "\n",
      "1011 10   1    1    10   10   1011 10   1    10   10   1011 1    10   1    \n",
      "010  1    101  101  1    1    010  1    101  1    1    010  101  1    101  \n",
      "\n",
      "10   10   1011 1    10   1    1    1011 10   10   10   1    1    1011 10   \n",
      "1    1    010  101  1    101  101  010  1    1    1    101  101  010  1    \n",
      "\n",
      "10   10   1    10   1    10   10   1011 1    10   1    10   10   1011 1    \n",
      "1    1    101  1    101  1    1    010  101  1    101  1    1    010  101  \n",
      "\n",
      "1    1    1011 10   10   10   1    1    1011 10   10   10   10   10   1    \n",
      "101  101  010  1    1    1    101  101  010  1    1    1    1    1    101  \n",
      "\n",
      "10   1    1011 10   10   1    10   10   1011 1    1011 10   1    1    10   \n",
      "1    101  010  1    1    101  1    1    010  101  010  1    101  101  1    \n",
      "\n",
      "10   1011 10   1    1011 10   10   10   1    10   1    10   10   1011 1    \n",
      "1    010  1    101  010  1    1    1    101  1    101  1    1    010  101  \n",
      "\n",
      "10   1    1    10   1    1011 10   1    1    1011 10   10   10   1    10   \n",
      "1    101  101  1    101  010  1    101  101  010  1    1    1    101  1    \n",
      "\n",
      "1    1    10   1    10   1    10   1    1011 10   1    10   1    1    1    \n",
      "101  101  1    101  1    101  1    101  010  1    101  1    101  101  101  \n",
      "\n",
      "1    10   1    1    10   10   10   1    10   1    1011 10   1    1    10   \n",
      "101  1    101  101  1    1    1    101  1    101  010  1    101  101  1    \n",
      "\n",
      "1    10   1    1    10   1    \n",
      "101  1    101  101  1    101  \n",
      "\n",
      "\n"
     ]
    }
   ],
   "source": [
    "pcp_solve([('1101', '010'), ('01', '1'), ('1', '101')], OWN_INSTALL)"
   ]
  },
  {
   "cell_type": "code",
   "execution_count": null,
   "metadata": {},
   "outputs": [],
   "source": []
  }
 ],
 "metadata": {
  "kernelspec": {
   "display_name": "Python 3",
   "language": "python",
   "name": "python3"
  },
  "language_info": {
   "codemirror_mode": {
    "name": "ipython",
    "version": 3
   },
   "file_extension": ".py",
   "mimetype": "text/x-python",
   "name": "python",
   "nbconvert_exporter": "python",
   "pygments_lexer": "ipython3",
   "version": "3.7.3"
  },
  "toc": {
   "colors": {
    "hover_highlight": "#DAA520",
    "running_highlight": "#FF0000",
    "selected_highlight": "#FFD700"
   },
   "moveMenuLeft": true,
   "nav_menu": {
    "height": "48px",
    "width": "252px"
   },
   "navigate_menu": true,
   "number_sections": true,
   "sideBar": true,
   "threshold": 4,
   "toc_cell": false,
   "toc_section_display": "block",
   "toc_window_display": false,
   "widenNotebook": false
  }
 },
 "nbformat": 4,
 "nbformat_minor": 2
}
