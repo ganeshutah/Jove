{
 "cells": [
  {
   "cell_type": "markdown",
   "metadata": {},
   "source": [
    "# Note that the BDD.ipynb to be run for this assignment\n",
    "# is found in the top-level Git directory now. \n",
    "## Git clone\n",
    "## Inside Jove, you will find pbl \n",
    "## Get inside pbl and you'll find BDD.ipynb\n",
    "## Send BDD.ipynb to Colab and follow instructions\n",
    "## As usual post issues on Piazza"
   ]
  },
  {
   "cell_type": "markdown",
   "metadata": {
    "id": "nBIDf2Lx63Ck"
   },
   "source": [
    "# Question 1 (25 points)\n",
    " "
   ]
  },
  {
   "cell_type": "markdown",
   "metadata": {
    "id": "OL9i0QLF63Ck"
   },
   "source": [
    "## 1(a): "
   ]
  },
  {
   "cell_type": "markdown",
   "metadata": {
    "id": "Rj5sSV6b63Ck"
   },
   "source": [
    "## 1(b): "
   ]
  },
  {
   "cell_type": "markdown",
   "metadata": {
    "id": "aBp6YZWn63Cl"
   },
   "source": [
    "## 1(c): "
   ]
  },
  {
   "cell_type": "markdown",
   "metadata": {
    "id": "gJmo9lUV63Cl"
   },
   "source": [
    "## 1(d): "
   ]
  },
  {
   "cell_type": "markdown",
   "metadata": {
    "id": "nzLUz-9163Cl"
   },
   "source": [
    "## 1(e): "
   ]
  },
  {
   "cell_type": "markdown",
   "metadata": {
    "id": "FeK3dWhD63Cl"
   },
   "source": [
    "# Question 2 (25 points):\n",
    " "
   ]
  },
  {
   "cell_type": "markdown",
   "metadata": {
    "id": "idTt_FB-63Cl"
   },
   "source": [
    "## 1(a): "
   ]
  },
  {
   "cell_type": "markdown",
   "metadata": {
    "id": "rjdZY36W63Cl"
   },
   "source": [
    "## 1(b): "
   ]
  },
  {
   "cell_type": "markdown",
   "metadata": {
    "id": "_FMLKWJW63Cl"
   },
   "source": [
    "## 1(c): "
   ]
  },
  {
   "cell_type": "markdown",
   "metadata": {
    "id": "PcEfG6u-63Cl"
   },
   "source": [
    "## 1(d): \n",
    "\n",
    "* ...\n",
    "* ..."
   ]
  },
  {
   "cell_type": "markdown",
   "metadata": {
    "id": "r3XyxXbw63Cm"
   },
   "source": [
    "## 1(e): "
   ]
  },
  {
   "cell_type": "markdown",
   "metadata": {
    "id": "pDTTPRPf63Cm"
   },
   "source": [
    "# Question 3 (25 points)\n",
    " "
   ]
  },
  {
   "cell_type": "markdown",
   "metadata": {
    "id": "WA_0roP-63Cm"
   },
   "source": [
    "## 1(a): "
   ]
  },
  {
   "cell_type": "markdown",
   "metadata": {
    "id": "kGCCbh_063Cm"
   },
   "source": [
    "## 1(b): "
   ]
  },
  {
   "cell_type": "markdown",
   "metadata": {
    "id": "I_auSB1J63Cn"
   },
   "source": [
    "## 1(c): "
   ]
  },
  {
   "cell_type": "code",
   "execution_count": null,
   "metadata": {
    "id": "IsW5UxTW63Cn"
   },
   "outputs": [],
   "source": []
  },
  {
   "cell_type": "markdown",
   "metadata": {
    "id": "KyMQg_Zk63Cn"
   },
   "source": [
    "# Question 4 (25 points):\n",
    " "
   ]
  },
  {
   "cell_type": "markdown",
   "metadata": {
    "id": "3Wyy46rj63Cn"
   },
   "source": [
    "## Definitions from CH18_Church_Turing.ipynb below"
   ]
  },
  {
   "cell_type": "code",
   "execution_count": null,
   "metadata": {
    "id": "Dg1YUAfp63Co"
   },
   "outputs": [],
   "source": [
    "##--- BRING NECESSARY DEFINITIONS FROM CH18_Church_Turing below ---"
   ]
  },
  {
   "cell_type": "markdown",
   "metadata": {
    "id": "_mPzZqyU63Co"
   },
   "source": [
    "## Definitions of pregcd and gcd, and your tests below"
   ]
  },
  {
   "cell_type": "code",
   "execution_count": null,
   "metadata": {
    "id": "OLGA39wj63Co"
   },
   "outputs": [],
   "source": []
  },
  {
   "cell_type": "markdown",
   "metadata": {
    "id": "r-cfxE4d63Co"
   },
   "source": [
    "## Answers to your questions below"
   ]
  },
  {
   "cell_type": "markdown",
   "metadata": {
    "id": "LnOgxwkz63Co"
   },
   "source": [
    "## 1(a): "
   ]
  },
  {
   "cell_type": "markdown",
   "metadata": {
    "id": "8Z9_JW3I63Co"
   },
   "source": [
    "## 1(b): "
   ]
  },
  {
   "cell_type": "markdown",
   "metadata": {
    "id": "VtJIOafW63Co"
   },
   "source": [
    "## 1(c): "
   ]
  },
  {
   "cell_type": "markdown",
   "metadata": {
    "id": "vg50UsY-63Cp"
   },
   "source": [
    "# END\n"
   ]
  }
 ],
 "metadata": {
  "colab": {
   "name": "u1234567_asg11_Prob1234.ipynb",
   "provenance": []
  },
  "kernelspec": {
   "display_name": "Python 3",
   "language": "python",
   "name": "python3"
  },
  "language_info": {
   "codemirror_mode": {
    "name": "ipython",
    "version": 3
   },
   "file_extension": ".py",
   "mimetype": "text/x-python",
   "name": "python",
   "nbconvert_exporter": "python",
   "pygments_lexer": "ipython3",
   "version": "3.8.5"
  },
  "toc": {
   "colors": {
    "hover_highlight": "#DAA520",
    "running_highlight": "#FF0000",
    "selected_highlight": "#FFD700"
   },
   "moveMenuLeft": true,
   "nav_menu": {
    "height": "121px",
    "width": "252px"
   },
   "navigate_menu": true,
   "number_sections": true,
   "sideBar": true,
   "threshold": 4,
   "toc_cell": false,
   "toc_section_display": "block",
   "toc_window_display": false,
   "widenNotebook": false
  }
 },
 "nbformat": 4,
 "nbformat_minor": 1
}
