{
  "cells": [
    {
      "cell_type": "markdown",
      "metadata": {
        "run_control": {
          "frozen": false,
          "read_only": false
        },
        "id": "ZM_V2e4Pl5pa"
      },
      "source": [
        "#  Documentation for your work - 4-5 lines - at a high level"
      ]
    },
    {
      "cell_type": "code",
      "execution_count": 1,
      "metadata": {
        "run_control": {
          "frozen": false,
          "read_only": false
        },
        "id": "vC4eaeZ4l5pj"
      },
      "outputs": [],
      "source": [
        "import sys\n",
        "\n",
        "# -- Detect if in Own Install or in Colab\n",
        "try:\n",
        "    import google.colab\n",
        "    OWN_INSTALL = False\n",
        "except:\n",
        "    OWN_INSTALL = True\n",
        "\n",
        "if OWN_INSTALL:\n",
        "  #---- Leave these definitions ON if running on laptop\n",
        "  #---- Else turn OFF by putting them between ''' ... '''\n",
        "    sys.path[0:0] = ['../../../../..',  '../../../../../3rdparty',  \n",
        "                   '../../../..',  '../../../../3rdparty',  \n",
        "                   '../../..',     '../../../3rdparty', \n",
        "                   '../..',        '../../3rdparty',\n",
        "                   '..',           '../3rdparty' ]\n",
        "else: # In colab  \n",
        "    ! if [ ! -d Jove ]; then git clone https://github.com/ganeshutah/Jove Jove; fi    \n",
        "    sys.path.append('./Jove')\n",
        "    sys.path.append('./Jove/jove')\n",
        "\n",
        "# -- common imports --\n",
        "from jove.lex import lex\n",
        "from jove.yacc import yacc"
      ]
    },
    {
      "cell_type": "code",
      "execution_count": 2,
      "metadata": {
        "run_control": {
          "frozen": false,
          "read_only": false
        },
        "colab": {
          "base_uri": "https://localhost:8080/"
        },
        "id": "A8LhFOaAl5pm",
        "outputId": "967d74fa-bf9a-43eb-df23-b3f23f2fb2e3"
      },
      "outputs": [
        {
          "output_type": "stream",
          "name": "stderr",
          "text": [
            "Generating LALR tables\n"
          ]
        },
        {
          "name": "stdout",
          "output_type": "stream",
          "text": [
            "calc > END\n"
          ]
        }
      ],
      "source": [
        "tokens = (\n",
        "    'NAME','NUMBER',\n",
        "    'PLUS','MINUS','TIMES','DIVIDE','EQUALS',\n",
        "    'LPAREN','RPAREN', 'UMINUS', 'SUCC' # implement UMINUS and SUCC by listing them here   \n",
        "    )\n",
        "\n",
        "# UMINUS is unary minus, written ~5 (tilde 5) for example\n",
        "# MINUS is infix binary minus written 5-4 for example\n",
        "# SUCC which is postfix like 5@ which is 6\n",
        "\n",
        "# Tokens\n",
        "\n",
        "t_PLUS    = r'\\+'\n",
        "t_TIMES   = r'\\*'\n",
        "t_DIVIDE  = r'/'\n",
        "t_EQUALS  = r'='\n",
        "t_LPAREN  = r'\\('\n",
        "t_RPAREN  = r'\\)'\n",
        "t_NAME    = r'[a-zA-Z_][a-zA-Z0-9_]*'\n",
        "t_UMINUS  = r'\\~' # This is the uminus operator provided for you   \n",
        "t_SUCC    = r'\\@' # This is the succ operator provided for you\n",
        "t_MINUS   = r'-'\n",
        "\n",
        "def t_NUMBER(t):\n",
        "    r'\\d+'\n",
        "    try:\n",
        "        t.value = int(t.value)\n",
        "    except ValueError:\n",
        "        print(\"Integer value too large %d\", t.value)\n",
        "        t.value = 0\n",
        "    return t\n",
        "\n",
        "# Ignored characters\n",
        "t_ignore = \" \\t\"\n",
        "\n",
        "def t_newline(t):\n",
        "    r'\\n+'\n",
        "    t.lexer.lineno += t.value.count(\"\\n\")\n",
        "    \n",
        "def t_error(t):\n",
        "    print(\"Illegal character '%s'\" % t.value[0])\n",
        "    t.lexer.skip(1)\n",
        "    \n",
        "\n",
        "# Parsing rules\n",
        "\n",
        "precedence = (\n",
        "    ('left','PLUS','MINUS'),\n",
        "    ('left','TIMES','DIVIDE'), # you must complete the code below\n",
        "      # List UMINUS to have lower precedence; declare it as 'right' (associative)\n",
        "      # List SUCC to have higher precedence; declare it as 'left' (assocative)\n",
        "    )\n",
        "\n",
        "# dictionary of names\n",
        "names = { }\n",
        "\n",
        "def p_statement_assign(t):\n",
        "    'statement : NAME EQUALS expression'\n",
        "    names[t[1]] = t[3]\n",
        "\n",
        "def p_statement_expr(t):\n",
        "    'statement : expression'\n",
        "    print(t[1])\n",
        "\n",
        "def p_expression_binop(t):\n",
        "    '''expression : expression PLUS expression\n",
        "                  | expression MINUS expression\n",
        "                  | expression TIMES expression\n",
        "                  | expression DIVIDE expression'''\n",
        "    if t[2] == '+'  : t[0] = t[1] + t[3]\n",
        "    elif t[2] == '-': t[0] = t[1] - t[3]\n",
        "    elif t[2] == '*': t[0] = t[1] * t[3]\n",
        "    elif t[2] == '/': t[0] = t[1] / t[3]\n",
        "\n",
        "def p_expression_uminus(t):\n",
        "# Complete the code below\n",
        "    \n",
        "def p_expression_succ(t):  \n",
        "# Complete the code below\n",
        "     \n",
        "def p_expression_group(t):\n",
        "    'expression : LPAREN expression RPAREN'\n",
        "    t[0] = t[2]\n",
        "\n",
        "def p_expression_number(t):\n",
        "    'expression : NUMBER'\n",
        "    t[0] = t[1]\n",
        "\n",
        "def p_expression_name(t):\n",
        "    'expression : NAME'\n",
        "    try:\n",
        "        t[0] = names[t[1]]\n",
        "    except LookupError:\n",
        "        print(\"Undefined name '%s'\" % t[1])\n",
        "        t[0] = 0\n",
        "\n",
        "def p_error(t):\n",
        "    print(\"Syntax error at '%s'\" % t.value)\n",
        " \n",
        "calclexer = lex()\n",
        "calcparser = yacc()\n",
        "\n",
        "while True:\n",
        "    try:\n",
        "        s = input('calc > ')   # Use raw_input on Python 2\n",
        "    except EOFError:\n",
        "        break\n",
        "    if (s=='END'):\n",
        "        break\n",
        "    calcparser.parse(s, lexer=calclexer)\n",
        "\n",
        "# When the calculator prompt comes, type END to get out of it... \n",
        "# test things if you like before typing END"
      ]
    },
    {
      "cell_type": "markdown",
      "metadata": {
        "id": "5dzvB5m_l5pq"
      },
      "source": [
        "## If you implemented SUCC correctly, the test expression for SUCC (below) will work without errors.\n",
        " "
      ]
    },
    {
      "cell_type": "code",
      "execution_count": 3,
      "metadata": {
        "colab": {
          "base_uri": "https://localhost:8080/"
        },
        "id": "5UKNTMcwl5pr",
        "outputId": "20ddfd29-5025-405a-ed6c-ff72dd9da771"
      },
      "outputs": [
        {
          "output_type": "stream",
          "name": "stdout",
          "text": [
            "-4\n"
          ]
        }
      ],
      "source": [
        "calcparser.parse(\"~3@\", lexer=calclexer)"
      ]
    },
    {
      "cell_type": "markdown",
      "metadata": {
        "run_control": {
          "frozen": false,
          "read_only": false
        },
        "id": "GewRNldOl5ps"
      },
      "source": [
        "## Your output must resemble the above."
      ]
    },
    {
      "cell_type": "code",
      "execution_count": 4,
      "metadata": {
        "id": "ePJlFhX7l5pt"
      },
      "outputs": [],
      "source": [
        "test_strings = [\"~3@\", \"~4@@+~5\", \"4@@~~~6\", \"~~6\", \"~~~6\", \"4@@-~~~6\",\"~4@@+~5@\",\"~(4@)@+~5@\",\"~(4@)@+(~5)@\",\"~(4@)@+~(5@)\"]"
      ]
    },
    {
      "cell_type": "code",
      "execution_count": 5,
      "metadata": {
        "colab": {
          "base_uri": "https://localhost:8080/"
        },
        "id": "kY_h-NVRl5pu",
        "outputId": "540b006e-6e25-448c-a19b-86125412ad19"
      },
      "outputs": [
        {
          "output_type": "stream",
          "name": "stdout",
          "text": [
            "-4\n",
            "-11\n",
            "Syntax error at '~'\n",
            "6\n",
            "6\n",
            "-6\n",
            "12\n",
            "-12\n",
            "-12\n",
            "-10\n",
            "-12\n"
          ]
        }
      ],
      "source": [
        "for s in test_strings:\n",
        "    calcparser.parse(s, lexer=calclexer)"
      ]
    },
    {
      "cell_type": "markdown",
      "metadata": {
        "id": "W2lhzH-Xl5pv"
      },
      "source": [
        "# Justify the last two answers as following the right precedences\n",
        "# ...sentence here...\n",
        "# ...sentence here..."
      ]
    }
  ],
  "metadata": {
    "kernelspec": {
      "display_name": "Python 3",
      "language": "python",
      "name": "python3"
    },
    "language_info": {
      "codemirror_mode": {
        "name": "ipython",
        "version": 3
      },
      "file_extension": ".py",
      "mimetype": "text/x-python",
      "name": "python",
      "nbconvert_exporter": "python",
      "pygments_lexer": "ipython3",
      "version": "3.7.3"
    },
    "toc": {
      "colors": {
        "hover_highlight": "#DAA520",
        "running_highlight": "#FF0000",
        "selected_highlight": "#FFD700"
      },
      "moveMenuLeft": true,
      "nav_menu": {
        "height": "318px",
        "width": "252px"
      },
      "navigate_menu": true,
      "number_sections": true,
      "sideBar": true,
      "threshold": 4,
      "toc_cell": false,
      "toc_section_display": "block",
      "toc_window_display": false,
      "widenNotebook": false
    },
    "colab": {
      "provenance": []
    }
  },
  "nbformat": 4,
  "nbformat_minor": 0
}