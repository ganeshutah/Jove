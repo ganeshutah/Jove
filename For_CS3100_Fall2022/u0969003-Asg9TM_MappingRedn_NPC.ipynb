{
  "cells": [
    {
      "cell_type": "code",
      "execution_count": null,
      "metadata": {
        "id": "ReuBKe5-Weqw",
        "run_control": {
          "frozen": false,
          "read_only": false
        }
      },
      "outputs": [],
      "source": [
        "#~~~~~~~~~~~~~~~~~~~~~~~~~~~~~~~~~~~~~~~~~~~~~~~~~~~~~~~\n",
        "import sys\n",
        "\n",
        "# -- Detect if in Own Install or in Colab\n",
        "try:\n",
        "    import google.colab\n",
        "    OWN_INSTALL = False\n",
        "except:\n",
        "    OWN_INSTALL = True\n",
        "    \n",
        "if OWN_INSTALL:\n",
        "    \n",
        "  #---- Leave these definitions ON if running on laptop\n",
        "  #---- Else turn OFF by putting them between ''' ... '''\n",
        "\n",
        "  sys.path[0:0] = ['../../../../..',  '../../../../../3rdparty',  \n",
        "                   '../../../..',  '../../../../3rdparty',  \n",
        "                   '../../..',     '../../../3rdparty', \n",
        "                   '../..',        '../../3rdparty',\n",
        "                   '..',           '../3rdparty' ]\n",
        "\n",
        "else: # In colab\n",
        "  ! if [ ! -d Jove ]; then git clone https://github.com/ganeshutah/Jove Jove; fi\n",
        "  sys.path.append('./Jove')\n",
        "  sys.path.append('./Jove/jove')\n",
        "\n",
        "# -- common imports --\n",
        "from jove.Def_TM     import *\n",
        "from jove.Def_md2mc  import *\n",
        "from jove.DotBashers import *\n",
        "from jove.JoveEditor import *\n",
        "from jove.Def_PDA    import *\n",
        "from jove.AnimateTM import * #-- usage: AnimateTM(whas101DTM, FuseEdges=True)\n",
        "\n",
        "# -- common imports --\n",
        "from jove.PcpJupyterNew import *\n",
        "#~~~~~~~~~~~~~~~~~~~~~~~~~~~~~~~~~~\n",
        "#~~~~~~~~~~~~~~~~~~~~~~~~~~~~~~~~~~~~~~~~~~~~~~~~~~~~~~~"
      ]
    },
    {
      "attachments": {},
      "cell_type": "markdown",
      "metadata": {
        "id": "-cAfGfxhOLMg"
      },
      "source": [
        "#**(1) Answer the 1-pt question from the PDF**\n",
        "## what topic interested you the most?\n",
        "\n",
        "To me, the most interesting topic was Turing machines. I had heard of Turing machines before many times, but I never really understood how they worked until now, so covering that was very insightful for me.\n"
      ]
    },
    {
      "attachments": {},
      "cell_type": "markdown",
      "metadata": {
        "id": "OobYtAkXMG1w"
      },
      "source": [
        "# **(4) TM Design, 6 pts, new, not in PDF**\n",
        "\n",
        "## Design a TM that takes a string in binary, LSB first, and adds 1 to it. It accepts if the result is even. It rejects epsilon.\n",
        "\n",
        "## Examples:\n",
        "\n",
        "### epsilon -don't change-> reject\n",
        "### 0 -change to-> 1 (reject)\n",
        "### 1 -change to-> 01 (accept)\n",
        "### 1011 -change to-> 0111 (accept)\n",
        "### 11111 -change to-> 000001 (accept)\n",
        "#### 0111 -change to-> 1111 (reject)\n",
        "\n"
      ]
    },
    {
      "cell_type": "code",
      "execution_count": null,
      "metadata": {},
      "outputs": [],
      "source": [
        "TM = md2mc('''TM\n",
        "I : 0 ; 1, S -> odd  !! odd and doesn't need any more changes\n",
        "I : 1 ; 0, R -> even_carry  !! even and needs to carry the 1\n",
        "even_carry : 1 ; 1, R -> even_carry  !! even and needs to keep carrying\n",
        "even_carry : 0 ; 1, S -> F_even  !! even and done carrying\n",
        "even_carry : # ; 1#, S -> F_even  !! made it to the end, stops carrying\n",
        "''')\n",
        "dotObj_tm(TM, FuseEdges = True)\n"
      ]
    },
    {
      "cell_type": "markdown",
      "metadata": {
        "id": "GiV7_GGRKTr4"
      },
      "source": [
        "# **(2) Mapping Reduction, 6 pts; plz follow the wording of PDF Q2**\n",
        "\n",
        "## Exercise 15.2.3, PCP Solver in Jove\n",
        "## Look at \"Here is how to build a mapping reduction from Ambiguous CFGs"
      ]
    },
    {
      "attachments": {},
      "cell_type": "markdown",
      "metadata": {
        "id": "-nOdLS6oMm9U"
      },
      "source": [
        "# Provide a proof of the aforesaid mapping reduction. Write down these steps carefully:\n",
        "\n",
        "## 1) If the PCP system (\"the set of tiles\") given has a solution, then the grammar produced via the suggested mapping reduction is ambiguous\n",
        "\n",
        "If the PCP instance has a solution, then we see that the grammar provided can be parsed from $S$ through both $S_A$ and $S_B$, demonstrating that it is ambiguous.\n",
        "\n",
        "## 2) If the PCP system does not have a solution, then the produced grammar is not ambiguous\n",
        "\n",
        "If the PCP system has no solution, then the grammar is not parsed at all and is not ambiguous."
      ]
    },
    {
      "attachments": {},
      "cell_type": "markdown",
      "metadata": {
        "id": "dAiDq_S8Q-b2"
      },
      "source": [
        "# **(3) NPC Question, 6 pts, follow the wording of PDF Q3**\n",
        "\n",
        "a)\n",
        "\n",
        "This construction serves as a P-time mapping reduction because it only takes P-time to iterate each through each literal in each island and connect it to its compatible pairs. Each island that is connected to all other islands can be a TRUE value in the 3-SAT problem, so if each island is fully connected into a k-clique then 3-SAT is solved. If an island is not fully connected in the clique, then combination cannot be TRUE if all the others are true, therefore the 3-SAT problem is a solution **iff** the mapped k-clique problem is a solution.\n",
        "\n",
        "b)\n",
        "\n",
        "Each literal can be connected with each of the 3 literals in the other two islands, so there will be $3\\times3\\times3 = 27$ triangles.\n",
        "\n",
        "c)\n",
        "\n",
        "There are now 3 different literals that can connect with 3 fewer other literals, so there will be $27-3\\times3 = 18$ triangles."
      ]
    },
    {
      "cell_type": "markdown",
      "metadata": {
        "id": "nRoUNlXSWerI"
      },
      "source": [
        "# END"
      ]
    }
  ],
  "metadata": {
    "colab": {
      "provenance": []
    },
    "kernelspec": {
      "display_name": "Python 3.9.13 64-bit (microsoft store)",
      "language": "python",
      "name": "python3"
    },
    "language_info": {
      "codemirror_mode": {
        "name": "ipython",
        "version": 3
      },
      "file_extension": ".py",
      "mimetype": "text/x-python",
      "name": "python",
      "nbconvert_exporter": "python",
      "pygments_lexer": "ipython3",
      "version": "3.9.13 (tags/v3.9.13:6de2ca5, May 17 2022, 16:36:42) [MSC v.1929 64 bit (AMD64)]"
    },
    "toc": {
      "colors": {
        "hover_highlight": "#DAA520",
        "running_highlight": "#FF0000",
        "selected_highlight": "#FFD700"
      },
      "moveMenuLeft": true,
      "nav_menu": {
        "height": "318px",
        "width": "252px"
      },
      "navigate_menu": true,
      "number_sections": true,
      "sideBar": true,
      "threshold": 4,
      "toc_cell": false,
      "toc_section_display": "block",
      "toc_window_display": false,
      "widenNotebook": false
    },
    "vscode": {
      "interpreter": {
        "hash": "5f4ba07150852e74fa74847117914c0a19f8ec002575f8d4b1c0a9de9f55c374"
      }
    }
  },
  "nbformat": 4,
  "nbformat_minor": 0
}
