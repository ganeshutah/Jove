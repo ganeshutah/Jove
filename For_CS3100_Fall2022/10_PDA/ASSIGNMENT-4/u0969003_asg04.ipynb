{
  "cells": [
    {
      "cell_type": "markdown",
      "metadata": {
        "id": "PwYWD2DJyH1_",
        "run_control": {
          "frozen": false,
          "read_only": false
        }
      },
      "source": [
        "# Asg-4 imports \n"
      ]
    },
    {
      "cell_type": "code",
      "execution_count": 556,
      "metadata": {
        "id": "1Xgq_sM8yH2A",
        "run_control": {
          "frozen": false,
          "read_only": false
        },
        "scrolled": true
      },
      "outputs": [],
      "source": [
        "#~~~~~~~~~~~~~~~~~~~~~~~~~~~~~~~~~~~~~~~~~~~~~~~~~~~~~~~\n",
        "import sys\n",
        "\n",
        "# -- Detect if in Own Install or in Colab\n",
        "try:\n",
        "    import google.colab\n",
        "    OWN_INSTALL = False\n",
        "except:\n",
        "    OWN_INSTALL = True\n",
        "    \n",
        "if OWN_INSTALL:\n",
        "    \n",
        "  #---- Leave these definitions ON if running on laptop\n",
        "  #---- Else turn OFF by putting them between ''' ... '''\n",
        "\n",
        "  sys.path[0:0] = ['../../../../..',  '../../../../../3rdparty',  \n",
        "                   '../../../..',  '../../../../3rdparty',  \n",
        "                   '../../..',     '../../../3rdparty', \n",
        "                   '../..',        '../../3rdparty',\n",
        "                   '..',           '../3rdparty' ]\n",
        "\n",
        "else: # In colab\n",
        "  ! if [ ! -d Jove ]; then git clone https://github.com/ganeshutah/Jove Jove; fi\n",
        "  sys.path.append('./Jove')\n",
        "  sys.path.append('./Jove/jove')\n",
        "\n",
        "# -- common imports --\n",
        "from jove.DotBashers import *\n",
        "from jove.Def_md2mc  import *\n",
        "from jove.AnimatePDA import *\n",
        "from jove.Def_PDA    import *\n",
        "#~~~~~~~~~~~~~~~~~~~~~~~~~~~~~~~~~~~~~~~~~~~~~~~~~~~~~~~"
      ]
    },
    {
      "cell_type": "markdown",
      "metadata": {
        "id": "9DWYCndfyH1-"
      },
      "source": [
        "## Question 1: \n",
        " "
      ]
    },
    {
      "cell_type": "markdown",
      "metadata": {
        "id": "vs-OI0ooqI9N"
      },
      "source": [
        "Prove that this language is not regular \n",
        "\n",
        "$L_{if} = \\{ a^i b^j c^k \\;:\\; i,j,k\\ge 0,\\; {\\rm and}\\; {\\rm if}\\; (i=2)\\; {\\rm then}\\; (j=k)  \\}$\n",
        "\n",
        "Hint: Consider the reverse of $L_{if}$ calling it the language $LR_{if}$, prove that $LR_{if}$ is non-regular using the Pumping Lemma. Then, justify why this means that $L_{if}$ is non-regular.\n"
      ]
    },
    {
      "cell_type": "markdown",
      "metadata": {
        "id": "Jpw2HZKZqNim"
      },
      "source": [
        "ANSWER \n",
        "\n",
        "- Consider the reverse of $L_{if}$, called $LR_{if}$\n",
        "- Consider a $w$ in $LR_{if}$\n",
        "- Let $w = c^{N/2}b^{N/2}a^2 = xyz, |xy| \\leq N, y \\neq \\epsilon$\n",
        "  1. $x = c^{N/2}$\n",
        "  2. $y = b^{N/2}$\n",
        "  3. $z = a^2$\n",
        "- We pump $y$ down such that $w = xy^0z$, and we find that $j \\neq k$, thus the string $xy^0z \\notin LR_{if}$, thus $LR_{if}$ is not regular by the pumping lemma.\n",
        "- The reverse of $L_{if}$ is not regular, therefore $L_{if}$ is not regular."
      ]
    },
    {
      "cell_type": "markdown",
      "metadata": {
        "id": "hql4ESGnyH1_"
      },
      "source": [
        "## Question 2:"
      ]
    },
    {
      "cell_type": "markdown",
      "metadata": {
        "id": "WnLP1lkhqUn-"
      },
      "source": [
        "Prove that language $Add$ is not regular \n",
        "\n",
        "Add = {x = y + z where x, y, and z are binary numbers and the addition yields correct result}\n",
        "          \n",
        "More examples of strings in the language $Add$ are below:\n",
        "\n",
        "* String s1 = \"$101=10+11$\" \n",
        "\n",
        "* String s2 = \"$1000 = 100 + 100$\"\n",
        "\n",
        "* String s3 = \"$1011 = 110 + 101$\""
      ]
    },
    {
      "cell_type": "markdown",
      "metadata": {
        "id": "1EFiFyBirWhO"
      },
      "source": [
        "ANSWER\n",
        "\n",
        "- Consider a $w \\in Add$, where $x=y$, $x$ and $y$ are both binary numbers consisting of only $1$'s, and $z$ is the number $0$\n",
        "- More specifically, let $w = \"1^{N} = 1^N + 0\"$\n",
        "- We view $w$ as $xy^iz$ such that:\n",
        "  1. $x = \\epsilon$\n",
        "  2. $y = 1^N$\n",
        "  3. $z = \"= \\{1^N\\} + 0\"$\n",
        "  4. $|xy| = N$\n",
        "- We set $i = 2$, such that $xy^iz = xy^2z = \"1^{2N} = 1^N + 0\"$.\n",
        "- $1^{2N} \\neq 1^N \\therefore xy^2z \\notin Add \\therefore$ $Add$ is not regular by the pumping lemma"
      ]
    },
    {
      "cell_type": "markdown",
      "metadata": {
        "id": "lvqcw1nwqlTL"
      },
      "source": [
        "## Question 3:"
      ]
    },
    {
      "cell_type": "markdown",
      "metadata": {
        "id": "eBDJu0_8qnSI"
      },
      "source": [
        "Design a PDA called \"a2b\" for the language $\\{a^i b^j : i,j\\ge 0, {\\rm and}\\; j = 2i \\}$.\n",
        "- Some strings in such language are: $abb$, $aabbbb$, $aaabbbbbb$, etc.\n",
        "- Put a \"header block\" of comments (before you list the PDA transitions) that describes the overall stacking strategy. For example:\n",
        "  - !! The PDA uses the stack in THIS WAY while a's arrive\n",
        "  - !! Then when b's arrive, the PDA does THIS\n",
        "  - !! After b's, if $a$'s arrive, the PDA does THIS\n",
        "- After that, fully document your design (line by line)\n",
        "- Then, test your PDA on these strings\n",
        "  1. $\\varepsilon$ (accept)\n",
        "\n",
        "  2. $abb$ (accept)\n",
        "\n",
        "  3. $aabbbb$ (accept)\n",
        "\n",
        "  4. $aaabbbbbb$ (accept)\n",
        "\n",
        "  5. $ab$ (reject)\n",
        "\n",
        "  6. $b$ (reject)\n",
        "\n",
        "  7. $aba$ (reject)\n",
        "\n",
        "  8. $abba$ (reject)\n",
        "- Finally, add two more accepting and two more rejecting tests of your own."
      ]
    },
    {
      "cell_type": "markdown",
      "metadata": {
        "id": "KydC8uUYs3SL"
      },
      "source": [
        "### Given test cases:"
      ]
    },
    {
      "cell_type": "code",
      "execution_count": 557,
      "metadata": {
        "id": "BNUyi9p5yH2B"
      },
      "outputs": [],
      "source": [
        "a2b = md2mc('''\n",
        "PDA\n",
        "\n",
        "!! Overall Algorithm:\n",
        "\n",
        "!! For every 'a' received, push 'aa' on to the stack, \n",
        "!! then pop the top 'a' every time a 'b' is received.\n",
        "!! No a's are accepted after b's (because b's are never pushed)\n",
        "\n",
        "!! Now a line-by-line description\n",
        "IF : a, #; aa# -> A  !! push 'aa' when stack top has # and a single 'a' is read\n",
        "A  : a, a; aaa -> A  !! push 'aa' when stack top has 'a' and an 'a' is read\n",
        "A  : b, a; '' -> A   !! cancel the top 'a' and incoming 'b' and push nothing\n",
        "A  : '',#; #  -> IF  !! accept if stack is empty\n",
        "\n",
        "''')"
      ]
    },
    {
      "cell_type": "code",
      "execution_count": 558,
      "metadata": {
        "id": "GmL0xdfIyH2B",
        "outputId": "324b886a-001b-4545-b3ab-df2b25c88943",
        "colab": {
          "base_uri": "https://localhost:8080/",
          "height": 175
        }
      },
      "outputs": [
        {
          "output_type": "execute_result",
          "data": {
            "text/plain": [
              "<graphviz.dot.Digraph at 0x7f9e67198f50>"
            ],
            "image/svg+xml": "<?xml version=\"1.0\" encoding=\"UTF-8\" standalone=\"no\"?>\n<!DOCTYPE svg PUBLIC \"-//W3C//DTD SVG 1.1//EN\"\n \"http://www.w3.org/Graphics/SVG/1.1/DTD/svg11.dtd\">\n<!-- Generated by graphviz version 2.40.1 (20161225.0304)\n -->\n<!-- Title: %3 Pages: 1 -->\n<svg width=\"275pt\" height=\"115pt\"\n viewBox=\"0.00 0.00 275.20 115.03\" xmlns=\"http://www.w3.org/2000/svg\" xmlns:xlink=\"http://www.w3.org/1999/xlink\">\n<g id=\"graph0\" class=\"graph\" transform=\"scale(1 1) rotate(0) translate(4 111.0261)\">\n<title>%3</title>\n<polygon fill=\"#ffffff\" stroke=\"transparent\" points=\"-4,4 -4,-111.0261 271.1967,-111.0261 271.1967,4 -4,4\"/>\n<!-- EMPTY -->\n<g id=\"node1\" class=\"node\">\n<title>EMPTY</title>\n</g>\n<!-- IF -->\n<g id=\"node3\" class=\"node\">\n<title>IF</title>\n<ellipse fill=\"none\" stroke=\"#000000\" cx=\"113.8483\" cy=\"-23.0261\" rx=\"18.724\" ry=\"18.724\"/>\n<ellipse fill=\"none\" stroke=\"#000000\" cx=\"113.8483\" cy=\"-23.0261\" rx=\"22.6977\" ry=\"22.6977\"/>\n<text text-anchor=\"middle\" x=\"113.8483\" y=\"-19.3261\" font-family=\"Times,serif\" font-size=\"14.00\" fill=\"#000000\">IF</text>\n</g>\n<!-- EMPTY&#45;&gt;IF -->\n<g id=\"edge1\" class=\"edge\">\n<title>EMPTY&#45;&gt;IF</title>\n<path fill=\"none\" stroke=\"#000000\" d=\"M54.0033,-23.0261C62.5212,-23.0261 72.0276,-23.0261 80.9112,-23.0261\"/>\n<polygon fill=\"#000000\" stroke=\"#000000\" points=\"80.9572,-26.5262 90.9572,-23.0261 80.9572,-19.5262 80.9572,-26.5262\"/>\n</g>\n<!-- A -->\n<g id=\"node2\" class=\"node\">\n<title>A</title>\n<ellipse fill=\"none\" stroke=\"#000000\" cx=\"242.6967\" cy=\"-23.0261\" rx=\"18\" ry=\"18\"/>\n<text text-anchor=\"middle\" x=\"242.6967\" y=\"-19.3261\" font-family=\"Times,serif\" font-size=\"14.00\" fill=\"#000000\">A</text>\n</g>\n<!-- A&#45;&gt;A -->\n<g id=\"edge3\" class=\"edge\">\n<title>A&#45;&gt;A</title>\n<path fill=\"none\" stroke=\"#000000\" d=\"M237.1623,-40.436C236.1292,-50.114 237.974,-59.0261 242.6967,-59.0261 245.6483,-59.0261 247.4758,-55.5449 248.1791,-50.5711\"/>\n<polygon fill=\"#000000\" stroke=\"#000000\" points=\"251.6797,-50.4539 248.231,-40.436 244.6798,-50.418 251.6797,-50.4539\"/>\n<text text-anchor=\"middle\" x=\"242.6967\" y=\"-62.8261\" font-family=\"Times,serif\" font-size=\"14.00\" fill=\"#000000\">a, a ; aaa</text>\n</g>\n<!-- A&#45;&gt;A -->\n<g id=\"edge4\" class=\"edge\">\n<title>A&#45;&gt;A</title>\n<path fill=\"none\" stroke=\"#000000\" d=\"M233.9779,-39.0574C228.1654,-56.7761 231.0717,-77.0261 242.6967,-77.0261 252.142,-77.0261 255.8315,-63.658 253.7654,-49.141\"/>\n<polygon fill=\"#000000\" stroke=\"#000000\" points=\"257.0938,-48.002 251.4154,-39.0574 250.2765,-49.5908 257.0938,-48.002\"/>\n<text text-anchor=\"middle\" x=\"242.6967\" y=\"-80.8261\" font-family=\"Times,serif\" font-size=\"14.00\" fill=\"#000000\">b, a ; &#39;&#39;</text>\n</g>\n<!-- A&#45;&gt;IF -->\n<g id=\"edge5\" class=\"edge\">\n<title>A&#45;&gt;IF</title>\n<path fill=\"none\" stroke=\"#000000\" d=\"M227.591,-12.9561C221.3899,-9.3943 213.968,-5.8272 206.6967,-4.0261 184.2635,1.5305 177.2623,.9651 154.6967,-4.0261 150.9642,-4.8517 147.168,-6.0546 143.4685,-7.4607\"/>\n<polygon fill=\"#000000\" stroke=\"#000000\" points=\"141.8091,-4.3646 134.0115,-11.5373 144.5802,-10.7927 141.8091,-4.3646\"/>\n<text text-anchor=\"middle\" x=\"180.6967\" y=\"-7.8261\" font-family=\"Times,serif\" font-size=\"14.00\" fill=\"#000000\">&#39;&#39;, # ; #</text>\n</g>\n<!-- IF&#45;&gt;A -->\n<g id=\"edge2\" class=\"edge\">\n<title>IF&#45;&gt;A</title>\n<path fill=\"none\" stroke=\"#000000\" d=\"M136.8838,-23.0261C158.505,-23.0261 190.9117,-23.0261 214.161,-23.0261\"/>\n<polygon fill=\"#000000\" stroke=\"#000000\" points=\"214.4388,-26.5262 224.4388,-23.0261 214.4388,-19.5262 214.4388,-26.5262\"/>\n<text text-anchor=\"middle\" x=\"180.6967\" y=\"-26.8261\" font-family=\"Times,serif\" font-size=\"14.00\" fill=\"#000000\">a, # ; aa#</text>\n</g>\n</g>\n</svg>\n"
          },
          "metadata": {},
          "execution_count": 558
        }
      ],
      "source": [
        "dotObj_pda(a2b)"
      ]
    },
    {
      "cell_type": "code",
      "execution_count": 559,
      "metadata": {
        "id": "-I9wnqF0yH2B",
        "outputId": "55bf5753-1534-4bef-95a9-4ab16ae83db2",
        "colab": {
          "base_uri": "https://localhost:8080/"
        }
      },
      "outputs": [
        {
          "output_type": "stream",
          "name": "stdout",
          "text": [
            "String  accepted by your PDA in 1 ways :-) \n",
            "Here are the ways: \n",
            "Final state  ('IF', '', '#')\n",
            "Reached as follows:\n",
            "->  ('IF', '', '#') .\n"
          ]
        }
      ],
      "source": [
        "explore_pda('', a2b)"
      ]
    },
    {
      "cell_type": "code",
      "execution_count": 560,
      "metadata": {
        "id": "LkT2W1m2yH2B",
        "outputId": "66abb5a2-8b16-4912-a61b-e5eb16d333fe",
        "colab": {
          "base_uri": "https://localhost:8080/"
        }
      },
      "outputs": [
        {
          "output_type": "stream",
          "name": "stdout",
          "text": [
            "String abb accepted by your PDA in 1 ways :-) \n",
            "Here are the ways: \n",
            "Final state  ('IF', '', '#')\n",
            "Reached as follows:\n",
            "->  ('IF', 'abb', '#')\n",
            "->  ('A', 'bb', 'aa#')\n",
            "->  ('A', 'b', 'a#')\n",
            "->  ('A', '', '#')\n",
            "->  ('IF', '', '#') .\n"
          ]
        }
      ],
      "source": [
        "explore_pda('abb', a2b)"
      ]
    },
    {
      "cell_type": "code",
      "execution_count": 561,
      "metadata": {
        "id": "gfbSu77gyH2B",
        "outputId": "fd7c523b-48f1-4337-c4a5-70303e791e69",
        "colab": {
          "base_uri": "https://localhost:8080/"
        }
      },
      "outputs": [
        {
          "output_type": "stream",
          "name": "stdout",
          "text": [
            "String aabbbb accepted by your PDA in 1 ways :-) \n",
            "Here are the ways: \n",
            "Final state  ('IF', '', '#')\n",
            "Reached as follows:\n",
            "->  ('IF', 'aabbbb', '#')\n",
            "->  ('A', 'abbbb', 'aa#')\n",
            "->  ('A', 'bbbb', 'aaaa#')\n",
            "->  ('A', 'bbb', 'aaa#')\n",
            "->  ('A', 'bb', 'aa#')\n",
            "->  ('A', 'b', 'a#')\n",
            "->  ('A', '', '#')\n",
            "->  ('IF', '', '#') .\n"
          ]
        }
      ],
      "source": [
        "explore_pda('aabbbb', a2b)"
      ]
    },
    {
      "cell_type": "code",
      "execution_count": 562,
      "metadata": {
        "id": "Wvh5l8LgyH2C",
        "outputId": "b5fb3c4e-fa07-4e8f-a48a-b0de853c85fa",
        "colab": {
          "base_uri": "https://localhost:8080/"
        }
      },
      "outputs": [
        {
          "output_type": "stream",
          "name": "stdout",
          "text": [
            "String aaabbbbbb accepted by your PDA in 1 ways :-) \n",
            "Here are the ways: \n",
            "Final state  ('IF', '', '#')\n",
            "Reached as follows:\n",
            "->  ('IF', 'aaabbbbbb', '#')\n",
            "->  ('A', 'aabbbbbb', 'aa#')\n",
            "->  ('A', 'abbbbbb', 'aaaa#')\n",
            "->  ('A', 'bbbbbb', 'aaaaaa#')\n",
            "->  ('A', 'bbbbb', 'aaaaa#')\n",
            "->  ('A', 'bbbb', 'aaaa#')\n",
            "->  ('A', 'bbb', 'aaa#')\n",
            "->  ('A', 'bb', 'aa#')\n",
            "->  ('A', 'b', 'a#')\n",
            "->  ('A', '', '#')\n",
            "->  ('IF', '', '#') .\n"
          ]
        }
      ],
      "source": [
        "explore_pda('aaabbbbbb', a2b)"
      ]
    },
    {
      "cell_type": "code",
      "execution_count": 563,
      "metadata": {
        "id": "d6cB517ZyH2C",
        "outputId": "29f4ac4d-e808-4034-fa1d-bc18aba234e4",
        "colab": {
          "base_uri": "https://localhost:8080/"
        }
      },
      "outputs": [
        {
          "output_type": "stream",
          "name": "stdout",
          "text": [
            "String ab rejected by your PDA :-(\n",
            "Visited states are:\n",
            "{('A', 'b', 'aa#'), ('IF', 'ab', '#'), ('A', '', 'a#')}\n"
          ]
        }
      ],
      "source": [
        "explore_pda('ab', a2b)"
      ]
    },
    {
      "cell_type": "code",
      "execution_count": 564,
      "metadata": {
        "id": "CwwJSo7vyH2C",
        "outputId": "cd88633f-7805-4731-d09d-70663133284c",
        "colab": {
          "base_uri": "https://localhost:8080/"
        }
      },
      "outputs": [
        {
          "output_type": "stream",
          "name": "stdout",
          "text": [
            "String b rejected by your PDA :-(\n",
            "Visited states are:\n",
            "{('IF', 'b', '#')}\n"
          ]
        }
      ],
      "source": [
        "explore_pda('b', a2b)"
      ]
    },
    {
      "cell_type": "code",
      "execution_count": 565,
      "metadata": {
        "id": "3KMkj2zcyH2C",
        "outputId": "f77b4fd6-7dd2-444c-aa54-e652fd8e9b68",
        "colab": {
          "base_uri": "https://localhost:8080/"
        }
      },
      "outputs": [
        {
          "output_type": "stream",
          "name": "stdout",
          "text": [
            "String aba rejected by your PDA :-(\n",
            "Visited states are:\n",
            "{('A', 'a', 'a#'), ('A', '', 'aaa#'), ('A', 'ba', 'aa#'), ('IF', 'aba', '#')}\n"
          ]
        }
      ],
      "source": [
        "explore_pda('aba', a2b)"
      ]
    },
    {
      "cell_type": "code",
      "execution_count": 566,
      "metadata": {
        "id": "6P5QjKeMyH2C",
        "outputId": "af9857c6-464d-4aa4-a27a-91eb6458a88c",
        "colab": {
          "base_uri": "https://localhost:8080/"
        }
      },
      "outputs": [
        {
          "output_type": "stream",
          "name": "stdout",
          "text": [
            "String abba rejected by your PDA :-(\n",
            "Visited states are:\n",
            "{('A', 'ba', 'a#'), ('A', '', 'aa#'), ('A', 'a', '#'), ('IF', 'abba', '#'), ('IF', 'a', '#'), ('A', 'bba', 'aa#')}\n"
          ]
        }
      ],
      "source": [
        "explore_pda('abba', a2b)"
      ]
    },
    {
      "cell_type": "markdown",
      "metadata": {
        "id": "3PJK79yayH2D"
      },
      "source": [
        "### Add your own test cases here:"
      ]
    },
    {
      "cell_type": "code",
      "execution_count": 567,
      "metadata": {
        "id": "feTF43KyyH2D",
        "outputId": "770d6136-5ba6-418e-f355-337cd5bcbe63",
        "colab": {
          "base_uri": "https://localhost:8080/"
        }
      },
      "outputs": [
        {
          "output_type": "stream",
          "name": "stdout",
          "text": [
            "String aaaabbbbbbbb accepted by your PDA in 1 ways :-) \n",
            "Here are the ways: \n",
            "Final state  ('IF', '', '#')\n",
            "Reached as follows:\n",
            "->  ('IF', 'aaaabbbbbbbb', '#')\n",
            "->  ('A', 'aaabbbbbbbb', 'aa#')\n",
            "->  ('A', 'aabbbbbbbb', 'aaaa#')\n",
            "->  ('A', 'abbbbbbbb', 'aaaaaa#')\n",
            "->  ('A', 'bbbbbbbb', 'aaaaaaaa#')\n",
            "->  ('A', 'bbbbbbb', 'aaaaaaa#')\n",
            "->  ('A', 'bbbbbb', 'aaaaaa#')\n",
            "->  ('A', 'bbbbb', 'aaaaa#')\n",
            "->  ('A', 'bbbb', 'aaaa#')\n",
            "->  ('A', 'bbb', 'aaa#')\n",
            "->  ('A', 'bb', 'aa#')\n",
            "->  ('A', 'b', 'a#')\n",
            "->  ('A', '', '#')\n",
            "->  ('IF', '', '#') .\n",
            "String aaaaabbbbbbbbbb accepted by your PDA in 1 ways :-) \n",
            "Here are the ways: \n",
            "Final state  ('IF', '', '#')\n",
            "Reached as follows:\n",
            "->  ('IF', 'aaaaabbbbbbbbbb', '#')\n",
            "->  ('A', 'aaaabbbbbbbbbb', 'aa#')\n",
            "->  ('A', 'aaabbbbbbbbbb', 'aaaa#')\n",
            "->  ('A', 'aabbbbbbbbbb', 'aaaaaa#')\n",
            "->  ('A', 'abbbbbbbbbb', 'aaaaaaaa#')\n",
            "->  ('A', 'bbbbbbbbbb', 'aaaaaaaaaa#')\n",
            "->  ('A', 'bbbbbbbbb', 'aaaaaaaaa#')\n",
            "->  ('A', 'bbbbbbbb', 'aaaaaaaa#')\n",
            "->  ('A', 'bbbbbbb', 'aaaaaaa#')\n",
            "->  ('A', 'bbbbbb', 'aaaaaa#')\n",
            "->  ('A', 'bbbbb', 'aaaaa#')\n",
            "->  ('A', 'bbbb', 'aaaa#')\n",
            "->  ('A', 'bbb', 'aaa#')\n",
            "->  ('A', 'bb', 'aa#')\n",
            "->  ('A', 'b', 'a#')\n",
            "->  ('A', '', '#')\n",
            "->  ('IF', '', '#') .\n",
            "String abbbba rejected by your PDA :-(\n",
            "Visited states are:\n",
            "{('A', 'bbbba', 'aa#'), ('A', 'bba', '#'), ('A', 'bbba', 'a#'), ('IF', 'abbbba', '#'), ('IF', 'bba', '#')}\n",
            "String ba rejected by your PDA :-(\n",
            "Visited states are:\n",
            "{('IF', 'ba', '#')}\n"
          ]
        }
      ],
      "source": [
        "# Accept\n",
        "explore_pda('aaaabbbbbbbb', a2b)  # 4 a's\n",
        "explore_pda('aaaaabbbbbbbbbb', a2b)  # 5 a's\n",
        "\n",
        "# Reject\n",
        "explore_pda('abbbba', a2b)  # correct ratio, wrong order\n",
        "explore_pda('ba', a2b)  # wrong order"
      ]
    },
    {
      "cell_type": "markdown",
      "metadata": {
        "id": "5ttGubLrr3OU"
      },
      "source": [
        "## Question 4:"
      ]
    },
    {
      "cell_type": "markdown",
      "metadata": {
        "id": "HgHEIsUrr92k"
      },
      "source": [
        "Design a PDA for language Lif in question 1. \n",
        "\n",
        "- Hint: when a = 2, the PDA matches b's and c's (using the stack for this match). Else, it only checks their order of arrival (and simply ignores the stack).\n",
        "- Test your PDA on these strings:\n",
        "  - aabbbccc   (accept)\n",
        "  - aabbbbcccc (accept)\n",
        "  - aa         (accept)\n",
        "  - abbbcccc (accept)\n",
        "  - aaabbc   (accept)\n",
        "  - Epsilon    (accept, as there are zero a's)\n",
        "  - abbcc    (accept, as there is no constraint to not match b's and c's if two a's)\n",
        "  - cb        (reject)\n",
        "  - aabbcca (reject)\n",
        "  - abba     (reject)\n",
        "  - ccac       (reject)\n",
        "  - abba       (reject)\n",
        "  - baac       (reject)\n",
        "  - ac         (accept)\n",
        "- Then add three more accepting test cases and three more rejecting test cases. Document the tests saying why they must pass/fail"
      ]
    },
    {
      "cell_type": "code",
      "execution_count": 568,
      "metadata": {
        "id": "qOGCbbuJyH2D"
      },
      "outputs": [],
      "source": [
        "Lif = md2mc('''\n",
        "PDA\n",
        "\n",
        "!! Overall Algorithm:\n",
        "!! Stay in IF unless:\n",
        "!! 1. There are 2 a's at the beginning of the string, and \n",
        "!! 2. A 'b' has been received.\n",
        "!! In IF, verify that all a's are before all b's are before all c's.\n",
        "!! In B, push every 'b' until one 'c' is received, then pop the top 'b'.\n",
        "!! In C, pop a 'b' for every 'c' received, until the stack has 'a' on top\n",
        "\n",
        " \n",
        "!! Now a line-by-line description\n",
        "IF : a, # ; 1# -> IF !! Put 1 when getting an initial 'a'\n",
        "IF : a, 1 ; 2 -> IF  !! Replace 1 with 2 when getting a 2nd 'a'\n",
        "IF : a, 2 ; a -> IF  !! Replace 2 with a when getting a 3rd 'a'\n",
        "IF : b, 2 ; ba -> B  !! Replace 2 with 'ba' when getting 'b' after a 2nd 'a',\n",
        "                     !! transition to B\n",
        "\n",
        "IF : a, a ; a -> IF  !! Leave 'a' on stack when getting another 'a'\n",
        "\n",
        "IF : b, # ; b# -> IF !! Push 'b' when getting an initial 'b'\n",
        "IF : b, 1 ; b -> IF  !! Pop then push 'b' if there's a '1'\n",
        "IF : b, a ; b -> IF  !! Pop then push 'b' when if 'a' is on top\n",
        "IF : b, b ; b -> IF  !! Leave 'b' if getting a 'b'\n",
        "\n",
        "IF : c, # ; c# -> IF !! Pop then push 'c' when getting an initial 'c'\n",
        "IF : c, 1 ; c -> IF  !! Pop then push 'c' if there's a '1'\n",
        "IF : c, b ; c -> IF  !! Pop then push 'c' when 'b' is on top\n",
        "IF : c, a ; c -> IF  !! Pop then push 'c' when 'a' is on top\n",
        "IF : c, c ; c -> IF  !! Leave 'c' if getting a 'c'\n",
        "\n",
        "\n",
        "B : b, b ; bb -> B   !! Push 'b' if 'b' is on top\n",
        "B : c, b ; '' -> C   !! Pop if getting 'c' when 'b' is on top, go to C\n",
        "\n",
        "C : c, b ; '' -> C   !! Pop if getting 'c' if there is still a 'b' left\n",
        "C : '', a ; '' -> F  !! Go to F if 'a' is on top\n",
        "\n",
        "''')"
      ]
    },
    {
      "cell_type": "code",
      "execution_count": 569,
      "metadata": {
        "id": "Qyzpk_0byH2E",
        "outputId": "07d68768-4266-4703-8640-5a78adfe7b2d",
        "colab": {
          "base_uri": "https://localhost:8080/",
          "height": 665
        }
      },
      "outputs": [
        {
          "output_type": "execute_result",
          "data": {
            "text/plain": [
              "<graphviz.dot.Digraph at 0x7f9e67118e90>"
            ],
            "image/svg+xml": "<?xml version=\"1.0\" encoding=\"UTF-8\" standalone=\"no\"?>\n<!DOCTYPE svg PUBLIC \"-//W3C//DTD SVG 1.1//EN\"\n \"http://www.w3.org/Graphics/SVG/1.1/DTD/svg11.dtd\">\n<!-- Generated by graphviz version 2.40.1 (20161225.0304)\n -->\n<!-- Title: %3 Pages: 1 -->\n<svg width=\"488pt\" height=\"483pt\"\n viewBox=\"0.00 0.00 487.70 482.70\" xmlns=\"http://www.w3.org/2000/svg\" xmlns:xlink=\"http://www.w3.org/1999/xlink\">\n<g id=\"graph0\" class=\"graph\" transform=\"scale(1 1) rotate(0) translate(4 478.6967)\">\n<title>%3</title>\n<polygon fill=\"#ffffff\" stroke=\"transparent\" points=\"-4,4 -4,-478.6967 483.6967,-478.6967 483.6967,4 -4,4\"/>\n<!-- EMPTY -->\n<g id=\"node1\" class=\"node\">\n<title>EMPTY</title>\n</g>\n<!-- IF -->\n<g id=\"node4\" class=\"node\">\n<title>IF</title>\n<ellipse fill=\"none\" stroke=\"#000000\" cx=\"113.8483\" cy=\"-22.8483\" rx=\"18.724\" ry=\"18.724\"/>\n<ellipse fill=\"none\" stroke=\"#000000\" cx=\"113.8483\" cy=\"-22.8483\" rx=\"22.6977\" ry=\"22.6977\"/>\n<text text-anchor=\"middle\" x=\"113.8483\" y=\"-19.1483\" font-family=\"Times,serif\" font-size=\"14.00\" fill=\"#000000\">IF</text>\n</g>\n<!-- EMPTY&#45;&gt;IF -->\n<g id=\"edge1\" class=\"edge\">\n<title>EMPTY&#45;&gt;IF</title>\n<path fill=\"none\" stroke=\"#000000\" d=\"M54.0033,-22.8483C62.5212,-22.8483 72.0276,-22.8483 80.9112,-22.8483\"/>\n<polygon fill=\"#000000\" stroke=\"#000000\" points=\"80.9572,-26.3484 90.9572,-22.8483 80.9572,-19.3484 80.9572,-26.3484\"/>\n</g>\n<!-- C -->\n<g id=\"node2\" class=\"node\">\n<title>C</title>\n<ellipse fill=\"none\" stroke=\"#000000\" cx=\"347.6967\" cy=\"-22.8483\" rx=\"18\" ry=\"18\"/>\n<text text-anchor=\"middle\" x=\"347.6967\" y=\"-19.1483\" font-family=\"Times,serif\" font-size=\"14.00\" fill=\"#000000\">C</text>\n</g>\n<!-- C&#45;&gt;C -->\n<g id=\"edge18\" class=\"edge\">\n<title>C&#45;&gt;C</title>\n<path fill=\"none\" stroke=\"#000000\" d=\"M338.7179,-38.7644C336.3756,-48.9987 339.3685,-58.8483 347.6967,-58.8483 353.162,-58.8483 356.3296,-54.6065 357.1996,-48.7977\"/>\n<polygon fill=\"#000000\" stroke=\"#000000\" points=\"360.6925,-48.5681 356.6754,-38.7644 353.702,-48.9334 360.6925,-48.5681\"/>\n<text text-anchor=\"middle\" x=\"347.6967\" y=\"-62.6483\" font-family=\"Times,serif\" font-size=\"14.00\" fill=\"#000000\">c, b ; &#39;&#39;</text>\n</g>\n<!-- F -->\n<g id=\"node5\" class=\"node\">\n<title>F</title>\n<ellipse fill=\"none\" stroke=\"#000000\" cx=\"457.6967\" cy=\"-22.8483\" rx=\"18\" ry=\"18\"/>\n<ellipse fill=\"none\" stroke=\"#000000\" cx=\"457.6967\" cy=\"-22.8483\" rx=\"22\" ry=\"22\"/>\n<text text-anchor=\"middle\" x=\"457.6967\" y=\"-19.1483\" font-family=\"Times,serif\" font-size=\"14.00\" fill=\"#000000\">F</text>\n</g>\n<!-- C&#45;&gt;F -->\n<g id=\"edge19\" class=\"edge\">\n<title>C&#45;&gt;F</title>\n<path fill=\"none\" stroke=\"#000000\" d=\"M365.8609,-22.8483C381.9249,-22.8483 405.7477,-22.8483 425.1041,-22.8483\"/>\n<polygon fill=\"#000000\" stroke=\"#000000\" points=\"425.3205,-26.3484 435.3205,-22.8483 425.3205,-19.3484 425.3205,-26.3484\"/>\n<text text-anchor=\"middle\" x=\"400.6967\" y=\"-26.6483\" font-family=\"Times,serif\" font-size=\"14.00\" fill=\"#000000\">&#39;&#39;, a ; &#39;&#39;</text>\n</g>\n<!-- B -->\n<g id=\"node3\" class=\"node\">\n<title>B</title>\n<ellipse fill=\"none\" stroke=\"#000000\" cx=\"238.6967\" cy=\"-22.8483\" rx=\"18\" ry=\"18\"/>\n<text text-anchor=\"middle\" x=\"238.6967\" y=\"-19.1483\" font-family=\"Times,serif\" font-size=\"14.00\" fill=\"#000000\">B</text>\n</g>\n<!-- B&#45;&gt;C -->\n<g id=\"edge17\" class=\"edge\">\n<title>B&#45;&gt;C</title>\n<path fill=\"none\" stroke=\"#000000\" d=\"M257.187,-22.8483C274.2014,-22.8483 299.6911,-22.8483 319.289,-22.8483\"/>\n<polygon fill=\"#000000\" stroke=\"#000000\" points=\"319.4794,-26.3484 329.4794,-22.8483 319.4793,-19.3484 319.4794,-26.3484\"/>\n<text text-anchor=\"middle\" x=\"293.1967\" y=\"-26.6483\" font-family=\"Times,serif\" font-size=\"14.00\" fill=\"#000000\">c, b ; &#39;&#39;</text>\n</g>\n<!-- B&#45;&gt;B -->\n<g id=\"edge16\" class=\"edge\">\n<title>B&#45;&gt;B</title>\n<path fill=\"none\" stroke=\"#000000\" d=\"M229.464,-38.3898C226.8652,-48.757 229.9427,-58.8483 238.6967,-58.8483 244.4414,-58.8483 247.7416,-54.5024 248.5971,-48.5845\"/>\n<polygon fill=\"#000000\" stroke=\"#000000\" points=\"252.0755,-48.1396 247.9293,-38.3898 245.0905,-48.5972 252.0755,-48.1396\"/>\n<text text-anchor=\"middle\" x=\"238.6967\" y=\"-62.6483\" font-family=\"Times,serif\" font-size=\"14.00\" fill=\"#000000\">b, b ; bb</text>\n</g>\n<!-- IF&#45;&gt;B -->\n<g id=\"edge5\" class=\"edge\">\n<title>IF&#45;&gt;B</title>\n<path fill=\"none\" stroke=\"#000000\" d=\"M136.7474,-22.8483C157.4372,-22.8483 187.9676,-22.8483 210.2233,-22.8483\"/>\n<polygon fill=\"#000000\" stroke=\"#000000\" points=\"210.4048,-26.3484 220.4047,-22.8483 210.4047,-19.3484 210.4048,-26.3484\"/>\n<text text-anchor=\"middle\" x=\"178.6967\" y=\"-26.6483\" font-family=\"Times,serif\" font-size=\"14.00\" fill=\"#000000\">b, 2 ; ba</text>\n</g>\n<!-- IF&#45;&gt;IF -->\n<g id=\"edge2\" class=\"edge\">\n<title>IF&#45;&gt;IF</title>\n<path fill=\"none\" stroke=\"#000000\" d=\"M112.3615,-45.9444C112.259,-55.5523 112.7546,-63.6967 113.8483,-63.6967 114.5148,-63.6967 114.9592,-60.6723 115.1815,-56.1355\"/>\n<polygon fill=\"#000000\" stroke=\"#000000\" points=\"118.6839,-55.9961 115.3351,-45.9444 111.6847,-55.8905 118.6839,-55.9961\"/>\n<text text-anchor=\"middle\" x=\"113.8483\" y=\"-67.4967\" font-family=\"Times,serif\" font-size=\"14.00\" fill=\"#000000\">a, # ; 1#</text>\n</g>\n<!-- IF&#45;&gt;IF -->\n<g id=\"edge3\" class=\"edge\">\n<title>IF&#45;&gt;IF</title>\n<path fill=\"none\" stroke=\"#000000\" d=\"M111.2358,-45.802C110.2587,-63.5723 111.1296,-81.6967 113.8483,-81.6967 116.0361,-81.6967 117.0273,-69.9608 116.8219,-56.1172\"/>\n<polygon fill=\"#000000\" stroke=\"#000000\" points=\"120.3086,-55.6735 116.4609,-45.802 113.3129,-55.9184 120.3086,-55.6735\"/>\n<text text-anchor=\"middle\" x=\"113.8483\" y=\"-85.4967\" font-family=\"Times,serif\" font-size=\"14.00\" fill=\"#000000\">a, 1 ; 2</text>\n</g>\n<!-- IF&#45;&gt;IF -->\n<g id=\"edge4\" class=\"edge\">\n<title>IF&#45;&gt;IF</title>\n<path fill=\"none\" stroke=\"#000000\" d=\"M110.4733,-45.6627C108.2233,-70.8785 109.3483,-99.6967 113.8483,-99.6967 117.7507,-99.6967 119.115,-78.025 117.9412,-55.8243\"/>\n<polygon fill=\"#000000\" stroke=\"#000000\" points=\"121.4194,-55.3911 117.2233,-45.6627 114.4368,-55.8845 121.4194,-55.3911\"/>\n<text text-anchor=\"middle\" x=\"113.8483\" y=\"-103.4967\" font-family=\"Times,serif\" font-size=\"14.00\" fill=\"#000000\">a, 2 ; a</text>\n</g>\n<!-- IF&#45;&gt;IF -->\n<g id=\"edge6\" class=\"edge\">\n<title>IF&#45;&gt;IF</title>\n<path fill=\"none\" stroke=\"#000000\" d=\"M109.9083,-45.7086C106.1912,-77.9363 107.5046,-117.6967 113.8483,-117.6967 119.5478,-117.6967 121.1868,-85.6025 118.7653,-55.7115\"/>\n<polygon fill=\"#000000\" stroke=\"#000000\" points=\"122.2439,-55.3211 117.7884,-45.7086 115.277,-56.0015 122.2439,-55.3211\"/>\n<text text-anchor=\"middle\" x=\"113.8483\" y=\"-121.4967\" font-family=\"Times,serif\" font-size=\"14.00\" fill=\"#000000\">a, a ; a</text>\n</g>\n<!-- IF&#45;&gt;IF -->\n<g id=\"edge7\" class=\"edge\">\n<title>IF&#45;&gt;IF</title>\n<path fill=\"none\" stroke=\"#000000\" d=\"M109.5019,-45.5589C104.1573,-84.5887 105.6061,-135.6967 113.8483,-135.6967 121.3822,-135.6967 123.2402,-92.9954 119.4222,-55.8488\"/>\n<polygon fill=\"#000000\" stroke=\"#000000\" points=\"122.8547,-55.074 118.1948,-45.5589 115.9039,-55.9031 122.8547,-55.074\"/>\n<text text-anchor=\"middle\" x=\"113.8483\" y=\"-139.4967\" font-family=\"Times,serif\" font-size=\"14.00\" fill=\"#000000\">b, # ; b#</text>\n</g>\n<!-- IF&#45;&gt;IF -->\n<g id=\"edge8\" class=\"edge\">\n<title>IF&#45;&gt;IF</title>\n<path fill=\"none\" stroke=\"#000000\" d=\"M109.1995,-45.3564C102.1268,-91.0185 103.6765,-153.6967 113.8483,-153.6967 123.2851,-153.6967 125.3008,-99.7501 119.8954,-55.4923\"/>\n<polygon fill=\"#000000\" stroke=\"#000000\" points=\"123.331,-54.7843 118.4972,-45.3564 116.3967,-55.7409 123.331,-54.7843\"/>\n<text text-anchor=\"middle\" x=\"113.8483\" y=\"-157.4967\" font-family=\"Times,serif\" font-size=\"14.00\" fill=\"#000000\">b, 1 ; b</text>\n</g>\n<!-- IF&#45;&gt;IF -->\n<g id=\"edge9\" class=\"edge\">\n<title>IF&#45;&gt;IF</title>\n<path fill=\"none\" stroke=\"#000000\" d=\"M108.951,-45.247C100.1026,-97.4084 101.735,-171.6967 113.8483,-171.6967 125.2045,-171.6967 127.3491,-106.4042 120.2819,-55.263\"/>\n<polygon fill=\"#000000\" stroke=\"#000000\" points=\"123.7214,-54.6008 118.7457,-45.247 116.8023,-55.6621 123.7214,-54.6008\"/>\n<text text-anchor=\"middle\" x=\"113.8483\" y=\"-175.4967\" font-family=\"Times,serif\" font-size=\"14.00\" fill=\"#000000\">b, a ; b</text>\n</g>\n<!-- IF&#45;&gt;IF -->\n<g id=\"edge10\" class=\"edge\">\n<title>IF&#45;&gt;IF</title>\n<path fill=\"none\" stroke=\"#000000\" d=\"M108.7397,-45.203C98.0829,-103.7724 99.7858,-189.6967 113.8483,-189.6967 127.1143,-189.6967 129.3812,-113.2304 120.6488,-55.3979\"/>\n<polygon fill=\"#000000\" stroke=\"#000000\" points=\"124.047,-54.495 118.957,-45.203 117.1414,-55.6411 124.047,-54.495\"/>\n<text text-anchor=\"middle\" x=\"113.8483\" y=\"-193.4967\" font-family=\"Times,serif\" font-size=\"14.00\" fill=\"#000000\">b, b ; b</text>\n</g>\n<!-- IF&#45;&gt;IF -->\n<g id=\"edge11\" class=\"edge\">\n<title>IF&#45;&gt;IF</title>\n<path fill=\"none\" stroke=\"#000000\" d=\"M108.5059,-45.4631C96.0714,-110.3755 97.8522,-207.6967 113.8483,-207.6967 129.0321,-207.6967 131.4077,-120.0087 120.9751,-55.5858\"/>\n<polygon fill=\"#000000\" stroke=\"#000000\" points=\"124.3737,-54.7037 119.1908,-45.4631 117.4799,-55.9189 124.3737,-54.7037\"/>\n<text text-anchor=\"middle\" x=\"113.8483\" y=\"-211.4967\" font-family=\"Times,serif\" font-size=\"14.00\" fill=\"#000000\">c, # ; c#</text>\n</g>\n<!-- IF&#45;&gt;IF -->\n<g id=\"edge12\" class=\"edge\">\n<title>IF&#45;&gt;IF</title>\n<path fill=\"none\" stroke=\"#000000\" d=\"M108.3735,-45.33C94.0546,-116.5386 95.8796,-225.6967 113.8483,-225.6967 130.9748,-225.6967 133.4355,-126.5323 121.2304,-55.5787\"/>\n<polygon fill=\"#000000\" stroke=\"#000000\" points=\"124.5937,-54.5209 119.3232,-45.33 117.7118,-55.8015 124.5937,-54.5209\"/>\n<text text-anchor=\"middle\" x=\"113.8483\" y=\"-229.4967\" font-family=\"Times,serif\" font-size=\"14.00\" fill=\"#000000\">c, 1 ; c</text>\n</g>\n<!-- IF&#45;&gt;IF -->\n<g id=\"edge13\" class=\"edge\">\n<title>IF&#45;&gt;IF</title>\n<path fill=\"none\" stroke=\"#000000\" d=\"M108.2409,-45.3119C92.0417,-122.7764 93.9108,-243.6967 113.8483,-243.6967 132.9291,-243.6967 135.461,-132.9448 121.4439,-55.5253\"/>\n<polygon fill=\"#000000\" stroke=\"#000000\" points=\"124.8021,-54.4589 119.4557,-45.3119 117.931,-55.7965 124.8021,-54.4589\"/>\n<text text-anchor=\"middle\" x=\"113.8483\" y=\"-247.4967\" font-family=\"Times,serif\" font-size=\"14.00\" fill=\"#000000\">c, b ; c</text>\n</g>\n<!-- IF&#45;&gt;IF -->\n<g id=\"edge14\" class=\"edge\">\n<title>IF&#45;&gt;IF</title>\n<path fill=\"none\" stroke=\"#000000\" d=\"M108.1926,-44.9867C90.0256,-128.6565 91.9108,-261.6967 113.8483,-261.6967 134.9289,-261.6967 137.4932,-138.8473 121.5412,-55.0069\"/>\n<polygon fill=\"#000000\" stroke=\"#000000\" points=\"124.9263,-54.0889 119.5041,-44.9867 118.0666,-55.4836 124.9263,-54.0889\"/>\n<text text-anchor=\"middle\" x=\"113.8483\" y=\"-265.4967\" font-family=\"Times,serif\" font-size=\"14.00\" fill=\"#000000\">c, a ; c</text>\n</g>\n<!-- IF&#45;&gt;IF -->\n<g id=\"edge15\" class=\"edge\">\n<title>IF&#45;&gt;IF</title>\n<path fill=\"none\" stroke=\"#000000\" d=\"M108.0385,-45.2178C88.0191,-135.0978 89.9557,-279.6967 113.8483,-279.6967 136.8776,-279.6967 139.5089,-145.3586 121.7422,-55.1655\"/>\n<polygon fill=\"#000000\" stroke=\"#000000\" points=\"125.1344,-54.2876 119.6581,-45.2178 118.2831,-55.723 125.1344,-54.2876\"/>\n<text text-anchor=\"middle\" x=\"113.8483\" y=\"-283.4967\" font-family=\"Times,serif\" font-size=\"14.00\" fill=\"#000000\">c, c ; c</text>\n</g>\n</g>\n</svg>\n"
          },
          "metadata": {},
          "execution_count": 569
        }
      ],
      "source": [
        "dotObj_pda(Lif)"
      ]
    },
    {
      "cell_type": "markdown",
      "metadata": {
        "id": "yAxOHtwUyH2E"
      },
      "source": [
        "### Given test cases:"
      ]
    },
    {
      "cell_type": "markdown",
      "metadata": {
        "id": "cbD49D_YyH2E"
      },
      "source": [
        "* aa bbb ccc   (accept)"
      ]
    },
    {
      "cell_type": "code",
      "execution_count": 570,
      "metadata": {
        "id": "TkyBjxrcyH2F",
        "outputId": "16d1564b-5906-49bf-f381-80ce74b01928",
        "colab": {
          "base_uri": "https://localhost:8080/"
        }
      },
      "outputs": [
        {
          "output_type": "stream",
          "name": "stdout",
          "text": [
            "String aabbbccc accepted by your PDA in 1 ways :-) \n",
            "Here are the ways: \n",
            "Final state  ('F', '', '#')\n",
            "Reached as follows:\n",
            "->  ('IF', 'aabbbccc', '#')\n",
            "->  ('IF', 'abbbccc', '1#')\n",
            "->  ('IF', 'bbbccc', '2#')\n",
            "->  ('B', 'bbccc', 'ba#')\n",
            "->  ('B', 'bccc', 'bba#')\n",
            "->  ('B', 'ccc', 'bbba#')\n",
            "->  ('C', 'cc', 'bba#')\n",
            "->  ('C', 'c', 'ba#')\n",
            "->  ('C', '', 'a#')\n",
            "->  ('F', '', '#') .\n"
          ]
        }
      ],
      "source": [
        "explore_pda('aabbbccc', Lif)"
      ]
    },
    {
      "cell_type": "markdown",
      "metadata": {
        "id": "qwKAfT20yH2F"
      },
      "source": [
        "* aa bbbb cccc (accept)\n",
        " "
      ]
    },
    {
      "cell_type": "code",
      "execution_count": 571,
      "metadata": {
        "id": "gr5jQ8WMyH2F",
        "outputId": "04d71ca6-ccd2-4e65-9cb1-f742f9397ed0",
        "colab": {
          "base_uri": "https://localhost:8080/"
        }
      },
      "outputs": [
        {
          "output_type": "stream",
          "name": "stdout",
          "text": [
            "String aabbbbcccc accepted by your PDA in 1 ways :-) \n",
            "Here are the ways: \n",
            "Final state  ('F', '', '#')\n",
            "Reached as follows:\n",
            "->  ('IF', 'aabbbbcccc', '#')\n",
            "->  ('IF', 'abbbbcccc', '1#')\n",
            "->  ('IF', 'bbbbcccc', '2#')\n",
            "->  ('B', 'bbbcccc', 'ba#')\n",
            "->  ('B', 'bbcccc', 'bba#')\n",
            "->  ('B', 'bcccc', 'bbba#')\n",
            "->  ('B', 'cccc', 'bbbba#')\n",
            "->  ('C', 'ccc', 'bbba#')\n",
            "->  ('C', 'cc', 'bba#')\n",
            "->  ('C', 'c', 'ba#')\n",
            "->  ('C', '', 'a#')\n",
            "->  ('F', '', '#') .\n"
          ]
        }
      ],
      "source": [
        "explore_pda('aabbbbcccc', Lif)"
      ]
    },
    {
      "cell_type": "markdown",
      "metadata": {
        "id": "eQWBq-HjyH2F"
      },
      "source": [
        "* aa         (accept)"
      ]
    },
    {
      "cell_type": "code",
      "execution_count": 572,
      "metadata": {
        "id": "S10QZSA8yH2F",
        "outputId": "1f65c992-4fbf-4bb1-bd86-7e5c3e17d5d2",
        "colab": {
          "base_uri": "https://localhost:8080/"
        }
      },
      "outputs": [
        {
          "output_type": "stream",
          "name": "stdout",
          "text": [
            "String aa accepted by your PDA in 1 ways :-) \n",
            "Here are the ways: \n",
            "Final state  ('IF', '', '2#')\n",
            "Reached as follows:\n",
            "->  ('IF', 'aa', '#')\n",
            "->  ('IF', 'a', '1#')\n",
            "->  ('IF', '', '2#') .\n"
          ]
        }
      ],
      "source": [
        "explore_pda('aa', Lif)"
      ]
    },
    {
      "cell_type": "markdown",
      "metadata": {
        "id": "Mu_hxfcHyH2F"
      },
      "source": [
        "* a bbb cccc (accept)"
      ]
    },
    {
      "cell_type": "code",
      "execution_count": 573,
      "metadata": {
        "id": "qRtQEZ8JyH2G",
        "outputId": "43dc7e69-92fb-45b4-b804-78a48080f2b9",
        "colab": {
          "base_uri": "https://localhost:8080/"
        }
      },
      "outputs": [
        {
          "output_type": "stream",
          "name": "stdout",
          "text": [
            "String abbbcccc accepted by your PDA in 1 ways :-) \n",
            "Here are the ways: \n",
            "Final state  ('IF', '', 'c#')\n",
            "Reached as follows:\n",
            "->  ('IF', 'abbbcccc', '#')\n",
            "->  ('IF', 'bbbcccc', '1#')\n",
            "->  ('IF', 'bbcccc', 'b#')\n",
            "->  ('IF', 'bcccc', 'b#')\n",
            "->  ('IF', 'cccc', 'b#')\n",
            "->  ('IF', 'ccc', 'c#')\n",
            "->  ('IF', 'cc', 'c#')\n",
            "->  ('IF', 'c', 'c#')\n",
            "->  ('IF', '', 'c#') .\n"
          ]
        }
      ],
      "source": [
        "explore_pda('abbbcccc', Lif)"
      ]
    },
    {
      "cell_type": "markdown",
      "metadata": {
        "id": "22Hhpq-YyH2G"
      },
      "source": [
        "* aaa bb c   (accept)"
      ]
    },
    {
      "cell_type": "code",
      "execution_count": 574,
      "metadata": {
        "id": "l5ys9PFKyH2G",
        "outputId": "597938de-8f9a-44b5-a192-8fcf05e8ed3f",
        "colab": {
          "base_uri": "https://localhost:8080/"
        }
      },
      "outputs": [
        {
          "output_type": "stream",
          "name": "stdout",
          "text": [
            "String aaabbc accepted by your PDA in 1 ways :-) \n",
            "Here are the ways: \n",
            "Final state  ('IF', '', 'c#')\n",
            "Reached as follows:\n",
            "->  ('IF', 'aaabbc', '#')\n",
            "->  ('IF', 'aabbc', '1#')\n",
            "->  ('IF', 'abbc', '2#')\n",
            "->  ('IF', 'bbc', 'a#')\n",
            "->  ('IF', 'bc', 'b#')\n",
            "->  ('IF', 'c', 'b#')\n",
            "->  ('IF', '', 'c#') .\n"
          ]
        }
      ],
      "source": [
        "explore_pda('aaabbc', Lif)"
      ]
    },
    {
      "cell_type": "markdown",
      "metadata": {
        "id": "rODWiy8PyH2G"
      },
      "source": [
        "* Epsilon    (accept, as there are zero a's)"
      ]
    },
    {
      "cell_type": "code",
      "execution_count": 575,
      "metadata": {
        "id": "QhgMqBbiyH2G",
        "outputId": "e2d15a86-e10b-4699-df33-8852d74b81f0",
        "colab": {
          "base_uri": "https://localhost:8080/"
        }
      },
      "outputs": [
        {
          "output_type": "stream",
          "name": "stdout",
          "text": [
            "String  accepted by your PDA in 1 ways :-) \n",
            "Here are the ways: \n",
            "Final state  ('IF', '', '#')\n",
            "Reached as follows:\n",
            "->  ('IF', '', '#') .\n"
          ]
        }
      ],
      "source": [
        "explore_pda('', Lif)"
      ]
    },
    {
      "cell_type": "markdown",
      "metadata": {
        "id": "BXg9_3iZyH2G"
      },
      "source": [
        "* a bb cc    (accept, as there is no constraint to not match b's and c's if two a's)"
      ]
    },
    {
      "cell_type": "code",
      "execution_count": 576,
      "metadata": {
        "id": "OdwhYAk7yH2H",
        "outputId": "43cb7f77-5d65-4443-95fa-df2185e30f3e",
        "colab": {
          "base_uri": "https://localhost:8080/"
        }
      },
      "outputs": [
        {
          "output_type": "stream",
          "name": "stdout",
          "text": [
            "String abbcc accepted by your PDA in 1 ways :-) \n",
            "Here are the ways: \n",
            "Final state  ('IF', '', 'c#')\n",
            "Reached as follows:\n",
            "->  ('IF', 'abbcc', '#')\n",
            "->  ('IF', 'bbcc', '1#')\n",
            "->  ('IF', 'bcc', 'b#')\n",
            "->  ('IF', 'cc', 'b#')\n",
            "->  ('IF', 'c', 'c#')\n",
            "->  ('IF', '', 'c#') .\n"
          ]
        }
      ],
      "source": [
        "explore_pda('abbcc', Lif)"
      ]
    },
    {
      "cell_type": "markdown",
      "metadata": {
        "id": "f2ljJYGSyH2H"
      },
      "source": [
        "* b c must accept too"
      ]
    },
    {
      "cell_type": "code",
      "execution_count": 577,
      "metadata": {
        "id": "TYj2p7FSyH2H",
        "outputId": "3e192a80-8784-4b0b-c034-ce3ea05cba85",
        "colab": {
          "base_uri": "https://localhost:8080/"
        }
      },
      "outputs": [
        {
          "output_type": "stream",
          "name": "stdout",
          "text": [
            "String bc accepted by your PDA in 1 ways :-) \n",
            "Here are the ways: \n",
            "Final state  ('IF', '', 'c#')\n",
            "Reached as follows:\n",
            "->  ('IF', 'bc', '#')\n",
            "->  ('IF', 'c', 'b#')\n",
            "->  ('IF', '', 'c#') .\n"
          ]
        }
      ],
      "source": [
        "explore_pda('bc', Lif)"
      ]
    },
    {
      "cell_type": "markdown",
      "metadata": {
        "id": "4wSowAWvyH2H"
      },
      "source": [
        "* c b        (reject)"
      ]
    },
    {
      "cell_type": "code",
      "execution_count": 578,
      "metadata": {
        "id": "njFYWda6yH2H",
        "outputId": "8e3a2ab0-b162-43ab-edc7-120c2db06425",
        "colab": {
          "base_uri": "https://localhost:8080/"
        }
      },
      "outputs": [
        {
          "output_type": "stream",
          "name": "stdout",
          "text": [
            "String cb rejected by your PDA :-(\n",
            "Visited states are:\n",
            "{('IF', 'b', 'c#'), ('IF', 'cb', '#')}\n"
          ]
        }
      ],
      "source": [
        "explore_pda('cb', Lif)"
      ]
    },
    {
      "cell_type": "markdown",
      "metadata": {
        "id": "Q-t4PSqLyH2H"
      },
      "source": [
        "* aa bb cc a (reject)"
      ]
    },
    {
      "cell_type": "code",
      "execution_count": 579,
      "metadata": {
        "id": "1jgOABLSyH2H",
        "outputId": "37798be5-7b0b-47ec-b43b-e823ea677a51",
        "colab": {
          "base_uri": "https://localhost:8080/"
        }
      },
      "outputs": [
        {
          "output_type": "stream",
          "name": "stdout",
          "text": [
            "String aabbcca rejected by your PDA :-(\n",
            "Visited states are:\n",
            "{('B', 'bcca', 'ba#'), ('C', 'ca', 'ba#'), ('C', 'a', 'a#'), ('IF', 'aabbcca', '#'), ('B', 'cca', 'bba#'), ('F', 'a', '#'), ('IF', 'bbcca', '2#'), ('IF', 'abbcca', '1#')}\n"
          ]
        }
      ],
      "source": [
        "explore_pda('aabbcca', Lif)"
      ]
    },
    {
      "cell_type": "markdown",
      "metadata": {
        "id": "XTm6znnHyH2H"
      },
      "source": [
        "* a bb a     (reject)"
      ]
    },
    {
      "cell_type": "code",
      "execution_count": 580,
      "metadata": {
        "id": "bQCHZI1IyH2I",
        "outputId": "914f1a74-3a76-4cb8-ad9a-8ab1b300b737",
        "colab": {
          "base_uri": "https://localhost:8080/"
        }
      },
      "outputs": [
        {
          "output_type": "stream",
          "name": "stdout",
          "text": [
            "String abba rejected by your PDA :-(\n",
            "Visited states are:\n",
            "{('IF', 'a', 'b#'), ('IF', 'ba', 'b#'), ('IF', 'abba', '#'), ('IF', 'bba', '1#')}\n"
          ]
        }
      ],
      "source": [
        "explore_pda('abba', Lif)"
      ]
    },
    {
      "cell_type": "markdown",
      "metadata": {
        "id": "VcIqurXVyH2I"
      },
      "source": [
        "* ccac       (reject)"
      ]
    },
    {
      "cell_type": "code",
      "execution_count": 581,
      "metadata": {
        "id": "M96UpYWPyH2I",
        "outputId": "a2632cf7-a74d-4ef0-aaed-d8376d49aff8",
        "colab": {
          "base_uri": "https://localhost:8080/"
        }
      },
      "outputs": [
        {
          "output_type": "stream",
          "name": "stdout",
          "text": [
            "String ccac rejected by your PDA :-(\n",
            "Visited states are:\n",
            "{('IF', 'ccac', '#'), ('IF', 'ac', 'c#'), ('IF', 'cac', 'c#')}\n"
          ]
        }
      ],
      "source": [
        "explore_pda('ccac', Lif)"
      ]
    },
    {
      "cell_type": "markdown",
      "metadata": {
        "id": "lMjb3ozcyH2I"
      },
      "source": [
        "* abba       (reject)"
      ]
    },
    {
      "cell_type": "code",
      "execution_count": 582,
      "metadata": {
        "id": "5RHTbf73yH2I",
        "outputId": "0bd88b9c-f715-46ad-a302-0af02e64333f",
        "colab": {
          "base_uri": "https://localhost:8080/"
        }
      },
      "outputs": [
        {
          "output_type": "stream",
          "name": "stdout",
          "text": [
            "String abba rejected by your PDA :-(\n",
            "Visited states are:\n",
            "{('IF', 'a', 'b#'), ('IF', 'ba', 'b#'), ('IF', 'abba', '#'), ('IF', 'bba', '1#')}\n"
          ]
        }
      ],
      "source": [
        "explore_pda('abba', Lif)"
      ]
    },
    {
      "cell_type": "markdown",
      "metadata": {
        "id": "PENs7s32yH2I"
      },
      "source": [
        "* baac       (reject)"
      ]
    },
    {
      "cell_type": "code",
      "execution_count": 583,
      "metadata": {
        "id": "1ZeWeu_EyH2I",
        "outputId": "01b8c678-cc4e-48a9-f200-ea4a389dcaf7",
        "colab": {
          "base_uri": "https://localhost:8080/"
        }
      },
      "outputs": [
        {
          "output_type": "stream",
          "name": "stdout",
          "text": [
            "String baac rejected by your PDA :-(\n",
            "Visited states are:\n",
            "{('IF', 'baac', '#'), ('IF', 'aac', 'b#')}\n"
          ]
        }
      ],
      "source": [
        "explore_pda('baac', Lif)"
      ]
    },
    {
      "cell_type": "markdown",
      "metadata": {
        "id": "RVFp21rXyH2J"
      },
      "source": [
        "* ac         (accept), as there are no b's  "
      ]
    },
    {
      "cell_type": "code",
      "execution_count": 584,
      "metadata": {
        "id": "Br1nz3SZyH2J",
        "outputId": "21bdd98a-c46a-4a20-d8aa-61c4cbeb5701",
        "colab": {
          "base_uri": "https://localhost:8080/"
        }
      },
      "outputs": [
        {
          "output_type": "stream",
          "name": "stdout",
          "text": [
            "String ac accepted by your PDA in 1 ways :-) \n",
            "Here are the ways: \n",
            "Final state  ('IF', '', 'c#')\n",
            "Reached as follows:\n",
            "->  ('IF', 'ac', '#')\n",
            "->  ('IF', 'c', '1#')\n",
            "->  ('IF', '', 'c#') .\n"
          ]
        }
      ],
      "source": [
        "explore_pda('ac', Lif)"
      ]
    },
    {
      "cell_type": "markdown",
      "metadata": {
        "id": "7C_BvHfxyH2J"
      },
      "source": [
        "* acb (reject)"
      ]
    },
    {
      "cell_type": "code",
      "execution_count": 585,
      "metadata": {
        "id": "dDOs575fyH2J",
        "outputId": "095826f1-4223-4c20-da89-fd9b48ea7c63",
        "colab": {
          "base_uri": "https://localhost:8080/"
        }
      },
      "outputs": [
        {
          "output_type": "stream",
          "name": "stdout",
          "text": [
            "String acb rejected by your PDA :-(\n",
            "Visited states are:\n",
            "{('IF', 'b', 'c#'), ('IF', 'cb', '1#'), ('IF', 'acb', '#')}\n"
          ]
        }
      ],
      "source": [
        "explore_pda('acb', Lif)"
      ]
    },
    {
      "cell_type": "markdown",
      "metadata": {
        "id": "tFvi-uZeyH2J"
      },
      "source": [
        "### Add your test cases below:"
      ]
    },
    {
      "cell_type": "code",
      "execution_count": 586,
      "metadata": {
        "id": "Vk3ax3qdCePR",
        "outputId": "3788b365-c8ac-4b18-9b49-6421e1a06d5a",
        "colab": {
          "base_uri": "https://localhost:8080/"
        }
      },
      "outputs": [
        {
          "output_type": "stream",
          "name": "stdout",
          "text": [
            "String abc accepted by your PDA in 1 ways :-) \n",
            "Here are the ways: \n",
            "Final state  ('IF', '', 'c#')\n",
            "Reached as follows:\n",
            "->  ('IF', 'abc', '#')\n",
            "->  ('IF', 'bc', '1#')\n",
            "->  ('IF', 'c', 'b#')\n",
            "->  ('IF', '', 'c#') .\n",
            "String c accepted by your PDA in 1 ways :-) \n",
            "Here are the ways: \n",
            "Final state  ('IF', '', 'c#')\n",
            "Reached as follows:\n",
            "->  ('IF', 'c', '#')\n",
            "->  ('IF', '', 'c#') .\n",
            "String abbccc accepted by your PDA in 1 ways :-) \n",
            "Here are the ways: \n",
            "Final state  ('IF', '', 'c#')\n",
            "Reached as follows:\n",
            "->  ('IF', 'abbccc', '#')\n",
            "->  ('IF', 'bbccc', '1#')\n",
            "->  ('IF', 'bccc', 'b#')\n",
            "->  ('IF', 'ccc', 'b#')\n",
            "->  ('IF', 'cc', 'c#')\n",
            "->  ('IF', 'c', 'c#')\n",
            "->  ('IF', '', 'c#') .\n",
            "String aac rejected by your PDA :-(\n",
            "Visited states are:\n",
            "{('IF', 'c', '2#'), ('IF', 'aac', '#'), ('IF', 'ac', '1#')}\n",
            "String accb rejected by your PDA :-(\n",
            "Visited states are:\n",
            "{('IF', 'b', 'c#'), ('IF', 'accb', '#'), ('IF', 'ccb', '1#'), ('IF', 'cb', 'c#')}\n",
            "String aabbbbbbcc rejected by your PDA :-(\n",
            "Visited states are:\n",
            "{('C', '', 'bbbba#'), ('B', 'bbcc', 'bbbba#'), ('B', 'bbbbcc', 'bba#'), ('C', 'c', 'bbbbba#'), ('B', 'cc', 'bbbbbba#'), ('B', 'bbbbbcc', 'ba#'), ('IF', 'bbbbbbcc', '2#'), ('B', 'bbbcc', 'bbba#'), ('IF', 'abbbbbbcc', '1#'), ('IF', 'aabbbbbbcc', '#'), ('B', 'bcc', 'bbbbba#')}\n"
          ]
        }
      ],
      "source": [
        "# Accept:\n",
        "explore_pda('abc', Lif)  # pass because all are in the right order\n",
        "explore_pda('c', Lif)  # pass because all are still in the right order\n",
        "explore_pda('abbccc', Lif)  # pass because there is only one 'a' and all are in the right order\n",
        "\n",
        "# Reject\n",
        "explore_pda('aac', Lif)  # reject because there are 2 a's but not enough b's\n",
        "explore_pda('accb', Lif)  # reject because the c's come before b's\n",
        "explore_pda('aabbbbbbcc', Lif)  # reject because there are not enough c's to match the b's"
      ]
    },
    {
      "cell_type": "markdown",
      "metadata": {
        "id": "iXp_GBi-yH2J"
      },
      "source": [
        "# END\n"
      ]
    }
  ],
  "metadata": {
    "colab": {
      "name": "u000000_asg04.ipynb",
      "provenance": []
    },
    "kernelspec": {
      "display_name": "Python 3",
      "language": "python",
      "name": "python3"
    },
    "language_info": {
      "codemirror_mode": {
        "name": "ipython",
        "version": 3
      },
      "file_extension": ".py",
      "mimetype": "text/x-python",
      "name": "python",
      "nbconvert_exporter": "python",
      "pygments_lexer": "ipython3",
      "version": "3.8.5"
    },
    "toc": {
      "colors": {
        "hover_highlight": "#DAA520",
        "running_highlight": "#FF0000",
        "selected_highlight": "#FFD700"
      },
      "moveMenuLeft": true,
      "nav_menu": {
        "height": "121px",
        "width": "252px"
      },
      "navigate_menu": true,
      "number_sections": true,
      "sideBar": true,
      "threshold": 4,
      "toc_cell": false,
      "toc_section_display": "block",
      "toc_window_display": false,
      "widenNotebook": false
    }
  },
  "nbformat": 4,
  "nbformat_minor": 0
}