{
  "cells": [
    {
      "cell_type": "markdown",
      "metadata": {
        "id": "B8zPzIjpVVzR"
      },
      "source": [
        "# Resources on PLY\n",
        " \n",
        "## Documentation of PLY is here: https://www.dabeaz.com/ply/ply.html\n",
        " "
      ]
    },
    {
      "cell_type": "markdown",
      "metadata": {
        "id": "40j-he0MVVzZ"
      },
      "source": [
        "## This Youtube video is a talk by David Beazley, the author of PLY"
      ]
    },
    {
      "cell_type": "code",
      "execution_count": null,
      "metadata": {
        "id": "43cuxscFVVza"
      },
      "outputs": [],
      "source": [
        "from IPython.display import YouTubeVideo\n",
        "# Direct path is https://youtu.be/zJ9z6Ge-vXs\n",
        "YouTubeVideo('zJ9z6Ge-vXs')"
      ]
    },
    {
      "cell_type": "markdown",
      "metadata": {
        "id": "Yc76GvMvVVzd"
      },
      "source": [
        "## This Youtube video sequence (total 5 segments) talks about designing a calculator. You may skim these videos (2x speed) initially. One thing: you'll learn a ton!"
      ]
    },
    {
      "cell_type": "code",
      "execution_count": null,
      "metadata": {
        "id": "57c0LzQEVVzd"
      },
      "outputs": [],
      "source": [
        "from IPython.display import YouTubeVideo\n",
        "# Direct path is  https://youtu.be/Hh49BXmHxX8\n",
        "YouTubeVideo('Hh49BXmHxX8')"
      ]
    },
    {
      "cell_type": "markdown",
      "source": [],
      "metadata": {
        "id": "ayMNpXUoVk2m"
      }
    },
    {
      "cell_type": "markdown",
      "metadata": {
        "id": "9vHKPejwVVze"
      },
      "source": [
        "#  THIS NOTEBOOK is referenced in an Assignment.\n",
        "\n",
        "##  It Creates an Arithmetic Expression Parser, and Discover Differences with Real Parsers in the Field"
      ]
    },
    {
      "cell_type": "markdown",
      "metadata": {
        "run_control": {
          "frozen": false,
          "read_only": false
        },
        "id": "cr_2cS_tVVzf"
      },
      "source": [
        "\n",
        "## You will be provided answer hints in the cells below\n",
        " "
      ]
    },
    {
      "cell_type": "markdown",
      "metadata": {
        "run_control": {
          "frozen": false,
          "read_only": false
        },
        "id": "AfdziPkqVVzg"
      },
      "source": [
        "## Background information for you\n",
        "\n",
        "\n",
        "Someone was asked to build a calculator following these CFG rules.\n",
        "\n",
        "\n",
        "```\n",
        "RULES\n",
        "\n",
        "Rule 0     S -> expression\n",
        "Rule 1     expression -> expression PLUS term\n",
        "Rule 2     expression -> expression MINUS term\n",
        "Rule 3     expression -> term\n",
        "Rule 4     term -> term TIMES factor\n",
        "Rule 5     term -> term DIVIDE factor\n",
        "Rule 6     term -> factor\n",
        "Rule 7     factor -> innerfactor EXP factor\n",
        "Rule 8     factor -> innerfactor\n",
        "Rule 9     innerfactor -> UMINUS innerfactor\n",
        "Rule 10    innerfactor -> LPAREN expression RPAREN\n",
        "Rule 11    innerfactor -> NUMBER\n",
        "```\n",
        "\n",
        "They implemented these CFGs in a parser that we shall present in Section 2 below."
      ]
    },
    {
      "cell_type": "markdown",
      "metadata": {
        "run_control": {
          "frozen": false,
          "read_only": false
        },
        "id": "jBNl7HSiVVzi"
      },
      "source": [
        "## THINGS TO NOTE\n",
        "\n",
        "### We will use \"~\" (tilde) for unary minus, and \"-\" (regular minus) for binary infix minus\n",
        "\n",
        "### we will use \"^\" for exponentiation"
      ]
    },
    {
      "cell_type": "markdown",
      "metadata": {
        "run_control": {
          "frozen": false,
          "read_only": false
        },
        "id": "kS7hwq1aVVzj"
      },
      "source": [
        "# The Parser\n",
        "\n",
        "You may be interested in roughly how abstract CFG rules such as listed above turn into CFG rules as supported by a tool such as PLY."
      ]
    },
    {
      "cell_type": "code",
      "execution_count": null,
      "metadata": {
        "run_control": {
          "frozen": false,
          "read_only": false
        },
        "id": "UU-RCuo3VVzj"
      },
      "outputs": [],
      "source": [
        "#~~~~~~~~~~~~~~~~~~~~~~~~~~~~~~~~~~~~~~~~~~~~~~~~~~~~~~~\n",
        "import sys\n",
        "\n",
        "# -- Detect if in Own Install or in Colab\n",
        "try:\n",
        "    import google.colab\n",
        "    OWN_INSTALL = False\n",
        "except:\n",
        "    OWN_INSTALL = True\n",
        "    \n",
        "if OWN_INSTALL:\n",
        "    \n",
        "  #---- Leave these definitions ON if running on laptop\n",
        "  #---- Else turn OFF by putting them between ''' ... '''\n",
        "\n",
        "  sys.path[0:0] = ['../../../../..',  '../../../../../3rdparty',  \n",
        "                   '../../../..',  '../../../../3rdparty',  \n",
        "                   '../../..',     '../../../3rdparty', \n",
        "                   '../..',        '../../3rdparty',\n",
        "                   '..',           '../3rdparty' ]\n",
        "\n",
        "else: # In colab\n",
        "  ! if [ ! -d Jove ]; then git clone https://github.com/ganeshutah/Jove Jove; fi\n",
        "  sys.path.append('./Jove')\n",
        "  sys.path.append('./Jove/jove')\n",
        "\n",
        "# -- common imports --\n",
        "from jove.lex import lex\n",
        "from jove.yacc import yacc\n",
        "\n",
        "from jove.StateNameSanitizers import ResetStNum, NxtStateStr\n",
        "from jove.SystemImports       import *\n",
        "#~~~~~~~~~~~~~~~~~~~~~~~~~~~~~~~~~~~~~~~~~~~~~~~~~~~~~~~"
      ]
    },
    {
      "cell_type": "code",
      "execution_count": null,
      "metadata": {
        "run_control": {
          "frozen": false,
          "read_only": false
        },
        "id": "42kNhu3CVVzl"
      },
      "outputs": [],
      "source": [
        "# Following ideas from http://www.dabeaz.com/ply/example.html heavily\n",
        "tokens = ('NUMBER','LPAREN','RPAREN','PLUS', 'MINUS', 'TIMES','DIVIDE', 'UMINUS', 'EXP') \n",
        "\n",
        "# Tokens\n",
        "t_PLUS    = r'\\+'\n",
        "t_MINUS   = r'\\-'\n",
        "t_TIMES   = r'\\*'\n",
        "t_DIVIDE  = r'\\/'\n",
        "t_LPAREN  = r'\\('\n",
        "t_RPAREN  = r'\\)' \n",
        "t_UMINUS  = r'\\~' \n",
        "t_EXP     = r'\\^'\n",
        "\n",
        "# parsing + semantic actions in one place!\n",
        "def t_NUMBER(t):\n",
        "    r'\\d+'\n",
        "    try:\n",
        "        t.value = int(t.value)\n",
        "    except ValueError:\n",
        "        print(\"Integer value too large %d\", t.value)\n",
        "        t.value = 0\n",
        "    return t\n",
        "\n",
        "# Ignored characters\n",
        "t_ignore = \" \\t\"\n",
        "\n",
        "def t_newline(t):\n",
        "    r'\\n+'\n",
        "    t.lexer.lineno += t.value.count(\"\\n\")\n",
        "    \n",
        "def t_error(t):\n",
        "    print(\"Illegal character '%s'\" % t.value[0])\n",
        "    t.lexer.skip(1)\n",
        "    "
      ]
    },
    {
      "cell_type": "code",
      "execution_count": null,
      "metadata": {
        "run_control": {
          "frozen": false,
          "read_only": false
        },
        "id": "F7EREOjyVVzm"
      },
      "outputs": [],
      "source": [
        "\n",
        "def p_expression_1(t):\n",
        "    'expression : expression PLUS term'\n",
        "    #\n",
        "    t[0] = (t[1][0] + t[3][0],\n",
        "            attrDyadicInfix(\"+\", t[1][1], t[3][1]))   \n",
        "    \n",
        "def p_expression_2(t):\n",
        "    'expression : expression MINUS term'\n",
        "    #\n",
        "    t[0] = (t[1][0] - t[3][0],\n",
        "            attrDyadicInfix(\"-\", t[1][1], t[3][1]))   \n",
        "    \n",
        "def p_expression_3(t):\n",
        "    'expression : term'\n",
        "    #\n",
        "    t[0] = t[1]  \n",
        "    \n",
        "# Consult this excellent reference for info on precedences\n",
        "# https://www.cs.utah.edu/~zachary/isp/worksheets/operprec/operprec.html\n",
        "    \n",
        "    \n",
        "def p_term_1(t):\n",
        "    'term :  term TIMES factor'\n",
        "    #\n",
        "    t[0] = (t[1][0] * t[3][0],\n",
        "            attrDyadicInfix(\"*\", t[1][1], t[3][1])) \n",
        "\n",
        "    \n",
        "def p_term_2(t):\n",
        "    'term :  term DIVIDE factor'\n",
        "    #\n",
        "    if (t[3][0] == 0):\n",
        "        print(\"Error, divide by zero!\")\n",
        "        t[3][0] = 1 # fix it\n",
        "    t[0] = (t[1][0] / t[3][0],\n",
        "            attrDyadicInfix(\"/\", t[1][1], t[3][1]))\n",
        "\n",
        "\n",
        "def p_term_3(t):\n",
        "    'term :  factor'\n",
        "    #\n",
        "    t[0] = t[1]  \n",
        "\n",
        "def p_factor_1(t):\n",
        "    'factor : innerfactor EXP factor'\n",
        "    #\n",
        "    t[0] = (t[1][0] ** t[3][0],\n",
        "            attrDyadicInfix(\"^\", t[1][1], t[3][1])) \n",
        "\n",
        "def p_factor_2(t):\n",
        "    'factor : innerfactor'\n",
        "    #\n",
        "    t[0] = t[1]\n",
        "    \n",
        "def p_innerfactor_1(t):\n",
        "    'innerfactor : UMINUS innerfactor'\n",
        "    #\n",
        "    ast  = ('~', t[2][1]['ast'])\n",
        "    \n",
        "    nlin = t[2][1]['dig']['nl']\n",
        "    elin = t[2][1]['dig']['el']\n",
        "    \n",
        "    rootin = nlin[0]\n",
        "\n",
        "    root = NxtStateStr(\"~E_\") \n",
        "    left = NxtStateStr(\"~_\")\n",
        "\n",
        "    t[0] =(-t[2][0], \n",
        "           {'ast' : ast,\n",
        "            'dig' : {'nl' : [ root, left ] + nlin, # this order important for proper layout!\n",
        "                     'el' : elin + [ (root, left),\n",
        "                                     (root, rootin) ]\n",
        "                    }})\n",
        "\n",
        "    \n",
        "def p_innerfactor_2(t):\n",
        "    'innerfactor : LPAREN expression RPAREN'\n",
        "    #\n",
        "    ast  = t[2][1]['ast']\n",
        "    \n",
        "    nlin = t[2][1]['dig']['nl']\n",
        "    elin = t[2][1]['dig']['el']\n",
        "    \n",
        "    rootin = nlin[0]\n",
        "    \n",
        "    root = NxtStateStr(\"(E)_\")\n",
        "    left = NxtStateStr(\"(_\")\n",
        "    right= NxtStateStr(\")_\")\n",
        "    \n",
        "    t[0] =(t[2][0],\n",
        "           {'ast' : ast,\n",
        "            'dig' : {'nl' : [root, left] + nlin + [right], #order important f. proper layout!\n",
        "                     'el' : elin + [ (root, left),\n",
        "                                     (root, rootin),\n",
        "                                     (root, right) ]\n",
        "                    }})\n",
        "\n",
        "def p_innerfactor_3(t):\n",
        "    'innerfactor : NUMBER'\n",
        "    #\n",
        "    strn = str(t[1])\n",
        "    ast  = ('NUMBER', strn)           \n",
        "    t[0] =(t[1],\n",
        "           { 'ast' : ast,\n",
        "             'dig' : {'nl' : [ strn + NxtStateStr(\"_\") ],\n",
        "                      'el' : []\n",
        "                     }})\n",
        "\n",
        "\n",
        "def p_error(t):\n",
        "    print(\"Syntax error at '%s'\" % t.value)\n",
        "\n",
        "#--\n",
        "    \n",
        "def attrDyadicInfix(op, attr1, attr3):\n",
        "    ast  = (op, (attr1['ast'], attr3['ast']))\n",
        "    \n",
        "    nlin1 = attr1['dig']['nl']\n",
        "    nlin3 = attr3['dig']['nl']\n",
        "    nlin  = nlin1 + nlin3\n",
        "    \n",
        "    elin1 = attr1['dig']['el']\n",
        "    elin3 = attr3['dig']['el']\n",
        "    elin  = elin1 + elin3\n",
        "    \n",
        "    rootin1 = nlin1[0]\n",
        "    rootin3 = nlin3[0]    \n",
        "    \n",
        "    root   = NxtStateStr(\"E1\"+op+\"E2\"+\"_\") # NxtStateStr(\"$_\")\n",
        "    left   = rootin1\n",
        "    middle = NxtStateStr(op+\"_\")\n",
        "    right  = rootin3\n",
        "    \n",
        "    return {'ast' : ast,\n",
        "            'dig' : {'nl' : [ root, left, middle, right ] + nlin,\n",
        "                     'el' : elin + [ (root, left),\n",
        "                                     (root, middle),\n",
        "                                     (root, right) ]\n",
        "                     }}\n",
        "\n",
        "#===\n",
        "# This is the main function in this Jove file.  \n",
        "#===\n",
        "\n",
        "def parseExp(s):\n",
        "    \"\"\"In: a string s containing a regular expression.\n",
        "       Out: An attribute triple consisting of\n",
        "            1) An abstract syntax tree suitable for processing in the derivative-based scanner\n",
        "            2) A node-list for the parse-tree digraph generated. Good for drawing a parse tree \n",
        "               using the drawPT function below\n",
        "            3) An edge list for the parse-tree generated (again good for drawing using the\n",
        "               drawPT function below)\n",
        "    \"\"\"\n",
        "    mylexer  = lex()\n",
        "    myparser = yacc()\n",
        "    pt = myparser.parse(s, lexer = mylexer)\n",
        "    \n",
        "    # print('parsed result  is ', pt)\n",
        "    # (result, ast, nodes, edges)\n",
        "    return (pt[0], pt[1]['ast'], pt[1]['dig']['nl'], pt[1]['dig']['el'])\n",
        "\n",
        "def drawPT(ast_rslt_nl_el, comment=\"PT\"):\n",
        "    \"\"\"Given an (ast, nl, el) triple where nl is the node and el the edge-list,\n",
        "       draw the Parse Tree by returning a dot object.\n",
        "    \"\"\"\n",
        "    (rslt, ast, nl, el) = ast_rslt_nl_el\n",
        "    \n",
        "    print(\"Result calculated = \", rslt)\n",
        "    print(\"Drawing AST for \", ast)\n",
        "    \n",
        "    dotObj_pt = Digraph(comment)\n",
        "    dotObj_pt.graph_attr['rankdir'] = 'TB'\n",
        "    for n in nl:\n",
        "        prNam = n.split('_')[0]\n",
        "        dotObj_pt.node(n, prNam, shape=\"oval\", peripheries=\"1\")\n",
        "    for e in el:\n",
        "        dotObj_pt.edge(e[0], e[1])\n",
        "    return dotObj_pt"
      ]
    },
    {
      "cell_type": "markdown",
      "metadata": {
        "run_control": {
          "frozen": false,
          "read_only": false
        },
        "id": "MxyJBG2FVVzo"
      },
      "source": [
        "# Now answer these questions"
      ]
    },
    {
      "cell_type": "markdown",
      "metadata": {
        "run_control": {
          "frozen": false,
          "read_only": false
        },
        "id": "dP_8qsQcVVzo"
      },
      "source": [
        "## How does the calculator above parse \"~2^2\" ?"
      ]
    },
    {
      "cell_type": "code",
      "execution_count": null,
      "metadata": {
        "run_control": {
          "frozen": false,
          "read_only": false
        },
        "id": "abiC9SqeVVzo"
      },
      "outputs": [],
      "source": [
        "drawPT(parseExp(\"~2^2\"))"
      ]
    },
    {
      "cell_type": "markdown",
      "metadata": {
        "run_control": {
          "frozen": false,
          "read_only": false
        },
        "id": "aHZbBBDUVVzp"
      },
      "source": [
        "## Check answer produced by Python for the same expression"
      ]
    },
    {
      "cell_type": "code",
      "execution_count": null,
      "metadata": {
        "run_control": {
          "frozen": false,
          "read_only": false
        },
        "id": "tw9-04GoVVzp"
      },
      "outputs": [],
      "source": [
        "# Python evaluation\n",
        "-2 ** 2"
      ]
    },
    {
      "cell_type": "markdown",
      "metadata": {
        "run_control": {
          "frozen": false,
          "read_only": false
        },
        "id": "fQYWVEAGVVzq"
      },
      "source": [
        "# Q1: Are the answers the same? If not, what is the most likely reason? \n",
        "## Discover how Python handled this expression by fully parenthesizing how Python parses ```-2**2.``` \n",
        "\n",
        "## Express your answer by putting back-quotes (else, Markdown's parser takes over \"**\" :-). In other words, see how I typed-in -2 * * 2  above (by going to the markdown behind Jove)."
      ]
    },
    {
      "cell_type": "markdown",
      "metadata": {
        "id": "nQ3ahhNwVVzq"
      },
      "source": [
        "# A1(1): ``` ...fill answer in your ASSIGNMENT SUBMISSION - not here....  ==> Always include a sentence of English with your answer so that the TAs know how you interpreted the question <== ```"
      ]
    },
    {
      "cell_type": "code",
      "source": [],
      "metadata": {
        "id": "DRkVPpTGYEJu"
      },
      "execution_count": null,
      "outputs": []
    },
    {
      "cell_type": "markdown",
      "metadata": {
        "run_control": {
          "frozen": false,
          "read_only": false
        },
        "id": "UCyXQG4RVVzq"
      },
      "source": [
        "## In parsing ```2^~3^~4```, the following parse tree was produced.\n"
      ]
    },
    {
      "cell_type": "code",
      "execution_count": null,
      "metadata": {
        "run_control": {
          "frozen": false,
          "read_only": false
        },
        "id": "Cw_GzMrOVVzq"
      },
      "outputs": [],
      "source": [
        "drawPT(parseExp(\"2^~3^~4\"))"
      ]
    },
    {
      "cell_type": "markdown",
      "metadata": {
        "run_control": {
          "frozen": false,
          "read_only": false
        },
        "id": "W06XPiksVVzr"
      },
      "source": [
        "## A1(2): What does ```2**-3**-4``` produce in Python? Is it the same answer?"
      ]
    },
    {
      "cell_type": "code",
      "execution_count": null,
      "metadata": {
        "run_control": {
          "frozen": false,
          "read_only": false
        },
        "id": "eDIHPQULVVzr"
      },
      "outputs": [],
      "source": [
        "# The above expression typed into Python in Python's syntax is below, and see what it produces!\n",
        "\n",
        "2**-3**-4"
      ]
    },
    {
      "cell_type": "code",
      "execution_count": null,
      "metadata": {
        "id": "-2_o0EfDVVzr"
      },
      "outputs": [],
      "source": [
        "2**(-(3**-4))"
      ]
    },
    {
      "cell_type": "code",
      "execution_count": null,
      "metadata": {
        "id": "ASR4tR8bVVzs"
      },
      "outputs": [],
      "source": [
        "2**((-3)**(-4))"
      ]
    },
    {
      "cell_type": "markdown",
      "metadata": {
        "run_control": {
          "frozen": false,
          "read_only": false
        },
        "id": "_3CcFwjuVVzs"
      },
      "source": [
        "# Q2: Are the answers the same? Discover how Python handled this expression by fully parenthesizing how Python parses ```2**-3**-4```\n",
        "\n",
        "## I.e. your answer is a fully parenthesized version of ```2**-3**-4```\n",
        "\n",
        "### Also check that the fully parenthesized version matches the ==> PYTHON answer (was a typo - said \"Jove answer\" before) <=="
      ]
    },
    {
      "cell_type": "markdown",
      "metadata": {
        "run_control": {
          "frozen": false,
          "read_only": false
        },
        "id": "r1aa9wmiVVzt"
      },
      "source": [
        "# A2: ```...fill answer in the assignment... ```\n",
        "## Additional explanation (2-3 lines) : ==> Here, focus on how associativity and precedence are handled. <== "
      ]
    },
    {
      "cell_type": "code",
      "execution_count": null,
      "metadata": {
        "id": "Mqn7Bb4lVVzt"
      },
      "outputs": [],
      "source": [
        "\"*** YOUR CHECK THAT THE FULLY PARENTHESIZED EXPRESSION MATCHES ANSWERS ***\""
      ]
    },
    {
      "cell_type": "markdown",
      "metadata": {
        "run_control": {
          "frozen": false,
          "read_only": false
        },
        "id": "F1Y_PqHTVVzu"
      },
      "source": [
        "# Q3: Does ```6*3/4*~5/(2+3-4-5-6/7*~8)-~9``` produce the same answer as a similarly parenthesized expression in Python?\n",
        "## Does it tend to confirm that for cases without unary minus and exp, the parsers are in agreement? Is this a full proof of this fact?\n",
        "\n",
        "## [[ Clarification ]] In other words, we tend to have different parses only when one uses unary minus and exponentiation in the same expression. In this expression, we only used unary minus. Then we seemed to \"dodge a bullet\" and produce the same answer. Would you take this one test as a confirmation? Or would you seek more evidence? (Just a sentence to see how you might seek additional confirmation. THE TAs will liberally interpret your answers.)\n",
        "\n"
      ]
    },
    {
      "cell_type": "code",
      "execution_count": null,
      "metadata": {
        "run_control": {
          "frozen": false,
          "read_only": false
        },
        "id": "B6rj6Y24VVzu"
      },
      "outputs": [],
      "source": [
        "drawPT(parseExp(\"6*3/4*~5/(2+3-4-5-6/7*~8)-~9\"))"
      ]
    },
    {
      "cell_type": "code",
      "execution_count": null,
      "metadata": {
        "run_control": {
          "frozen": false,
          "read_only": false
        },
        "id": "cK4uwfFoVVzv"
      },
      "outputs": [],
      "source": [
        "# Check against Python!\n",
        "6*3/4*-5/(2+3-4-5-6/7*-8)--9"
      ]
    },
    {
      "cell_type": "markdown",
      "metadata": {
        "run_control": {
          "frozen": false,
          "read_only": false
        },
        "id": "C0WWadZtVVzx"
      },
      "source": [
        "# A3: Yes/No plus 1-2 lines of your thoughts in the assignment answer part"
      ]
    },
    {
      "cell_type": "markdown",
      "metadata": {
        "run_control": {
          "frozen": false,
          "read_only": false
        },
        "id": "LTvEs0n4VVzx"
      },
      "source": [
        "# Q4: How does Python differ from Google Sheets?"
      ]
    },
    {
      "cell_type": "markdown",
      "metadata": {
        "run_control": {
          "frozen": false,
          "read_only": false
        },
        "id": "IsKYUF0wVVzx"
      },
      "source": [
        "Read the webpage https://codeplea.com/exponentiation-associativity-options that lists the various rules followed by different languages.\n",
        "Point out the similarities and differences between  Python and \n",
        "Google Sheets when it comes to handling. Just a few sentences talking about similarities and a few sentences about the differences.\n",
        "    \n",
        "- Associativity of exponentiation\n",
        "- Whether negation or exponentiation is handled first"
      ]
    },
    {
      "cell_type": "markdown",
      "metadata": {
        "run_control": {
          "frozen": false,
          "read_only": false
        },
        "id": "p-z4ogzgVVzy"
      },
      "source": [
        "# A4:  Finding this out from Google Search, we have this:\n",
        " \n",
        "## In `python` and `google-sheets`, the associativity of exponentiation is **left/right-associative**  (choose one)\n",
        " \n",
        "\n",
        "##  **negation/exponentiation** is handled first by `google-sheets` and **negation/exponentiation** is handled first in `python`. (choose one)\n",
        "\n",
        "### Search ```exponentiation and unary minus  ...``` etc.\n",
        "\n",
        "# Given that one's search results are bound to vary a lot, we will grade this part lightly\n",
        " "
      ]
    },
    {
      "cell_type": "code",
      "source": [],
      "metadata": {
        "id": "SIlT-q-vtG2b"
      },
      "execution_count": null,
      "outputs": []
    }
  ],
  "metadata": {
    "kernelspec": {
      "display_name": "Python 3",
      "language": "python",
      "name": "python3"
    },
    "language_info": {
      "codemirror_mode": {
        "name": "ipython",
        "version": 3
      },
      "file_extension": ".py",
      "mimetype": "text/x-python",
      "name": "python",
      "nbconvert_exporter": "python",
      "pygments_lexer": "ipython3",
      "version": "3.7.3"
    },
    "toc": {
      "colors": {
        "hover_highlight": "#DAA520",
        "running_highlight": "#FF0000",
        "selected_highlight": "#FFD700"
      },
      "moveMenuLeft": true,
      "nav_menu": {
        "height": "12px",
        "width": "252px"
      },
      "navigate_menu": true,
      "number_sections": true,
      "sideBar": true,
      "threshold": 4,
      "toc_cell": false,
      "toc_section_display": "block",
      "toc_window_display": false,
      "widenNotebook": false
    },
    "colab": {
      "provenance": []
    }
  },
  "nbformat": 4,
  "nbformat_minor": 0
}