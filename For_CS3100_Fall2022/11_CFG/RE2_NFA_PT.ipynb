{
  "cells": [
    {
      "cell_type": "markdown",
      "metadata": {
        "id": "EjRVCVO3v-EB"
      },
      "source": [
        "## Resources on PLY\n",
        "\n",
        " \n",
        "## Documentation of PLY is here: https://www.dabeaz.com/ply/ply.html\n",
        " "
      ]
    },
    {
      "cell_type": "markdown",
      "metadata": {
        "id": "2DeNfLbdv-EK"
      },
      "source": [
        "## This Youtube video is a talk by David Beazley, the author of PLY"
      ]
    },
    {
      "cell_type": "code",
      "execution_count": null,
      "metadata": {
        "id": "FLHNPaA_v-EL"
      },
      "outputs": [],
      "source": [
        "from IPython.display import YouTubeVideo\n",
        "# Direct path is https://youtu.be/zJ9z6Ge-vXs\n",
        "YouTubeVideo('zJ9z6Ge-vXs')"
      ]
    },
    {
      "cell_type": "markdown",
      "metadata": {
        "id": "EgXJlPVqv-EN"
      },
      "source": [
        " ## This Youtube video is a talk on creating a calculator using PLY\n",
        " "
      ]
    },
    {
      "cell_type": "code",
      "execution_count": null,
      "metadata": {
        "id": "b3dMyRGZv-EO"
      },
      "outputs": [],
      "source": [
        "from IPython.display import YouTubeVideo\n",
        "# Direct path is  https://youtu.be/Hh49BXmHxX8\n",
        "YouTubeVideo('Hh49BXmHxX8')"
      ]
    },
    {
      "cell_type": "markdown",
      "metadata": {
        "id": "hUu8ICVGv-EO"
      },
      "source": [
        "# THIS NOTEBOOK is referenced in Asg-6\n",
        "# It Creates a RegExp Parser + Draw Parse Trees\n",
        "\n",
        "# YOUR QUESTIONS are at the end!"
      ]
    },
    {
      "cell_type": "code",
      "execution_count": null,
      "metadata": {
        "run_control": {
          "frozen": false,
          "read_only": false
        },
        "colab": {
          "base_uri": "https://localhost:8080/"
        },
        "id": "IbliX8WZv-EP",
        "outputId": "066076b2-7870-4464-a62c-19893ae0be2a"
      },
      "outputs": [
        {
          "output_type": "stream",
          "name": "stdout",
          "text": [
            "Cloning into 'Jove'...\n",
            "remote: Enumerating objects: 6011, done.\u001b[K\n",
            "remote: Counting objects: 100% (1377/1377), done.\u001b[K\n",
            "remote: Compressing objects: 100% (574/574), done.\u001b[K\n",
            "remote: Total 6011 (delta 792), reused 1324 (delta 748), pack-reused 4634\u001b[K\n",
            "Receiving objects: 100% (6011/6011), 9.13 MiB | 22.15 MiB/s, done.\n",
            "Resolving deltas: 100% (3797/3797), done.\n",
            "You may use any of these help commands:\n",
            "help(ResetStNum)\n",
            "help(NxtStateStr)\n",
            "\n",
            "You may use any of these help commands:\n",
            "help(mkp_dfa)\n",
            "help(mk_dfa)\n",
            "help(totalize_dfa)\n",
            "help(addtosigma_delta)\n",
            "help(step_dfa)\n",
            "help(run_dfa)\n",
            "help(accepts_dfa)\n",
            "help(comp_dfa)\n",
            "help(flTup)\n",
            "help(union_dfa)\n",
            "help(intersect_dfa)\n",
            "help(pruneUnreach)\n",
            "help(iso_dfa)\n",
            "help(langeq_dfa)\n",
            "help(same_status)\n",
            "help(h_langeq_dfa)\n",
            "help(fixptDist)\n",
            "help(min_dfa)\n",
            "help(pairFR)\n",
            "help(state_combos)\n",
            "help(sepFinNonFin)\n",
            "help(bash_eql_classes)\n",
            "help(listminus)\n",
            "help(bash_1)\n",
            "help(mk_rep_eqc)\n",
            "help(F_of)\n",
            "help(rep_of_s)\n",
            "help(q0_of)\n",
            "help(Delta_of)\n",
            "help(mk_state_eqc_name)\n",
            "\n",
            "You may use any of these help commands:\n",
            "help(mk_nfa)\n",
            "help(totalize_nfa)\n",
            "help(step_nfa)\n",
            "help(run_nfa)\n",
            "help(ec_step_nfa)\n",
            "help(Eclosure)\n",
            "help(Echelp)\n",
            "help(accepts_nfa)\n",
            "help(nfa2dfa)\n",
            "help(n2d)\n",
            "help(inSets)\n",
            "help(rev_dfa)\n",
            "help(min_dfa_brz)\n",
            "\n"
          ]
        }
      ],
      "source": [
        "#~~~~~~~~~~~~~~~~~~~~~~~~~~~~~~~~~~~~~~~~~~~~~~~~~~~~~~~\n",
        "import sys\n",
        "\n",
        "# -- Detect if in Own Install or in Colab\n",
        "try:\n",
        "    import google.colab\n",
        "    OWN_INSTALL = False\n",
        "except:\n",
        "    OWN_INSTALL = True\n",
        "    \n",
        "if OWN_INSTALL:\n",
        "    \n",
        "  #---- Leave these definitions ON if running on laptop\n",
        "  #---- Else turn OFF by putting them between ''' ... '''\n",
        "\n",
        "  sys.path[0:0] = ['../../../../..',  '../../../../../3rdparty',  \n",
        "                   '../../../..',  '../../../../3rdparty',  \n",
        "                   '../../..',     '../../../3rdparty', \n",
        "                   '../..',        '../../3rdparty',\n",
        "                   '..',           '../3rdparty' ]\n",
        "\n",
        "else: # In colab\n",
        "  ! if [ ! -d Jove ]; then git clone https://github.com/ganeshutah/Jove Jove; fi\n",
        "  sys.path.append('./Jove')\n",
        "  sys.path.append('./Jove/jove')\n",
        "\n",
        "# -- common imports --\n",
        "from jove.lex import lex\n",
        "from jove.yacc import yacc\n",
        "\n",
        "from jove.StateNameSanitizers import ResetStNum, NxtStateStr\n",
        "from jove.SystemImports       import *\n",
        "\n",
        "from jove.Def_NFA import mk_nfa\n",
        "from jove.DotBashers import *\n",
        "\n",
        "#~~~~~~~~~~~~~~~~~~~~~~~~~~~~~~~~~~~~~~~~~~~~~~~~~~~~~~~"
      ]
    },
    {
      "cell_type": "code",
      "execution_count": null,
      "metadata": {
        "run_control": {
          "frozen": false,
          "read_only": false
        },
        "id": "KwppFU5ev-EQ"
      },
      "outputs": [],
      "source": [
        "tokens = ('EPS','STR','LPAREN','RPAREN','PLUS','STAR')  \n",
        "\n",
        "# Tokens in our RE are these\n",
        "t_EPS     = r'\\'\\'|\\\"\\\"'  # Not allowing @ for empty string anymore! # t_EPS = r'\\@'\n",
        "\n",
        "# The following allows one lower-case, one upper-case or one digit to be used in our REs\n",
        "t_STR     = r'[a-zA-Z0-9]'\n",
        "\n",
        "t_LPAREN  = r'\\('\n",
        "t_RPAREN  = r'\\)'\n",
        "\n",
        "t_PLUS    = r'\\+'\n",
        "t_STAR    = r'\\*'\n",
        "\n",
        "\n",
        "\n",
        "# Ignored characters\n",
        "t_ignore = \" \\t\"\n",
        "\n",
        "def t_newline(t):\n",
        "    r'\\n+'\n",
        "    t.lexer.lineno += t.value.count(\"\\n\")\n",
        "    \n",
        "def t_error(t):\n",
        "    print(\"Illegal character '%s'\" % t.value[0])\n",
        "    t.lexer.skip(1)\n",
        "    \n",
        "\n",
        "def p_expression_plus(t):\n",
        "    'expression : expression PLUS catexp'\n",
        "    #\n",
        "    nfa = mk_plus_nfa(t[1]['nfa'], t[3]['nfa']) # Union of the two NFAs is returned\n",
        "    tree = attrDyadicInfix(\"+\", t[1], t[3])\n",
        "    tree.update({'nfa':nfa})\n",
        "    t[0] = tree\n",
        "    \n",
        "\n",
        "def p_expression_plus1(t):\n",
        "    'expression : catexp'\n",
        "    #\n",
        "    t[0] = t[1]  \n",
        "\n",
        "def p_expression_cat(t):\n",
        "    'catexp :  catexp ordyexp'\n",
        "    #\n",
        "    nfa = mk_cat_nfa(t[1]['nfa'], t[2]['nfa'])\n",
        "    #--insert new field 'nfa'\n",
        "    tree = attrDyadicInfix(\".\", t[1], t[2])\n",
        "    tree.update({'nfa':nfa})\n",
        "    t[0] = tree\n",
        "\n",
        "def p_expression_cat1(t):\n",
        "    'catexp :  ordyexp'\n",
        "    #\n",
        "    t[0] = t[1] \n",
        "\n",
        "# We employ field 'ast' of the dict to record the abstract syntax tree. \n",
        "# Field 'dig' holds a digraph. It too is a dict. \n",
        "# Its fields are nl for the node list and el for the edge list\n",
        "\n",
        "def p_expression_ordy_star(t):\n",
        "    'ordyexp : ordyexp STAR'\n",
        "    #\n",
        "    nfa = mk_star_nfa(t[1]['nfa'])\n",
        "    \n",
        "    ast = ('*', t[1]['ast'])\n",
        "    nlin = t[1]['dig']['nl']\n",
        "    elin = t[1]['dig']['el']\n",
        "    \n",
        "    rootin = nlin[0]\n",
        "\n",
        "    root = NxtStateStr(\"R*_\") \n",
        "    right = NxtStateStr(\"*_\")\n",
        "\n",
        "    t[0] = {'nfa' : nfa,\n",
        "            'ast' : ast,\n",
        "            'dig' : {'nl' : [root] + nlin + [right], # this order important for proper layout!\n",
        "                     'el' : elin + [ (root, rootin),\n",
        "                                     (root, right) ]\n",
        "                    }}\n",
        "    \n",
        "def p_expression_ordy_paren(t):\n",
        "    'ordyexp : LPAREN expression RPAREN'\n",
        "    #\n",
        "    nfa  = t[2]['nfa']\n",
        "    \n",
        "    ast  = t[2]['ast']\n",
        "    nlin = t[2]['dig']['nl']\n",
        "    elin = t[2]['dig']['el']\n",
        "    \n",
        "    rootin = nlin[0]\n",
        "    \n",
        "    root = NxtStateStr(\"(R)_\")\n",
        "    left = NxtStateStr(\"(_\")\n",
        "    right= NxtStateStr(\")_\")\n",
        "    \n",
        "    t[0] = {'nfa' : nfa,\n",
        "            'ast' : ast,\n",
        "            'dig' : {'nl' : [root, left] + nlin + [right], #order important f. proper layout!\n",
        "                     'el' : elin + [ (root, left),\n",
        "                                     (root, rootin),\n",
        "                                     (root, right) ]\n",
        "                    }}\n",
        "    \n",
        "def p_expression_ordy_eps(t):\n",
        "    'ordyexp : EPS'\n",
        "    #\n",
        "    strn = '@'\n",
        "    ast  = ('@', strn)           \n",
        "    t[0] = { 'nfa' : mk_eps_nfa(),\n",
        "             'ast' : ast,\n",
        "             'dig' : {'nl' : [ strn + NxtStateStr(\"_\") ],\n",
        "                      'el' : []\n",
        "                     }} \n",
        "    \n",
        "def p_expression_ordy_str(t):\n",
        "    'ordyexp : STR'\n",
        "    #\n",
        "    str = t[1]\n",
        "    nfa_STR = mk_symbol_nfa(t[1])\n",
        "    ast  = ('str', str)\n",
        "    t[0] = {'nfa' : nfa_STR,\n",
        "            'ast' : ast,\n",
        "            'dig' : {'nl' : [ str + NxtStateStr(\"_\") ],\n",
        "                     'el' : [] \n",
        "                    }}\n",
        "    \n",
        "def p_error(t):\n",
        "    print(\"Syntax error at '%s'\" % t.value)\n",
        "\n",
        "#--\n",
        "def parseRE(s):\n",
        "    \"\"\"In: a string s containing a regular expression.\n",
        "       Out: An attribute quadruple (nfa,ast,nodelist,edgelist)        \n",
        "    \"\"\"\n",
        "    mylexer  = lex()\n",
        "    myparser = yacc()\n",
        "    #-- pass the right lexer into the parser    \n",
        "    p = myparser.parse(s, lexer = mylexer)  \n",
        "    return (p['nfa'], p['ast'], p['dig']['nl'], p['dig']['el']) \n",
        "\n",
        "#--\n",
        "def mk_plus_nfa(N1, N2):\n",
        "    \"\"\"Given two NFAs, return their union.\n",
        "    \"\"\"\n",
        "    delta_accum = dict({})\n",
        "    delta_accum.update(N1[\"Delta\"])\n",
        "    delta_accum.update(N2[\"Delta\"]) # Simply accumulate the transitions\n",
        "    # The alphabet is inferred bottom-up; thus we must union the Sigmas \n",
        "    # of the NFAs!\n",
        "    return mk_nfa(Q     = N1[\"Q\"] | N2[\"Q\"], \n",
        "                  Sigma = N1[\"Sigma\"] | N2[\"Sigma\"], \n",
        "                  Delta = delta_accum, \n",
        "                  Q0    = N1[\"Q0\"] | N2[\"Q0\"], \n",
        "                  F     = N1[\"F\"] | N2[\"F\"])  \n",
        "\n",
        "def mk_cat_nfa(N1, N2):\n",
        "    '''Given two NFAs, return their concatenation.\n",
        "    '''\n",
        "    delta_accum = dict({}) \n",
        "    delta_accum.update(N1[\"Delta\"])\n",
        "    delta_accum.update(N2[\"Delta\"])\n",
        "    # Now, introduce moves from every one of N1's final states\n",
        "    # to the set of N2's initial states.\n",
        "    for f in N1[\"F\"]:\n",
        "        # However, N1's final states may already have epsilon moves to\n",
        "        # other N1-states!\n",
        "        # Expand the target of such jumps to include N2's Q0 also!\n",
        "        if (f, \"\") in N1[\"Delta\"]: \n",
        "            delta_accum.update({ (f,\"\"):(N2[\"Q0\"] | N1[\"Delta\"][(f, \"\")])\n",
        "                               })\n",
        "        else:\n",
        "            delta_accum.update({ (f, \"\"): N2[\"Q0\"] })\n",
        "    # In syntax-directed translation, it is impossible\n",
        "    # that N2 and N1 have common states. Check anyhow\n",
        "    # in case there are bugs elsewhere that cause it.\n",
        "    assert((N2[\"F\"] & N1[\"F\"]) == set({})) \n",
        "    return mk_nfa(Q     = N1[\"Q\"] | N2[\"Q\"], \n",
        "                  Sigma = N1[\"Sigma\"] | N2[\"Sigma\"], \n",
        "                  Delta = delta_accum, \n",
        "                  Q0    = N1[\"Q0\"],\n",
        "                  F     = N2[\"F\"])\n",
        "\n",
        "\n",
        "def mk_star_nfa(N):\n",
        "    '''Given an NFA, make its star.\n",
        "    '''\n",
        "    # Follow construction from Kozen's book:\n",
        "    # 1) Introduce new (single) start+final state IF\n",
        "    # 2) Let Q0 = set({ IF })\n",
        "    # 2) Move on epsilon from IF to the set N[Q0]\n",
        "    # 3) Make N[F] non-final\n",
        "    # 4) Spin back from every state in N[F] to Q0\n",
        "    #\n",
        "    delta_accum = dict({})\n",
        "    IF = NxtStateStr()\n",
        "    Q0 = set({ IF }) # new set of start + final states\n",
        "    # Jump from IF to N's start state set\n",
        "    delta_accum.update({ (IF,\"\"): N[\"Q0\"] })\n",
        "    delta_accum.update(N[\"Delta\"])\n",
        "    #\n",
        "    for f in N[\"F\"]:\n",
        "        # N's final states may already have epsilon moves to\n",
        "        # other N-states!\n",
        "        # Expand the target of such jumps to include Q0 also.\n",
        "        if (f, \"\") in N[\"Delta\"]:\n",
        "            delta_accum.update({ (f, \"\"): (Q0 | N[\"Delta\"][(f, \"\")]) })\n",
        "        else:\n",
        "            delta_accum.update({ (f, \"\"): Q0 })\n",
        "    #\n",
        "    return mk_nfa(Q     = N[\"Q\"] | Q0, \n",
        "                  Sigma = N[\"Sigma\"], \n",
        "                  Delta = delta_accum, \n",
        "                  Q0    = Q0, \n",
        "                  F     = Q0)\n",
        "\n",
        "\n",
        "def mk_eps_nfa():\n",
        "    \"\"\"An nfa with exactly one start+final state, which is the NFA for Epsilon.\n",
        "    \"\"\"\n",
        "    Q0 = set({ NxtStateStr() })\n",
        "    F  = Q0\n",
        "    return mk_nfa(Q     = Q0, \n",
        "                  Sigma = set({}), \n",
        "                  Delta = dict({}), \n",
        "                  Q0    = Q0, \n",
        "                  F     = Q0)                      \n",
        "\n",
        "def mk_symbol_nfa(a):\n",
        "    \"\"\"The NFA for a single re letter.\n",
        "    \"\"\"\n",
        "    # Make a fresh initial state\n",
        "    q0 = NxtStateStr()\n",
        "    Q0 = set({ q0 })\n",
        "    # Make a fresh final state\n",
        "    f = NxtStateStr()\n",
        "    F = set({ f })\n",
        "    return mk_nfa(Q     = Q0 | F, \n",
        "                  Sigma = set({a}), \n",
        "                  Delta = { (q0,a): F },\n",
        "                  Q0    = Q0, \n",
        "                  F     = F)\n",
        "                                                        "
      ]
    },
    {
      "cell_type": "code",
      "execution_count": null,
      "metadata": {
        "id": "bXLKVYKzv-EW"
      },
      "outputs": [],
      "source": [
        "def attrDyadicInfix(op, attr1, attr3):         # <== this is what prints the parse-tree\n",
        "    ast  = (op, (attr1['ast'], attr3['ast']))  # <== for an infix operator\n",
        "    \n",
        "    nlin1 = attr1['dig']['nl']\n",
        "    nlin3 = attr3['dig']['nl']\n",
        "    nlin  = nlin1 + nlin3\n",
        "    \n",
        "    elin1 = attr1['dig']['el']\n",
        "    elin3 = attr3['dig']['el']\n",
        "    elin  = elin1 + elin3\n",
        "    \n",
        "    rootin1 = nlin1[0]\n",
        "    rootin3 = nlin3[0]    \n",
        "    \n",
        "    root   = NxtStateStr(\"R1\"+op+\"R2\"+\"_\") # NxtStateStr(\"$_\")\n",
        "    left   = rootin1\n",
        "    middle = NxtStateStr(op+\"_\")\n",
        "    right  = rootin3\n",
        "    \n",
        "    return {'ast' : ast,\n",
        "            'dig' : {'nl' : [ root, left, middle, right ] + nlin,\n",
        "                     'el' : elin + [ (root, left),\n",
        "                                     (root, middle),\n",
        "                                     (root, right) ]\n",
        "                     }}\n",
        "\n",
        "\n",
        "def drawPT(nfa_ast_nl_el, comment=\"PT\"):\n",
        "    \"\"\"Given an (nfa, ast, nl, el) quadruple where nl is the node and el the edge-list,\n",
        "       draw the Parse Tree by returning a dot object. Also return the NFA dot object.\n",
        "    \"\"\"\n",
        "    (nfa, ast, nl, el) = nfa_ast_nl_el\n",
        "    print(\"Drawing AST for \", ast)\n",
        "    dotObj_pt = Digraph(comment)\n",
        "    dotObj_pt.graph_attr['rankdir'] = 'TB'\n",
        "    for n in nl:\n",
        "        prNam = n.split('_')[0]\n",
        "        dotObj_pt.node(n, prNam, shape=\"oval\", peripheries=\"1\")\n",
        "    for e in el:\n",
        "        dotObj_pt.edge(e[0], e[1])\n",
        "    return (dotObj_nfa(nfa), dotObj_pt)"
      ]
    },
    {
      "cell_type": "markdown",
      "metadata": {
        "run_control": {
          "frozen": false,
          "read_only": false
        },
        "id": "_Xc5eSOgv-EY"
      },
      "source": [
        "# Now answer these questions"
      ]
    },
    {
      "cell_type": "code",
      "execution_count": null,
      "metadata": {
        "colab": {
          "base_uri": "https://localhost:8080/"
        },
        "id": "0Lj4zQc3v-EY",
        "outputId": "e3c44e01-7928-4cc6-ccf3-685d8418121e"
      },
      "outputs": [
        {
          "output_type": "stream",
          "name": "stderr",
          "text": [
            "WARNING: ./Jove/jove/StateNameSanitizers.py:32: Possible grammar rule 'dotsan_map' defined without p_ prefix\n",
            "WARNING: ./Jove/jove/StateNameSanitizers.py:49: Possible grammar rule 'dot_san_str' defined without p_ prefix\n",
            "WARNING: ./Jove/jove/StateNameSanitizers.py:63: Possible grammar rule 'isNotBH' defined without p_ prefix\n",
            "WARNING: ./Jove/jove/TransitionSelectors.py:16: Possible grammar rule 'fn_dom' defined without p_ prefix\n",
            "WARNING: ./Jove/jove/TransitionSelectors.py:22: Possible grammar rule 'fn_range' defined without p_ prefix\n",
            "WARNING: ./Jove/jove/TransitionSelectors.py:28: Possible grammar rule 'fn_trans' defined without p_ prefix\n",
            "WARNING: ./Jove/jove/ShrinkStates.py:57: Possible grammar rule 'shrink_nfastates' defined without p_ prefix\n",
            "WARNING: ./Jove/jove/DotBashers.py:36: Possible grammar rule 'is_consistent_dfa' defined without p_ prefix\n",
            "WARNING: ./Jove/jove/DotBashers.py:43: Possible grammar rule 'is_partially_consistent_dfa' defined without p_ prefix\n",
            "WARNING: ./Jove/jove/DotBashers.py:73: Possible grammar rule 'is_consistent_nfa' defined without p_ prefix\n",
            "WARNING: ./Jove/jove/DotBashers.py:104: Possible grammar rule 'is_consistent_gnfa' defined without p_ prefix\n",
            "WARNING: ./Jove/jove/DotBashers.py:477: Possible grammar rule 'prFinalNodeName' defined without p_ prefix\n",
            "WARNING: ./Jove/jove/DotBashers.py:496: Possible grammar rule 'prNonFinalNodeName' defined without p_ prefix\n",
            "WARNING: ./Jove/jove/DotBashers.py:416: Possible grammar rule 'prNFANodeDefs' defined without p_ prefix\n",
            "Generating LALR tables\n"
          ]
        },
        {
          "output_type": "execute_result",
          "data": {
            "text/plain": [
              "({'Q': {'St1'}, 'Sigma': set(), 'Delta': {}, 'Q0': {'St1'}, 'F': {'St1'}},\n",
              " ('@', '@'),\n",
              " ['@_2'],\n",
              " [])"
            ]
          },
          "metadata": {},
          "execution_count": 4
        }
      ],
      "source": [
        "parseRE(\"''\")"
      ]
    },
    {
      "cell_type": "code",
      "execution_count": null,
      "metadata": {
        "colab": {
          "base_uri": "https://localhost:8080/"
        },
        "id": "YihclDOQv-EZ",
        "outputId": "4d6a172e-db93-49f3-a925-d3fb2a71a2bb"
      },
      "outputs": [
        {
          "output_type": "stream",
          "name": "stdout",
          "text": [
            "Drawing AST for  ('@', '@')\n"
          ]
        }
      ],
      "source": [
        "(n,t) = drawPT(parseRE(\"''\"))"
      ]
    },
    {
      "cell_type": "code",
      "execution_count": null,
      "metadata": {
        "colab": {
          "base_uri": "https://localhost:8080/",
          "height": 105
        },
        "id": "-gxuyAkDv-Ef",
        "outputId": "32837587-4346-4caa-9a8b-6f8b2db11f53"
      },
      "outputs": [
        {
          "output_type": "execute_result",
          "data": {
            "text/plain": [
              "<graphviz.dot.Digraph at 0x7f01820a6810>"
            ],
            "image/svg+xml": "<?xml version=\"1.0\" encoding=\"UTF-8\" standalone=\"no\"?>\n<!DOCTYPE svg PUBLIC \"-//W3C//DTD SVG 1.1//EN\"\n \"http://www.w3.org/Graphics/SVG/1.1/DTD/svg11.dtd\">\n<!-- Generated by graphviz version 2.40.1 (20161225.0304)\n -->\n<!-- Title: %3 Pages: 1 -->\n<svg width=\"153pt\" height=\"63pt\"\n viewBox=\"0.00 0.00 152.80 62.80\" xmlns=\"http://www.w3.org/2000/svg\" xmlns:xlink=\"http://www.w3.org/1999/xlink\">\n<g id=\"graph0\" class=\"graph\" transform=\"scale(1 1) rotate(0) translate(4 58.7958)\">\n<title>%3</title>\n<polygon fill=\"#ffffff\" stroke=\"transparent\" points=\"-4,4 -4,-58.7958 148.7958,-58.7958 148.7958,4 -4,4\"/>\n<!-- EMPTY -->\n<g id=\"node1\" class=\"node\">\n<title>EMPTY</title>\n</g>\n<!-- St3 -->\n<g id=\"node2\" class=\"node\">\n<title>St3</title>\n<ellipse fill=\"none\" stroke=\"#000000\" cx=\"117.3979\" cy=\"-27.3979\" rx=\"23.3111\" ry=\"23.3111\"/>\n<ellipse fill=\"none\" stroke=\"#000000\" cx=\"117.3979\" cy=\"-27.3979\" rx=\"27.2962\" ry=\"27.2962\"/>\n<text text-anchor=\"middle\" x=\"117.3979\" y=\"-23.6979\" font-family=\"Times,serif\" font-size=\"14.00\" fill=\"#000000\">St3</text>\n</g>\n<!-- EMPTY&#45;&gt;St3 -->\n<g id=\"edge1\" class=\"edge\">\n<title>EMPTY&#45;&gt;St3</title>\n<path fill=\"none\" stroke=\"#000000\" d=\"M54.1224,-27.3979C62.1825,-27.3979 71.1609,-27.3979 79.7631,-27.3979\"/>\n<polygon fill=\"#000000\" stroke=\"#000000\" points=\"79.9823,-30.898 89.9823,-27.3979 79.9822,-23.898 79.9823,-30.898\"/>\n</g>\n</g>\n</svg>\n"
          },
          "metadata": {},
          "execution_count": 6
        }
      ],
      "source": [
        "n"
      ]
    },
    {
      "cell_type": "code",
      "execution_count": null,
      "metadata": {
        "colab": {
          "base_uri": "https://localhost:8080/",
          "height": 80
        },
        "id": "7lAEWuELv-Ef",
        "outputId": "2227cc2c-8c82-4efe-b04c-582b7b0350d6"
      },
      "outputs": [
        {
          "output_type": "execute_result",
          "data": {
            "text/plain": [
              "<graphviz.dot.Digraph at 0x7f01820a6690>"
            ],
            "image/svg+xml": "<?xml version=\"1.0\" encoding=\"UTF-8\" standalone=\"no\"?>\n<!DOCTYPE svg PUBLIC \"-//W3C//DTD SVG 1.1//EN\"\n \"http://www.w3.org/Graphics/SVG/1.1/DTD/svg11.dtd\">\n<!-- Generated by graphviz version 2.40.1 (20161225.0304)\n -->\n<!-- Title: PT Pages: 1 -->\n<svg width=\"62pt\" height=\"44pt\"\n viewBox=\"0.00 0.00 62.00 44.00\" xmlns=\"http://www.w3.org/2000/svg\" xmlns:xlink=\"http://www.w3.org/1999/xlink\">\n<g id=\"graph0\" class=\"graph\" transform=\"scale(1 1) rotate(0) translate(4 40)\">\n<title>PT</title>\n<polygon fill=\"#ffffff\" stroke=\"transparent\" points=\"-4,4 -4,-40 58,-40 58,4 -4,4\"/>\n<!-- @_4 -->\n<g id=\"node1\" class=\"node\">\n<title>@_4</title>\n<ellipse fill=\"none\" stroke=\"#000000\" cx=\"27\" cy=\"-18\" rx=\"27\" ry=\"18\"/>\n<text text-anchor=\"middle\" x=\"27\" y=\"-14.3\" font-family=\"Times,serif\" font-size=\"14.00\" fill=\"#000000\">@</text>\n</g>\n</g>\n</svg>\n"
          },
          "metadata": {},
          "execution_count": 7
        }
      ],
      "source": [
        "t"
      ]
    },
    {
      "cell_type": "code",
      "execution_count": null,
      "metadata": {
        "colab": {
          "base_uri": "https://localhost:8080/"
        },
        "id": "mfPYGwTvv-Eg",
        "outputId": "e050e400-fc68-40ef-b6c7-8161122e8876"
      },
      "outputs": [
        {
          "output_type": "stream",
          "name": "stdout",
          "text": [
            "Drawing AST for  ('*', ('+', (('.', (('*', ('str', 'a')), ('*', ('str', 'b')))), ('.', (('str', 'c'), ('str', 'c'))))))\n"
          ]
        }
      ],
      "source": [
        "(n1,t1) = drawPT(parseRE(\"(a*b*+cc)*\"))"
      ]
    },
    {
      "cell_type": "code",
      "execution_count": null,
      "metadata": {
        "colab": {
          "base_uri": "https://localhost:8080/"
        },
        "id": "WD3ZFCLqv-Eg",
        "outputId": "bfdaccf7-7380-4227-f043-37b5ed8d1132"
      },
      "outputs": [
        {
          "output_type": "stream",
          "name": "stdout",
          "text": [
            "Drawing AST for  ('+', (('*', ('.', (('*', ('str', 'a')), ('str', 'b')))), ('.', (('str', 'c'), ('*', ('str', 'c'))))))\n"
          ]
        }
      ],
      "source": [
        "(n2,t2) = drawPT(parseRE(\"(a*b)*+cc*\"))"
      ]
    },
    {
      "cell_type": "code",
      "execution_count": null,
      "metadata": {
        "colab": {
          "base_uri": "https://localhost:8080/",
          "height": 451
        },
        "id": "vFFGQOQ7v-Eh",
        "outputId": "ddecc4fd-cd04-48cd-c906-d6aa32f06cee"
      },
      "outputs": [
        {
          "output_type": "execute_result",
          "data": {
            "text/plain": [
              "<graphviz.dot.Digraph at 0x7f0182000d90>"
            ],
            "image/svg+xml": "<?xml version=\"1.0\" encoding=\"UTF-8\" standalone=\"no\"?>\n<!DOCTYPE svg PUBLIC \"-//W3C//DTD SVG 1.1//EN\"\n \"http://www.w3.org/Graphics/SVG/1.1/DTD/svg11.dtd\">\n<!-- Generated by graphviz version 2.40.1 (20161225.0304)\n -->\n<!-- Title: %3 Pages: 1 -->\n<svg width=\"578pt\" height=\"307pt\"\n viewBox=\"0.00 0.00 577.97 307.40\" xmlns=\"http://www.w3.org/2000/svg\" xmlns:xlink=\"http://www.w3.org/1999/xlink\">\n<g id=\"graph0\" class=\"graph\" transform=\"scale(1 1) rotate(0) translate(4 303.3979)\">\n<title>%3</title>\n<polygon fill=\"#ffffff\" stroke=\"transparent\" points=\"-4,4 -4,-303.3979 573.9746,-303.3979 573.9746,4 -4,4\"/>\n<!-- EMPTY -->\n<g id=\"node1\" class=\"node\">\n<title>EMPTY</title>\n</g>\n<!-- St33 -->\n<g id=\"node12\" class=\"node\">\n<title>St33</title>\n<ellipse fill=\"none\" stroke=\"#000000\" cx=\"123.5975\" cy=\"-178.3979\" rx=\"28.6832\" ry=\"28.6832\"/>\n<ellipse fill=\"none\" stroke=\"#000000\" cx=\"123.5975\" cy=\"-178.3979\" rx=\"32.6952\" ry=\"32.6952\"/>\n<text text-anchor=\"middle\" x=\"123.5975\" y=\"-174.6979\" font-family=\"Times,serif\" font-size=\"14.00\" fill=\"#000000\">St33</text>\n</g>\n<!-- EMPTY&#45;&gt;St33 -->\n<g id=\"edge1\" class=\"edge\">\n<title>EMPTY&#45;&gt;St33</title>\n<path fill=\"none\" stroke=\"#000000\" d=\"M54.1648,-178.3979C62.4359,-178.3979 71.7369,-178.3979 80.7785,-178.3979\"/>\n<polygon fill=\"#000000\" stroke=\"#000000\" points=\"80.8077,-181.898 90.8076,-178.3979 80.8076,-174.898 80.8077,-181.898\"/>\n</g>\n<!-- St20 -->\n<g id=\"node2\" class=\"node\">\n<title>St20</title>\n<ellipse fill=\"none\" stroke=\"#000000\" cx=\"229.7924\" cy=\"-210.3979\" rx=\"28.6953\" ry=\"28.6953\"/>\n<text text-anchor=\"middle\" x=\"229.7924\" y=\"-206.6979\" font-family=\"Times,serif\" font-size=\"14.00\" fill=\"#000000\">St20</text>\n</g>\n<!-- St21 -->\n<g id=\"node6\" class=\"node\">\n<title>St21</title>\n<ellipse fill=\"none\" stroke=\"#000000\" cx=\"332.9873\" cy=\"-219.3979\" rx=\"28.6953\" ry=\"28.6953\"/>\n<text text-anchor=\"middle\" x=\"332.9873\" y=\"-215.6979\" font-family=\"Times,serif\" font-size=\"14.00\" fill=\"#000000\">St21</text>\n</g>\n<!-- St20&#45;&gt;St21 -->\n<g id=\"edge12\" class=\"edge\">\n<title>St20&#45;&gt;St21</title>\n<path fill=\"none\" stroke=\"#000000\" d=\"M258.5379,-212.9049C269.6082,-213.8704 282.4372,-214.9893 294.2946,-216.0234\"/>\n<polygon fill=\"#000000\" stroke=\"#000000\" points=\"294.1296,-219.5222 304.3959,-216.9044 294.7379,-212.5487 294.1296,-219.5222\"/>\n<text text-anchor=\"middle\" x=\"281.3899\" y=\"-218.1979\" font-family=\"Times,serif\" font-size=\"14.00\" fill=\"#000000\">c </text>\n</g>\n<!-- St23 -->\n<g id=\"node3\" class=\"node\">\n<title>St23</title>\n<ellipse fill=\"none\" stroke=\"#000000\" cx=\"436.1822\" cy=\"-227.3979\" rx=\"28.6953\" ry=\"28.6953\"/>\n<text text-anchor=\"middle\" x=\"436.1822\" y=\"-223.6979\" font-family=\"Times,serif\" font-size=\"14.00\" fill=\"#000000\">St23</text>\n</g>\n<!-- St24 -->\n<g id=\"node4\" class=\"node\">\n<title>St24</title>\n<ellipse fill=\"none\" stroke=\"#000000\" cx=\"541.3772\" cy=\"-246.3979\" rx=\"28.6953\" ry=\"28.6953\"/>\n<text text-anchor=\"middle\" x=\"541.3772\" y=\"-242.6979\" font-family=\"Times,serif\" font-size=\"14.00\" fill=\"#000000\">St24</text>\n</g>\n<!-- St23&#45;&gt;St24 -->\n<g id=\"edge13\" class=\"edge\">\n<title>St23&#45;&gt;St24</title>\n<path fill=\"none\" stroke=\"#000000\" d=\"M464.3725,-232.4896C476.282,-234.6406 490.3365,-237.1791 503.1567,-239.4947\"/>\n<polygon fill=\"#000000\" stroke=\"#000000\" points=\"502.6461,-242.959 513.109,-241.2922 503.8904,-236.0705 502.6461,-242.959\"/>\n<text text-anchor=\"middle\" x=\"488.7797\" y=\"-241.1979\" font-family=\"Times,serif\" font-size=\"14.00\" fill=\"#000000\">c </text>\n</g>\n<!-- St24&#45;&gt;St33 -->\n<g id=\"edge15\" class=\"edge\">\n<title>St24&#45;&gt;St33</title>\n<path fill=\"none\" stroke=\"#000000\" d=\"M516.3515,-260.981C495.5897,-271.6972 464.921,-284.3979 436.1822,-284.3979 229.7924,-284.3979 229.7924,-284.3979 229.7924,-284.3979 190.3169,-284.3979 160.3649,-247.2541 142.4941,-216.9416\"/>\n<polygon fill=\"#000000\" stroke=\"#000000\" points=\"145.5249,-215.1906 137.5575,-208.2069 139.4308,-218.6348 145.5249,-215.1906\"/>\n<text text-anchor=\"middle\" x=\"332.9873\" y=\"-288.1979\" font-family=\"Times,serif\" font-size=\"14.00\" fill=\"#000000\">&#39;&#39; </text>\n</g>\n<!-- St12 -->\n<g id=\"node5\" class=\"node\">\n<title>St12</title>\n<ellipse fill=\"none\" stroke=\"#000000\" cx=\"436.1822\" cy=\"-99.3979\" rx=\"28.6953\" ry=\"28.6953\"/>\n<text text-anchor=\"middle\" x=\"436.1822\" y=\"-95.6979\" font-family=\"Times,serif\" font-size=\"14.00\" fill=\"#000000\">St12</text>\n</g>\n<!-- St13 -->\n<g id=\"node11\" class=\"node\">\n<title>St13</title>\n<ellipse fill=\"none\" stroke=\"#000000\" cx=\"541.3772\" cy=\"-151.3979\" rx=\"28.6953\" ry=\"28.6953\"/>\n<text text-anchor=\"middle\" x=\"541.3772\" y=\"-147.6979\" font-family=\"Times,serif\" font-size=\"14.00\" fill=\"#000000\">St13</text>\n</g>\n<!-- St12&#45;&gt;St13 -->\n<g id=\"edge10\" class=\"edge\">\n<title>St12&#45;&gt;St13</title>\n<path fill=\"none\" stroke=\"#000000\" d=\"M461.9158,-112.1186C475.288,-118.7287 491.8268,-126.9042 506.3475,-134.0821\"/>\n<polygon fill=\"#000000\" stroke=\"#000000\" points=\"505.0291,-137.3346 515.5447,-138.6284 508.1311,-131.0594 505.0291,-137.3346\"/>\n<text text-anchor=\"middle\" x=\"488.7797\" y=\"-130.1979\" font-family=\"Times,serif\" font-size=\"14.00\" fill=\"#000000\">b </text>\n</g>\n<!-- St21&#45;&gt;St23 -->\n<g id=\"edge14\" class=\"edge\">\n<title>St21&#45;&gt;St23</title>\n<path fill=\"none\" stroke=\"#000000\" d=\"M361.7329,-221.6264C372.8031,-222.4846 385.6321,-223.4791 397.4895,-224.3983\"/>\n<polygon fill=\"#000000\" stroke=\"#000000\" points=\"397.3502,-227.898 407.5909,-225.1814 397.8913,-220.9189 397.3502,-227.898\"/>\n<text text-anchor=\"middle\" x=\"384.5848\" y=\"-227.1979\" font-family=\"Times,serif\" font-size=\"14.00\" fill=\"#000000\">&#39;&#39; </text>\n</g>\n<!-- St7 -->\n<g id=\"node7\" class=\"node\">\n<title>St7</title>\n<ellipse fill=\"none\" stroke=\"#000000\" cx=\"436.1822\" cy=\"-27.3979\" rx=\"23.2963\" ry=\"23.2963\"/>\n<text text-anchor=\"middle\" x=\"436.1822\" y=\"-23.6979\" font-family=\"Times,serif\" font-size=\"14.00\" fill=\"#000000\">St7</text>\n</g>\n<!-- St9 -->\n<g id=\"node9\" class=\"node\">\n<title>St9</title>\n<ellipse fill=\"none\" stroke=\"#000000\" cx=\"229.7924\" cy=\"-85.3979\" rx=\"23.2963\" ry=\"23.2963\"/>\n<text text-anchor=\"middle\" x=\"229.7924\" y=\"-81.6979\" font-family=\"Times,serif\" font-size=\"14.00\" fill=\"#000000\">St9</text>\n</g>\n<!-- St7&#45;&gt;St9 -->\n<g id=\"edge7\" class=\"edge\">\n<title>St7&#45;&gt;St9</title>\n<path fill=\"none\" stroke=\"#000000\" d=\"M413.9464,-36.1206C406.2472,-39.1054 397.5514,-42.4372 389.5848,-45.3979 377.1982,-50.0013 374.2719,-51.7027 361.5848,-55.3979 328.3692,-65.0723 289.7012,-73.5535 262.8771,-79.0073\"/>\n<polygon fill=\"#000000\" stroke=\"#000000\" points=\"261.9785,-75.6177 252.8614,-81.0148 263.3543,-82.4812 261.9785,-75.6177\"/>\n<text text-anchor=\"middle\" x=\"332.9873\" y=\"-74.1979\" font-family=\"Times,serif\" font-size=\"14.00\" fill=\"#000000\">&#39;&#39; </text>\n</g>\n<!-- St6 -->\n<g id=\"node8\" class=\"node\">\n<title>St6</title>\n<ellipse fill=\"none\" stroke=\"#000000\" cx=\"332.9873\" cy=\"-23.3979\" rx=\"23.2963\" ry=\"23.2963\"/>\n<text text-anchor=\"middle\" x=\"332.9873\" y=\"-19.6979\" font-family=\"Times,serif\" font-size=\"14.00\" fill=\"#000000\">St6</text>\n</g>\n<!-- St6&#45;&gt;St7 -->\n<g id=\"edge6\" class=\"edge\">\n<title>St6&#45;&gt;St7</title>\n<path fill=\"none\" stroke=\"#000000\" d=\"M356.4038,-24.3056C369.8981,-24.8286 387.1019,-25.4955 402.0764,-26.0759\"/>\n<polygon fill=\"#000000\" stroke=\"#000000\" points=\"402.3731,-29.59 412.5012,-26.48 402.6443,-22.5952 402.3731,-29.59\"/>\n<text text-anchor=\"middle\" x=\"384.5848\" y=\"-30.1979\" font-family=\"Times,serif\" font-size=\"14.00\" fill=\"#000000\">a </text>\n</g>\n<!-- St9&#45;&gt;St6 -->\n<g id=\"edge5\" class=\"edge\">\n<title>St9&#45;&gt;St6</title>\n<path fill=\"none\" stroke=\"#000000\" d=\"M248.9635,-71.5022C257.2545,-65.6851 267.1563,-58.9905 276.3899,-53.3979 284.8424,-48.2784 294.2461,-43.0984 302.9223,-38.5168\"/>\n<polygon fill=\"#000000\" stroke=\"#000000\" points=\"304.7143,-41.5299 311.9718,-33.8112 301.4849,-35.3193 304.7143,-41.5299\"/>\n<text text-anchor=\"middle\" x=\"281.3899\" y=\"-57.1979\" font-family=\"Times,serif\" font-size=\"14.00\" fill=\"#000000\">&#39;&#39; </text>\n</g>\n<!-- St15 -->\n<g id=\"node10\" class=\"node\">\n<title>St15</title>\n<ellipse fill=\"none\" stroke=\"#000000\" cx=\"332.9873\" cy=\"-144.3979\" rx=\"28.6953\" ry=\"28.6953\"/>\n<text text-anchor=\"middle\" x=\"332.9873\" y=\"-140.6979\" font-family=\"Times,serif\" font-size=\"14.00\" fill=\"#000000\">St15</text>\n</g>\n<!-- St9&#45;&gt;St15 -->\n<g id=\"edge4\" class=\"edge\">\n<title>St9&#45;&gt;St15</title>\n<path fill=\"none\" stroke=\"#000000\" d=\"M250.1804,-97.0544C264.0271,-104.9711 282.6771,-115.6339 298.772,-124.8359\"/>\n<polygon fill=\"#000000\" stroke=\"#000000\" points=\"297.4791,-128.1283 307.8976,-130.0533 300.9535,-122.0514 297.4791,-128.1283\"/>\n<text text-anchor=\"middle\" x=\"281.3899\" y=\"-120.1979\" font-family=\"Times,serif\" font-size=\"14.00\" fill=\"#000000\">&#39;&#39; </text>\n</g>\n<!-- St15&#45;&gt;St12 -->\n<g id=\"edge9\" class=\"edge\">\n<title>St15&#45;&gt;St12</title>\n<path fill=\"none\" stroke=\"#000000\" d=\"M359.2948,-132.9261C371.7883,-127.4781 386.9099,-120.884 400.4256,-114.9902\"/>\n<polygon fill=\"#000000\" stroke=\"#000000\" points=\"402.1555,-118.0543 409.9228,-110.8488 399.3574,-111.6378 402.1555,-118.0543\"/>\n<text text-anchor=\"middle\" x=\"384.5848\" y=\"-126.1979\" font-family=\"Times,serif\" font-size=\"14.00\" fill=\"#000000\">&#39;&#39; </text>\n</g>\n<!-- St15&#45;&gt;St33 -->\n<g id=\"edge8\" class=\"edge\">\n<title>St15&#45;&gt;St33</title>\n<path fill=\"none\" stroke=\"#000000\" d=\"M304.2596,-145.8548C277.432,-147.5397 236.3609,-150.9512 201.1949,-157.3979 189.3034,-159.5779 176.5746,-162.6871 164.9368,-165.847\"/>\n<polygon fill=\"#000000\" stroke=\"#000000\" points=\"163.7268,-162.551 155.0389,-168.6149 165.612,-169.2924 163.7268,-162.551\"/>\n<text text-anchor=\"middle\" x=\"229.7924\" y=\"-161.1979\" font-family=\"Times,serif\" font-size=\"14.00\" fill=\"#000000\">&#39;&#39; </text>\n</g>\n<!-- St13&#45;&gt;St15 -->\n<g id=\"edge11\" class=\"edge\">\n<title>St13&#45;&gt;St15</title>\n<path fill=\"none\" stroke=\"#000000\" d=\"M512.6475,-150.4329C476.1416,-149.2066 412.9756,-147.0848 372.0989,-145.7117\"/>\n<polygon fill=\"#000000\" stroke=\"#000000\" points=\"372.0749,-142.209 361.963,-145.3712 371.8399,-149.2051 372.0749,-142.209\"/>\n<text text-anchor=\"middle\" x=\"436.1822\" y=\"-152.1979\" font-family=\"Times,serif\" font-size=\"14.00\" fill=\"#000000\">&#39;&#39; </text>\n</g>\n<!-- St33&#45;&gt;St20 -->\n<g id=\"edge2\" class=\"edge\">\n<title>St33&#45;&gt;St20</title>\n<path fill=\"none\" stroke=\"#000000\" d=\"M154.8851,-187.8259C166.761,-191.4045 180.3986,-195.514 192.7553,-199.2374\"/>\n<polygon fill=\"#000000\" stroke=\"#000000\" points=\"191.7478,-202.5892 202.3324,-202.1233 193.7675,-195.8869 191.7478,-202.5892\"/>\n<text text-anchor=\"middle\" x=\"178.6949\" y=\"-199.1979\" font-family=\"Times,serif\" font-size=\"14.00\" fill=\"#000000\">&#39;&#39; </text>\n</g>\n<!-- St33&#45;&gt;St9 -->\n<g id=\"edge3\" class=\"edge\">\n<title>St33&#45;&gt;St9</title>\n<path fill=\"none\" stroke=\"#000000\" d=\"M142.8003,-151.867C151.6103,-140.7545 162.6554,-128.1756 174.1949,-118.3979 181.9491,-111.8276 191.1734,-105.7767 199.8578,-100.6998\"/>\n<polygon fill=\"#000000\" stroke=\"#000000\" points=\"201.6185,-103.7253 208.6281,-95.7807 198.1942,-97.62 201.6185,-103.7253\"/>\n<text text-anchor=\"middle\" x=\"178.6949\" y=\"-122.1979\" font-family=\"Times,serif\" font-size=\"14.00\" fill=\"#000000\">&#39;&#39; </text>\n</g>\n</g>\n</svg>\n"
          },
          "metadata": {},
          "execution_count": 10
        }
      ],
      "source": [
        "n1"
      ]
    },
    {
      "cell_type": "code",
      "execution_count": null,
      "metadata": {
        "colab": {
          "base_uri": "https://localhost:8080/",
          "height": 580
        },
        "id": "EGfy6lMhv-Eh",
        "outputId": "1463ddca-78a4-4bc4-a49f-3aec5f4a3746"
      },
      "outputs": [
        {
          "output_type": "execute_result",
          "data": {
            "text/plain": [
              "<graphviz.dot.Digraph at 0x7f01820a87d0>"
            ],
            "image/svg+xml": "<?xml version=\"1.0\" encoding=\"UTF-8\" standalone=\"no\"?>\n<!DOCTYPE svg PUBLIC \"-//W3C//DTD SVG 1.1//EN\"\n \"http://www.w3.org/Graphics/SVG/1.1/DTD/svg11.dtd\">\n<!-- Generated by graphviz version 2.40.1 (20161225.0304)\n -->\n<!-- Title: PT Pages: 1 -->\n<svg width=\"476pt\" height=\"404pt\"\n viewBox=\"0.00 0.00 476.00 404.00\" xmlns=\"http://www.w3.org/2000/svg\" xmlns:xlink=\"http://www.w3.org/1999/xlink\">\n<g id=\"graph0\" class=\"graph\" transform=\"scale(1 1) rotate(0) translate(4 400)\">\n<title>PT</title>\n<polygon fill=\"#ffffff\" stroke=\"transparent\" points=\"-4,4 -4,-400 472,-400 472,4 -4,4\"/>\n<!-- R*_34 -->\n<g id=\"node1\" class=\"node\">\n<title>R*_34</title>\n<ellipse fill=\"none\" stroke=\"#000000\" cx=\"310\" cy=\"-378\" rx=\"27\" ry=\"18\"/>\n<text text-anchor=\"middle\" x=\"310\" y=\"-374.3\" font-family=\"Times,serif\" font-size=\"14.00\" fill=\"#000000\">R*</text>\n</g>\n<!-- (R)_30 -->\n<g id=\"node2\" class=\"node\">\n<title>(R)_30</title>\n<ellipse fill=\"none\" stroke=\"#000000\" cx=\"274\" cy=\"-306\" rx=\"27\" ry=\"18\"/>\n<text text-anchor=\"middle\" x=\"274\" y=\"-302.3\" font-family=\"Times,serif\" font-size=\"14.00\" fill=\"#000000\">(R)</text>\n</g>\n<!-- R*_34&#45;&gt;(R)_30 -->\n<g id=\"edge17\" class=\"edge\">\n<title>R*_34&#45;&gt;(R)_30</title>\n<path fill=\"none\" stroke=\"#000000\" d=\"M301.2854,-360.5708C297.0403,-352.0807 291.8464,-341.6929 287.1337,-332.2674\"/>\n<polygon fill=\"#000000\" stroke=\"#000000\" points=\"290.237,-330.6477 282.6343,-323.2687 283.976,-333.7782 290.237,-330.6477\"/>\n</g>\n<!-- *_35 -->\n<g id=\"node19\" class=\"node\">\n<title>*_35</title>\n<ellipse fill=\"none\" stroke=\"#000000\" cx=\"346\" cy=\"-306\" rx=\"27\" ry=\"18\"/>\n<text text-anchor=\"middle\" x=\"346\" y=\"-302.3\" font-family=\"Times,serif\" font-size=\"14.00\" fill=\"#000000\">*</text>\n</g>\n<!-- R*_34&#45;&gt;*_35 -->\n<g id=\"edge18\" class=\"edge\">\n<title>R*_34&#45;&gt;*_35</title>\n<path fill=\"none\" stroke=\"#000000\" d=\"M318.7146,-360.5708C322.9597,-352.0807 328.1536,-341.6929 332.8663,-332.2674\"/>\n<polygon fill=\"#000000\" stroke=\"#000000\" points=\"336.024,-333.7782 337.3657,-323.2687 329.763,-330.6477 336.024,-333.7782\"/>\n</g>\n<!-- (_31 -->\n<g id=\"node3\" class=\"node\">\n<title>(_31</title>\n<ellipse fill=\"none\" stroke=\"#000000\" cx=\"191\" cy=\"-234\" rx=\"27\" ry=\"18\"/>\n<text text-anchor=\"middle\" x=\"191\" y=\"-230.3\" font-family=\"Times,serif\" font-size=\"14.00\" fill=\"#000000\">(</text>\n</g>\n<!-- (R)_30&#45;&gt;(_31 -->\n<g id=\"edge14\" class=\"edge\">\n<title>(R)_30&#45;&gt;(_31</title>\n<path fill=\"none\" stroke=\"#000000\" d=\"M257.2037,-291.4297C245.2002,-281.017 228.8613,-266.8435 215.4189,-255.1827\"/>\n<polygon fill=\"#000000\" stroke=\"#000000\" points=\"217.3354,-252.2118 207.4881,-248.3029 212.7485,-257.4996 217.3354,-252.2118\"/>\n</g>\n<!-- R1+R2_28 -->\n<g id=\"node4\" class=\"node\">\n<title>R1+R2_28</title>\n<ellipse fill=\"none\" stroke=\"#000000\" cx=\"274\" cy=\"-234\" rx=\"38.1938\" ry=\"18\"/>\n<text text-anchor=\"middle\" x=\"274\" y=\"-230.3\" font-family=\"Times,serif\" font-size=\"14.00\" fill=\"#000000\">R1+R2</text>\n</g>\n<!-- (R)_30&#45;&gt;R1+R2_28 -->\n<g id=\"edge15\" class=\"edge\">\n<title>(R)_30&#45;&gt;R1+R2_28</title>\n<path fill=\"none\" stroke=\"#000000\" d=\"M274,-287.8314C274,-280.131 274,-270.9743 274,-262.4166\"/>\n<polygon fill=\"#000000\" stroke=\"#000000\" points=\"277.5001,-262.4132 274,-252.4133 270.5001,-262.4133 277.5001,-262.4132\"/>\n</g>\n<!-- )_32 -->\n<g id=\"node18\" class=\"node\">\n<title>)_32</title>\n<ellipse fill=\"none\" stroke=\"#000000\" cx=\"357\" cy=\"-234\" rx=\"27\" ry=\"18\"/>\n<text text-anchor=\"middle\" x=\"357\" y=\"-230.3\" font-family=\"Times,serif\" font-size=\"14.00\" fill=\"#000000\">)</text>\n</g>\n<!-- (R)_30&#45;&gt;)_32 -->\n<g id=\"edge16\" class=\"edge\">\n<title>(R)_30&#45;&gt;)_32</title>\n<path fill=\"none\" stroke=\"#000000\" d=\"M290.7963,-291.4297C302.7998,-281.017 319.1387,-266.8435 332.5811,-255.1827\"/>\n<polygon fill=\"#000000\" stroke=\"#000000\" points=\"335.2515,-257.4996 340.5119,-248.3029 330.6646,-252.2118 335.2515,-257.4996\"/>\n</g>\n<!-- R1.R2_18 -->\n<g id=\"node5\" class=\"node\">\n<title>R1.R2_18</title>\n<ellipse fill=\"none\" stroke=\"#000000\" cx=\"180\" cy=\"-162\" rx=\"35.9954\" ry=\"18\"/>\n<text text-anchor=\"middle\" x=\"180\" y=\"-158.3\" font-family=\"Times,serif\" font-size=\"14.00\" fill=\"#000000\">R1.R2</text>\n</g>\n<!-- R1+R2_28&#45;&gt;R1.R2_18 -->\n<g id=\"edge11\" class=\"edge\">\n<title>R1+R2_28&#45;&gt;R1.R2_18</title>\n<path fill=\"none\" stroke=\"#000000\" d=\"M253.6034,-218.3771C240.2427,-208.1433 222.6053,-194.6338 207.9453,-183.4049\"/>\n<polygon fill=\"#000000\" stroke=\"#000000\" points=\"209.7797,-180.4013 199.7126,-177.099 205.5232,-185.9584 209.7797,-180.4013\"/>\n</g>\n<!-- +_29 -->\n<g id=\"node6\" class=\"node\">\n<title>+_29</title>\n<ellipse fill=\"none\" stroke=\"#000000\" cx=\"274\" cy=\"-162\" rx=\"27\" ry=\"18\"/>\n<text text-anchor=\"middle\" x=\"274\" y=\"-158.3\" font-family=\"Times,serif\" font-size=\"14.00\" fill=\"#000000\">+</text>\n</g>\n<!-- R1+R2_28&#45;&gt;+_29 -->\n<g id=\"edge12\" class=\"edge\">\n<title>R1+R2_28&#45;&gt;+_29</title>\n<path fill=\"none\" stroke=\"#000000\" d=\"M274,-215.8314C274,-208.131 274,-198.9743 274,-190.4166\"/>\n<polygon fill=\"#000000\" stroke=\"#000000\" points=\"277.5001,-190.4132 274,-180.4133 270.5001,-190.4133 277.5001,-190.4132\"/>\n</g>\n<!-- R1.R2_26 -->\n<g id=\"node7\" class=\"node\">\n<title>R1.R2_26</title>\n<ellipse fill=\"none\" stroke=\"#000000\" cx=\"362\" cy=\"-162\" rx=\"35.9954\" ry=\"18\"/>\n<text text-anchor=\"middle\" x=\"362\" y=\"-158.3\" font-family=\"Times,serif\" font-size=\"14.00\" fill=\"#000000\">R1.R2</text>\n</g>\n<!-- R1+R2_28&#45;&gt;R1.R2_26 -->\n<g id=\"edge13\" class=\"edge\">\n<title>R1+R2_28&#45;&gt;R1.R2_26</title>\n<path fill=\"none\" stroke=\"#000000\" d=\"M293.0947,-218.3771C305.402,-208.3075 321.5856,-195.0663 335.1759,-183.947\"/>\n<polygon fill=\"#000000\" stroke=\"#000000\" points=\"337.7216,-186.3864 343.2449,-177.3451 333.289,-180.9686 337.7216,-186.3864\"/>\n</g>\n<!-- R*_10 -->\n<g id=\"node8\" class=\"node\">\n<title>R*_10</title>\n<ellipse fill=\"none\" stroke=\"#000000\" cx=\"81\" cy=\"-90\" rx=\"27\" ry=\"18\"/>\n<text text-anchor=\"middle\" x=\"81\" y=\"-86.3\" font-family=\"Times,serif\" font-size=\"14.00\" fill=\"#000000\">R*</text>\n</g>\n<!-- R1.R2_18&#45;&gt;R*_10 -->\n<g id=\"edge5\" class=\"edge\">\n<title>R1.R2_18&#45;&gt;R*_10</title>\n<path fill=\"none\" stroke=\"#000000\" d=\"M159.4871,-147.0816C144.5777,-136.2383 124.251,-121.4553 108.0192,-109.6503\"/>\n<polygon fill=\"#000000\" stroke=\"#000000\" points=\"109.6293,-106.4935 99.4833,-103.4424 105.512,-112.1547 109.6293,-106.4935\"/>\n</g>\n<!-- ._19 -->\n<g id=\"node9\" class=\"node\">\n<title>._19</title>\n<ellipse fill=\"none\" stroke=\"#000000\" cx=\"153\" cy=\"-90\" rx=\"27\" ry=\"18\"/>\n<text text-anchor=\"middle\" x=\"153\" y=\"-86.3\" font-family=\"Times,serif\" font-size=\"14.00\" fill=\"#000000\">.</text>\n</g>\n<!-- R1.R2_18&#45;&gt;._19 -->\n<g id=\"edge6\" class=\"edge\">\n<title>R1.R2_18&#45;&gt;._19</title>\n<path fill=\"none\" stroke=\"#000000\" d=\"M173.3258,-144.2022C170.2524,-136.0064 166.5384,-126.1024 163.1305,-117.0145\"/>\n<polygon fill=\"#000000\" stroke=\"#000000\" points=\"166.3858,-115.7274 159.5974,-107.593 159.8315,-118.1853 166.3858,-115.7274\"/>\n</g>\n<!-- R*_16 -->\n<g id=\"node10\" class=\"node\">\n<title>R*_16</title>\n<ellipse fill=\"none\" stroke=\"#000000\" cx=\"225\" cy=\"-90\" rx=\"27\" ry=\"18\"/>\n<text text-anchor=\"middle\" x=\"225\" y=\"-86.3\" font-family=\"Times,serif\" font-size=\"14.00\" fill=\"#000000\">R*</text>\n</g>\n<!-- R1.R2_18&#45;&gt;R*_16 -->\n<g id=\"edge7\" class=\"edge\">\n<title>R1.R2_18&#45;&gt;R*_16</title>\n<path fill=\"none\" stroke=\"#000000\" d=\"M190.8932,-144.5708C196.3898,-135.7763 203.1589,-124.9457 209.214,-115.2577\"/>\n<polygon fill=\"#000000\" stroke=\"#000000\" points=\"212.1849,-117.1079 214.5169,-106.7729 206.2489,-113.3979 212.1849,-117.1079\"/>\n</g>\n<!-- c_22 -->\n<g id=\"node15\" class=\"node\">\n<title>c_22</title>\n<ellipse fill=\"none\" stroke=\"#000000\" cx=\"297\" cy=\"-90\" rx=\"27\" ry=\"18\"/>\n<text text-anchor=\"middle\" x=\"297\" y=\"-86.3\" font-family=\"Times,serif\" font-size=\"14.00\" fill=\"#000000\">c</text>\n</g>\n<!-- R1.R2_26&#45;&gt;c_22 -->\n<g id=\"edge8\" class=\"edge\">\n<title>R1.R2_26&#45;&gt;c_22</title>\n<path fill=\"none\" stroke=\"#000000\" d=\"M346.9243,-145.3008C338.3173,-135.7669 327.3955,-123.6689 317.9634,-113.221\"/>\n<polygon fill=\"#000000\" stroke=\"#000000\" points=\"320.403,-110.7003 311.104,-105.6229 315.2071,-115.391 320.403,-110.7003\"/>\n</g>\n<!-- ._27 -->\n<g id=\"node16\" class=\"node\">\n<title>._27</title>\n<ellipse fill=\"none\" stroke=\"#000000\" cx=\"369\" cy=\"-90\" rx=\"27\" ry=\"18\"/>\n<text text-anchor=\"middle\" x=\"369\" y=\"-86.3\" font-family=\"Times,serif\" font-size=\"14.00\" fill=\"#000000\">.</text>\n</g>\n<!-- R1.R2_26&#45;&gt;._27 -->\n<g id=\"edge9\" class=\"edge\">\n<title>R1.R2_26&#45;&gt;._27</title>\n<path fill=\"none\" stroke=\"#000000\" d=\"M363.7664,-143.8314C364.515,-136.131 365.4053,-126.9743 366.2373,-118.4166\"/>\n<polygon fill=\"#000000\" stroke=\"#000000\" points=\"369.7256,-118.7051 367.2098,-108.4133 362.7585,-118.0276 369.7256,-118.7051\"/>\n</g>\n<!-- c_25 -->\n<g id=\"node17\" class=\"node\">\n<title>c_25</title>\n<ellipse fill=\"none\" stroke=\"#000000\" cx=\"441\" cy=\"-90\" rx=\"27\" ry=\"18\"/>\n<text text-anchor=\"middle\" x=\"441\" y=\"-86.3\" font-family=\"Times,serif\" font-size=\"14.00\" fill=\"#000000\">c</text>\n</g>\n<!-- R1.R2_26&#45;&gt;c_25 -->\n<g id=\"edge10\" class=\"edge\">\n<title>R1.R2_26&#45;&gt;c_25</title>\n<path fill=\"none\" stroke=\"#000000\" d=\"M379.5327,-146.0209C390.6448,-135.8934 405.1579,-122.6663 417.2913,-111.608\"/>\n<polygon fill=\"#000000\" stroke=\"#000000\" points=\"419.828,-114.0316 424.8613,-104.7087 415.1127,-108.8579 419.828,-114.0316\"/>\n</g>\n<!-- a_8 -->\n<g id=\"node11\" class=\"node\">\n<title>a_8</title>\n<ellipse fill=\"none\" stroke=\"#000000\" cx=\"27\" cy=\"-18\" rx=\"27\" ry=\"18\"/>\n<text text-anchor=\"middle\" x=\"27\" y=\"-14.3\" font-family=\"Times,serif\" font-size=\"14.00\" fill=\"#000000\">a</text>\n</g>\n<!-- R*_10&#45;&gt;a_8 -->\n<g id=\"edge1\" class=\"edge\">\n<title>R*_10&#45;&gt;a_8</title>\n<path fill=\"none\" stroke=\"#000000\" d=\"M68.7466,-73.6621C61.8423,-64.4564 53.0823,-52.7764 45.3715,-42.4953\"/>\n<polygon fill=\"#000000\" stroke=\"#000000\" points=\"48.005,-40.1733 39.2049,-34.2733 42.405,-44.3733 48.005,-40.1733\"/>\n</g>\n<!-- *_11 -->\n<g id=\"node12\" class=\"node\">\n<title>*_11</title>\n<ellipse fill=\"none\" stroke=\"#000000\" cx=\"99\" cy=\"-18\" rx=\"27\" ry=\"18\"/>\n<text text-anchor=\"middle\" x=\"99\" y=\"-14.3\" font-family=\"Times,serif\" font-size=\"14.00\" fill=\"#000000\">*</text>\n</g>\n<!-- R*_10&#45;&gt;*_11 -->\n<g id=\"edge2\" class=\"edge\">\n<title>R*_10&#45;&gt;*_11</title>\n<path fill=\"none\" stroke=\"#000000\" d=\"M85.4494,-72.2022C87.4398,-64.2406 89.8332,-54.6671 92.0511,-45.7957\"/>\n<polygon fill=\"#000000\" stroke=\"#000000\" points=\"95.5094,-46.3929 94.5394,-35.8425 88.7184,-44.6951 95.5094,-46.3929\"/>\n</g>\n<!-- b_14 -->\n<g id=\"node13\" class=\"node\">\n<title>b_14</title>\n<ellipse fill=\"none\" stroke=\"#000000\" cx=\"207\" cy=\"-18\" rx=\"27\" ry=\"18\"/>\n<text text-anchor=\"middle\" x=\"207\" y=\"-14.3\" font-family=\"Times,serif\" font-size=\"14.00\" fill=\"#000000\">b</text>\n</g>\n<!-- R*_16&#45;&gt;b_14 -->\n<g id=\"edge3\" class=\"edge\">\n<title>R*_16&#45;&gt;b_14</title>\n<path fill=\"none\" stroke=\"#000000\" d=\"M220.5506,-72.2022C218.5602,-64.2406 216.1668,-54.6671 213.9489,-45.7957\"/>\n<polygon fill=\"#000000\" stroke=\"#000000\" points=\"217.2816,-44.6951 211.4606,-35.8425 210.4906,-46.3929 217.2816,-44.6951\"/>\n</g>\n<!-- *_17 -->\n<g id=\"node14\" class=\"node\">\n<title>*_17</title>\n<ellipse fill=\"none\" stroke=\"#000000\" cx=\"279\" cy=\"-18\" rx=\"27\" ry=\"18\"/>\n<text text-anchor=\"middle\" x=\"279\" y=\"-14.3\" font-family=\"Times,serif\" font-size=\"14.00\" fill=\"#000000\">*</text>\n</g>\n<!-- R*_16&#45;&gt;*_17 -->\n<g id=\"edge4\" class=\"edge\">\n<title>R*_16&#45;&gt;*_17</title>\n<path fill=\"none\" stroke=\"#000000\" d=\"M237.2534,-73.6621C244.1577,-64.4564 252.9177,-52.7764 260.6285,-42.4953\"/>\n<polygon fill=\"#000000\" stroke=\"#000000\" points=\"263.595,-44.3733 266.7951,-34.2733 257.995,-40.1733 263.595,-44.3733\"/>\n</g>\n</g>\n</svg>\n"
          },
          "metadata": {},
          "execution_count": 11
        }
      ],
      "source": [
        "t1"
      ]
    },
    {
      "cell_type": "code",
      "execution_count": null,
      "metadata": {
        "colab": {
          "base_uri": "https://localhost:8080/",
          "height": 472
        },
        "id": "j6fQO27Vv-Ei",
        "outputId": "57846eb1-add3-43ad-a464-37abf931438b"
      },
      "outputs": [
        {
          "output_type": "execute_result",
          "data": {
            "text/plain": [
              "<graphviz.dot.Digraph at 0x7f01820b78d0>"
            ],
            "image/svg+xml": "<?xml version=\"1.0\" encoding=\"UTF-8\" standalone=\"no\"?>\n<!DOCTYPE svg PUBLIC \"-//W3C//DTD SVG 1.1//EN\"\n \"http://www.w3.org/Graphics/SVG/1.1/DTD/svg11.dtd\">\n<!-- Generated by graphviz version 2.40.1 (20161225.0304)\n -->\n<!-- Title: %3 Pages: 1 -->\n<svg width=\"586pt\" height=\"323pt\"\n viewBox=\"0.00 0.00 585.97 323.19\" xmlns=\"http://www.w3.org/2000/svg\" xmlns:xlink=\"http://www.w3.org/1999/xlink\">\n<g id=\"graph0\" class=\"graph\" transform=\"scale(1 1) rotate(0) translate(4 319.1949)\">\n<title>%3</title>\n<polygon fill=\"#ffffff\" stroke=\"transparent\" points=\"-4,4 -4,-319.1949 581.9746,-319.1949 581.9746,4 -4,4\"/>\n<!-- EMPTY -->\n<g id=\"node1\" class=\"node\">\n<title>EMPTY</title>\n</g>\n<!-- St54 -->\n<g id=\"node7\" class=\"node\">\n<title>St54</title>\n<ellipse fill=\"none\" stroke=\"#000000\" cx=\"123.5975\" cy=\"-282.5975\" rx=\"28.6953\" ry=\"28.6953\"/>\n<text text-anchor=\"middle\" x=\"123.5975\" y=\"-278.8975\" font-family=\"Times,serif\" font-size=\"14.00\" fill=\"#000000\">St54</text>\n</g>\n<!-- EMPTY&#45;&gt;St54 -->\n<g id=\"edge2\" class=\"edge\">\n<title>EMPTY&#45;&gt;St54</title>\n<path fill=\"none\" stroke=\"#000000\" d=\"M54.1648,-253.8461C64.5233,-258.1355 76.4972,-263.0937 87.5536,-267.6721\"/>\n<polygon fill=\"#000000\" stroke=\"#000000\" points=\"86.3918,-270.9791 96.9701,-271.5713 89.0699,-264.5117 86.3918,-270.9791\"/>\n</g>\n<!-- St51 -->\n<g id=\"node11\" class=\"node\">\n<title>St51</title>\n<ellipse fill=\"none\" stroke=\"#000000\" cx=\"123.5975\" cy=\"-203.5975\" rx=\"28.6832\" ry=\"28.6832\"/>\n<ellipse fill=\"none\" stroke=\"#000000\" cx=\"123.5975\" cy=\"-203.5975\" rx=\"32.6952\" ry=\"32.6952\"/>\n<text text-anchor=\"middle\" x=\"123.5975\" y=\"-199.8975\" font-family=\"Times,serif\" font-size=\"14.00\" fill=\"#000000\">St51</text>\n</g>\n<!-- EMPTY&#45;&gt;St51 -->\n<g id=\"edge1\" class=\"edge\">\n<title>EMPTY&#45;&gt;St51</title>\n<path fill=\"none\" stroke=\"#000000\" d=\"M54.1648,-231.63C63.3837,-227.908 73.8821,-223.6694 83.8745,-219.6351\"/>\n<polygon fill=\"#000000\" stroke=\"#000000\" points=\"85.2791,-222.8426 93.2416,-215.8533 82.6584,-216.3516 85.2791,-222.8426\"/>\n</g>\n<!-- St55 -->\n<g id=\"node2\" class=\"node\">\n<title>St55</title>\n<ellipse fill=\"none\" stroke=\"#000000\" cx=\"230.7924\" cy=\"-282.5975\" rx=\"28.6953\" ry=\"28.6953\"/>\n<text text-anchor=\"middle\" x=\"230.7924\" y=\"-278.8975\" font-family=\"Times,serif\" font-size=\"14.00\" fill=\"#000000\">St55</text>\n</g>\n<!-- St60 -->\n<g id=\"node12\" class=\"node\">\n<title>St60</title>\n<ellipse fill=\"none\" stroke=\"#000000\" cx=\"336.9873\" cy=\"-282.5975\" rx=\"28.6832\" ry=\"28.6832\"/>\n<ellipse fill=\"none\" stroke=\"#000000\" cx=\"336.9873\" cy=\"-282.5975\" rx=\"32.6952\" ry=\"32.6952\"/>\n<text text-anchor=\"middle\" x=\"336.9873\" y=\"-278.8975\" font-family=\"Times,serif\" font-size=\"14.00\" fill=\"#000000\">St60</text>\n</g>\n<!-- St55&#45;&gt;St60 -->\n<g id=\"edge14\" class=\"edge\">\n<title>St55&#45;&gt;St60</title>\n<path fill=\"none\" stroke=\"#000000\" d=\"M259.5303,-282.5975C270.0648,-282.5975 282.2326,-282.5975 293.7576,-282.5975\"/>\n<polygon fill=\"#000000\" stroke=\"#000000\" points=\"294.0957,-286.0976 304.0957,-282.5975 294.0957,-279.0976 294.0957,-286.0976\"/>\n<text text-anchor=\"middle\" x=\"281.8899\" y=\"-286.3975\" font-family=\"Times,serif\" font-size=\"14.00\" fill=\"#000000\">&#39;&#39; </text>\n</g>\n<!-- St57 -->\n<g id=\"node3\" class=\"node\">\n<title>St57</title>\n<ellipse fill=\"none\" stroke=\"#000000\" cx=\"446.1822\" cy=\"-245.5975\" rx=\"28.6953\" ry=\"28.6953\"/>\n<text text-anchor=\"middle\" x=\"446.1822\" y=\"-241.8975\" font-family=\"Times,serif\" font-size=\"14.00\" fill=\"#000000\">St57</text>\n</g>\n<!-- St58 -->\n<g id=\"node9\" class=\"node\">\n<title>St58</title>\n<ellipse fill=\"none\" stroke=\"#000000\" cx=\"549.3772\" cy=\"-278.5975\" rx=\"28.6953\" ry=\"28.6953\"/>\n<text text-anchor=\"middle\" x=\"549.3772\" y=\"-274.8975\" font-family=\"Times,serif\" font-size=\"14.00\" fill=\"#000000\">St58</text>\n</g>\n<!-- St57&#45;&gt;St58 -->\n<g id=\"edge12\" class=\"edge\">\n<title>St57&#45;&gt;St58</title>\n<path fill=\"none\" stroke=\"#000000\" d=\"M473.5657,-254.3542C485.3446,-258.1209 499.3008,-262.5839 512.008,-266.6474\"/>\n<polygon fill=\"#000000\" stroke=\"#000000\" points=\"511.2749,-270.0875 521.8658,-269.7998 513.407,-263.4201 511.2749,-270.0875\"/>\n<text text-anchor=\"middle\" x=\"497.7797\" y=\"-266.3975\" font-family=\"Times,serif\" font-size=\"14.00\" fill=\"#000000\">c </text>\n</g>\n<!-- St44 -->\n<g id=\"node4\" class=\"node\">\n<title>St44</title>\n<ellipse fill=\"none\" stroke=\"#000000\" cx=\"446.1822\" cy=\"-166.5975\" rx=\"28.6953\" ry=\"28.6953\"/>\n<text text-anchor=\"middle\" x=\"446.1822\" y=\"-162.8975\" font-family=\"Times,serif\" font-size=\"14.00\" fill=\"#000000\">St44</text>\n</g>\n<!-- St44&#45;&gt;St51 -->\n<g id=\"edge9\" class=\"edge\">\n<title>St44&#45;&gt;St51</title>\n<path fill=\"none\" stroke=\"#000000\" d=\"M419.784,-178.0996C405.2629,-183.8617 386.7551,-190.2995 369.5848,-193.5975 299.2444,-207.1079 215.5861,-207.2154 166.1877,-205.6779\"/>\n<polygon fill=\"#000000\" stroke=\"#000000\" points=\"166.2997,-202.1797 156.1838,-205.329 166.0557,-209.1755 166.2997,-202.1797\"/>\n<text text-anchor=\"middle\" x=\"281.8899\" y=\"-207.3975\" font-family=\"Times,serif\" font-size=\"14.00\" fill=\"#000000\">&#39;&#39; </text>\n</g>\n<!-- St43 -->\n<g id=\"node5\" class=\"node\">\n<title>St43</title>\n<ellipse fill=\"none\" stroke=\"#000000\" cx=\"336.9873\" cy=\"-155.5975\" rx=\"28.6953\" ry=\"28.6953\"/>\n<text text-anchor=\"middle\" x=\"336.9873\" y=\"-151.8975\" font-family=\"Times,serif\" font-size=\"14.00\" fill=\"#000000\">St43</text>\n</g>\n<!-- St43&#45;&gt;St44 -->\n<g id=\"edge8\" class=\"edge\">\n<title>St43&#45;&gt;St44</title>\n<path fill=\"none\" stroke=\"#000000\" d=\"M365.677,-158.4876C378.4668,-159.776 393.7258,-161.3131 407.503,-162.701\"/>\n<polygon fill=\"#000000\" stroke=\"#000000\" points=\"407.3837,-166.2066 417.6842,-163.7266 408.0854,-159.2419 407.3837,-166.2066\"/>\n<text text-anchor=\"middle\" x=\"393.5848\" y=\"-165.3975\" font-family=\"Times,serif\" font-size=\"14.00\" fill=\"#000000\">b </text>\n</g>\n<!-- St38 -->\n<g id=\"node6\" class=\"node\">\n<title>St38</title>\n<ellipse fill=\"none\" stroke=\"#000000\" cx=\"446.1822\" cy=\"-83.5975\" rx=\"28.6953\" ry=\"28.6953\"/>\n<text text-anchor=\"middle\" x=\"446.1822\" y=\"-79.8975\" font-family=\"Times,serif\" font-size=\"14.00\" fill=\"#000000\">St38</text>\n</g>\n<!-- St40 -->\n<g id=\"node8\" class=\"node\">\n<title>St40</title>\n<ellipse fill=\"none\" stroke=\"#000000\" cx=\"230.7924\" cy=\"-124.5975\" rx=\"28.6953\" ry=\"28.6953\"/>\n<text text-anchor=\"middle\" x=\"230.7924\" y=\"-120.8975\" font-family=\"Times,serif\" font-size=\"14.00\" fill=\"#000000\">St40</text>\n</g>\n<!-- St38&#45;&gt;St40 -->\n<g id=\"edge7\" class=\"edge\">\n<title>St38&#45;&gt;St40</title>\n<path fill=\"none\" stroke=\"#000000\" d=\"M417.4379,-86.1108C388.63,-88.9425 343.1189,-94.2682 304.3899,-102.5975 292.3899,-105.1782 279.5054,-108.747 267.9234,-112.2597\"/>\n<polygon fill=\"#000000\" stroke=\"#000000\" points=\"266.6437,-108.9924 258.1357,-115.3061 268.724,-115.6761 266.6437,-108.9924\"/>\n<text text-anchor=\"middle\" x=\"336.9873\" y=\"-106.3975\" font-family=\"Times,serif\" font-size=\"14.00\" fill=\"#000000\">&#39;&#39; </text>\n</g>\n<!-- St54&#45;&gt;St55 -->\n<g id=\"edge10\" class=\"edge\">\n<title>St54&#45;&gt;St55</title>\n<path fill=\"none\" stroke=\"#000000\" d=\"M152.3237,-282.5975C164.4596,-282.5975 178.7813,-282.5975 191.8453,-282.5975\"/>\n<polygon fill=\"#000000\" stroke=\"#000000\" points=\"191.9869,-286.0976 201.9868,-282.5975 191.9868,-279.0976 191.9869,-286.0976\"/>\n<text text-anchor=\"middle\" x=\"179.1949\" y=\"-286.3975\" font-family=\"Times,serif\" font-size=\"14.00\" fill=\"#000000\">c </text>\n</g>\n<!-- St40&#45;&gt;St43 -->\n<g id=\"edge4\" class=\"edge\">\n<title>St40&#45;&gt;St43</title>\n<path fill=\"none\" stroke=\"#000000\" d=\"M258.4166,-132.6614C270.9535,-136.3211 285.9733,-140.7057 299.5073,-144.6564\"/>\n<polygon fill=\"#000000\" stroke=\"#000000\" points=\"298.9212,-148.1314 309.5014,-147.5739 300.8828,-141.4118 298.9212,-148.1314\"/>\n<text text-anchor=\"middle\" x=\"281.8899\" y=\"-144.3975\" font-family=\"Times,serif\" font-size=\"14.00\" fill=\"#000000\">&#39;&#39; </text>\n</g>\n<!-- St37 -->\n<g id=\"node10\" class=\"node\">\n<title>St37</title>\n<ellipse fill=\"none\" stroke=\"#000000\" cx=\"336.9873\" cy=\"-28.5975\" rx=\"28.6953\" ry=\"28.6953\"/>\n<text text-anchor=\"middle\" x=\"336.9873\" y=\"-24.8975\" font-family=\"Times,serif\" font-size=\"14.00\" fill=\"#000000\">St37</text>\n</g>\n<!-- St40&#45;&gt;St37 -->\n<g id=\"edge5\" class=\"edge\">\n<title>St40&#45;&gt;St37</title>\n<path fill=\"none\" stroke=\"#000000\" d=\"M246.4683,-100.4004C254.7689,-88.7263 265.6623,-75.0281 277.3899,-64.5975 284.898,-57.9197 293.8138,-51.7829 302.4316,-46.5399\"/>\n<polygon fill=\"#000000\" stroke=\"#000000\" points=\"304.3528,-49.4713 311.2329,-41.4144 300.8301,-43.4223 304.3528,-49.4713\"/>\n<text text-anchor=\"middle\" x=\"281.8899\" y=\"-68.3975\" font-family=\"Times,serif\" font-size=\"14.00\" fill=\"#000000\">&#39;&#39; </text>\n</g>\n<!-- St58&#45;&gt;St60 -->\n<g id=\"edge13\" class=\"edge\">\n<title>St58&#45;&gt;St60</title>\n<path fill=\"none\" stroke=\"#000000\" d=\"M520.7064,-280.9696C506.8439,-282.0013 489.9578,-283.0894 474.7797,-283.5975 436.0481,-284.894 426.3362,-283.9804 387.5848,-283.5975 385.0479,-283.5724 382.4397,-283.5403 379.8083,-283.503\"/>\n<polygon fill=\"#000000\" stroke=\"#000000\" points=\"379.7031,-280.0009 369.6475,-283.3377 379.5892,-287 379.7031,-280.0009\"/>\n<text text-anchor=\"middle\" x=\"446.1822\" y=\"-287.3975\" font-family=\"Times,serif\" font-size=\"14.00\" fill=\"#000000\">&#39;&#39; </text>\n</g>\n<!-- St37&#45;&gt;St38 -->\n<g id=\"edge6\" class=\"edge\">\n<title>St37&#45;&gt;St38</title>\n<path fill=\"none\" stroke=\"#000000\" d=\"M362.5887,-41.4925C377.1324,-48.818 395.5432,-58.0913 411.3827,-66.0694\"/>\n<polygon fill=\"#000000\" stroke=\"#000000\" points=\"409.8574,-69.22 420.3629,-70.5926 413.0063,-62.9682 409.8574,-69.22\"/>\n<text text-anchor=\"middle\" x=\"393.5848\" y=\"-63.3975\" font-family=\"Times,serif\" font-size=\"14.00\" fill=\"#000000\">a </text>\n</g>\n<!-- St51&#45;&gt;St40 -->\n<g id=\"edge3\" class=\"edge\">\n<title>St51&#45;&gt;St40</title>\n<path fill=\"none\" stroke=\"#000000\" d=\"M150.0951,-184.0694C164.9516,-173.1205 183.5779,-159.3934 199.1911,-147.8868\"/>\n<polygon fill=\"#000000\" stroke=\"#000000\" points=\"201.5384,-150.5047 207.512,-141.7545 197.3855,-144.8697 201.5384,-150.5047\"/>\n<text text-anchor=\"middle\" x=\"179.1949\" y=\"-167.3975\" font-family=\"Times,serif\" font-size=\"14.00\" fill=\"#000000\">&#39;&#39; </text>\n</g>\n<!-- St60&#45;&gt;St57 -->\n<g id=\"edge11\" class=\"edge\">\n<title>St60&#45;&gt;St57</title>\n<path fill=\"none\" stroke=\"#000000\" d=\"M367.9861,-272.0937C380.7483,-267.7693 395.6407,-262.7231 408.9845,-258.2017\"/>\n<polygon fill=\"#000000\" stroke=\"#000000\" points=\"410.4781,-261.3911 418.8259,-254.867 408.2316,-254.7614 410.4781,-261.3911\"/>\n<text text-anchor=\"middle\" x=\"393.5848\" y=\"-268.3975\" font-family=\"Times,serif\" font-size=\"14.00\" fill=\"#000000\">&#39;&#39; </text>\n</g>\n</g>\n</svg>\n"
          },
          "metadata": {},
          "execution_count": 12
        }
      ],
      "source": [
        "n2"
      ]
    },
    {
      "cell_type": "code",
      "execution_count": null,
      "metadata": {
        "colab": {
          "base_uri": "https://localhost:8080/",
          "height": 580
        },
        "id": "6yqP-h4Tv-Ei",
        "outputId": "b7000c8c-eb09-4f83-d0e6-6faa094a9ff4"
      },
      "outputs": [
        {
          "output_type": "execute_result",
          "data": {
            "text/plain": [
              "<graphviz.dot.Digraph at 0x7f01820b7ad0>"
            ],
            "image/svg+xml": "<?xml version=\"1.0\" encoding=\"UTF-8\" standalone=\"no\"?>\n<!DOCTYPE svg PUBLIC \"-//W3C//DTD SVG 1.1//EN\"\n \"http://www.w3.org/Graphics/SVG/1.1/DTD/svg11.dtd\">\n<!-- Generated by graphviz version 2.40.1 (20161225.0304)\n -->\n<!-- Title: PT Pages: 1 -->\n<svg width=\"498pt\" height=\"404pt\"\n viewBox=\"0.00 0.00 498.00 404.00\" xmlns=\"http://www.w3.org/2000/svg\" xmlns:xlink=\"http://www.w3.org/1999/xlink\">\n<g id=\"graph0\" class=\"graph\" transform=\"scale(1 1) rotate(0) translate(4 400)\">\n<title>PT</title>\n<polygon fill=\"#ffffff\" stroke=\"transparent\" points=\"-4,4 -4,-400 494,-400 494,4 -4,4\"/>\n<!-- R1+R2_65 -->\n<g id=\"node1\" class=\"node\">\n<title>R1+R2_65</title>\n<ellipse fill=\"none\" stroke=\"#000000\" cx=\"274\" cy=\"-378\" rx=\"38.1938\" ry=\"18\"/>\n<text text-anchor=\"middle\" x=\"274\" y=\"-374.3\" font-family=\"Times,serif\" font-size=\"14.00\" fill=\"#000000\">R1+R2</text>\n</g>\n<!-- R*_52 -->\n<g id=\"node2\" class=\"node\">\n<title>R*_52</title>\n<ellipse fill=\"none\" stroke=\"#000000\" cx=\"202\" cy=\"-306\" rx=\"27\" ry=\"18\"/>\n<text text-anchor=\"middle\" x=\"202\" y=\"-302.3\" font-family=\"Times,serif\" font-size=\"14.00\" fill=\"#000000\">R*</text>\n</g>\n<!-- R1+R2_65&#45;&gt;R*_52 -->\n<g id=\"edge16\" class=\"edge\">\n<title>R1+R2_65&#45;&gt;R*_52</title>\n<path fill=\"none\" stroke=\"#000000\" d=\"M257.6621,-361.6621C247.8185,-351.8185 235.1458,-339.1458 224.3795,-328.3795\"/>\n<polygon fill=\"#000000\" stroke=\"#000000\" points=\"226.8346,-325.8848 217.2886,-321.2886 221.8848,-330.8346 226.8346,-325.8848\"/>\n</g>\n<!-- +_66 -->\n<g id=\"node3\" class=\"node\">\n<title>+_66</title>\n<ellipse fill=\"none\" stroke=\"#000000\" cx=\"274\" cy=\"-306\" rx=\"27\" ry=\"18\"/>\n<text text-anchor=\"middle\" x=\"274\" y=\"-302.3\" font-family=\"Times,serif\" font-size=\"14.00\" fill=\"#000000\">+</text>\n</g>\n<!-- R1+R2_65&#45;&gt;+_66 -->\n<g id=\"edge17\" class=\"edge\">\n<title>R1+R2_65&#45;&gt;+_66</title>\n<path fill=\"none\" stroke=\"#000000\" d=\"M274,-359.8314C274,-352.131 274,-342.9743 274,-334.4166\"/>\n<polygon fill=\"#000000\" stroke=\"#000000\" points=\"277.5001,-334.4132 274,-324.4133 270.5001,-334.4133 277.5001,-334.4132\"/>\n</g>\n<!-- R1.R2_63 -->\n<g id=\"node4\" class=\"node\">\n<title>R1.R2_63</title>\n<ellipse fill=\"none\" stroke=\"#000000\" cx=\"355\" cy=\"-306\" rx=\"35.9954\" ry=\"18\"/>\n<text text-anchor=\"middle\" x=\"355\" y=\"-302.3\" font-family=\"Times,serif\" font-size=\"14.00\" fill=\"#000000\">R1.R2</text>\n</g>\n<!-- R1+R2_65&#45;&gt;R1.R2_63 -->\n<g id=\"edge18\" class=\"edge\">\n<title>R1+R2_65&#45;&gt;R1.R2_63</title>\n<path fill=\"none\" stroke=\"#000000\" d=\"M291.9765,-362.0209C303.0641,-352.1652 317.454,-339.3742 329.6839,-328.5032\"/>\n<polygon fill=\"#000000\" stroke=\"#000000\" points=\"332.2036,-330.9464 337.3524,-321.6867 327.553,-325.7145 332.2036,-330.9464\"/>\n</g>\n<!-- (R)_48 -->\n<g id=\"node5\" class=\"node\">\n<title>(R)_48</title>\n<ellipse fill=\"none\" stroke=\"#000000\" cx=\"135\" cy=\"-234\" rx=\"27\" ry=\"18\"/>\n<text text-anchor=\"middle\" x=\"135\" y=\"-230.3\" font-family=\"Times,serif\" font-size=\"14.00\" fill=\"#000000\">(R)</text>\n</g>\n<!-- R*_52&#45;&gt;(R)_48 -->\n<g id=\"edge9\" class=\"edge\">\n<title>R*_52&#45;&gt;(R)_48</title>\n<path fill=\"none\" stroke=\"#000000\" d=\"M187.462,-290.3771C178.4188,-280.659 166.6268,-267.987 156.5136,-257.1191\"/>\n<polygon fill=\"#000000\" stroke=\"#000000\" points=\"158.8842,-254.5288 149.5096,-249.5924 153.7597,-259.2975 158.8842,-254.5288\"/>\n</g>\n<!-- *_53 -->\n<g id=\"node14\" class=\"node\">\n<title>*_53</title>\n<ellipse fill=\"none\" stroke=\"#000000\" cx=\"207\" cy=\"-234\" rx=\"27\" ry=\"18\"/>\n<text text-anchor=\"middle\" x=\"207\" y=\"-230.3\" font-family=\"Times,serif\" font-size=\"14.00\" fill=\"#000000\">*</text>\n</g>\n<!-- R*_52&#45;&gt;*_53 -->\n<g id=\"edge10\" class=\"edge\">\n<title>R*_52&#45;&gt;*_53</title>\n<path fill=\"none\" stroke=\"#000000\" d=\"M203.2617,-287.8314C203.7965,-280.131 204.4323,-270.9743 205.0266,-262.4166\"/>\n<polygon fill=\"#000000\" stroke=\"#000000\" points=\"208.52,-262.6317 205.7213,-252.4133 201.5368,-262.1467 208.52,-262.6317\"/>\n</g>\n<!-- c_56 -->\n<g id=\"node15\" class=\"node\">\n<title>c_56</title>\n<ellipse fill=\"none\" stroke=\"#000000\" cx=\"283\" cy=\"-234\" rx=\"27\" ry=\"18\"/>\n<text text-anchor=\"middle\" x=\"283\" y=\"-230.3\" font-family=\"Times,serif\" font-size=\"14.00\" fill=\"#000000\">c</text>\n</g>\n<!-- R1.R2_63&#45;&gt;c_56 -->\n<g id=\"edge13\" class=\"edge\">\n<title>R1.R2_63&#45;&gt;c_56</title>\n<path fill=\"none\" stroke=\"#000000\" d=\"M338.6621,-289.6621C328.8185,-279.8185 316.1458,-267.1458 305.3795,-256.3795\"/>\n<polygon fill=\"#000000\" stroke=\"#000000\" points=\"307.8346,-253.8848 298.2886,-249.2886 302.8848,-258.8346 307.8346,-253.8848\"/>\n</g>\n<!-- ._64 -->\n<g id=\"node16\" class=\"node\">\n<title>._64</title>\n<ellipse fill=\"none\" stroke=\"#000000\" cx=\"355\" cy=\"-234\" rx=\"27\" ry=\"18\"/>\n<text text-anchor=\"middle\" x=\"355\" y=\"-230.3\" font-family=\"Times,serif\" font-size=\"14.00\" fill=\"#000000\">.</text>\n</g>\n<!-- R1.R2_63&#45;&gt;._64 -->\n<g id=\"edge14\" class=\"edge\">\n<title>R1.R2_63&#45;&gt;._64</title>\n<path fill=\"none\" stroke=\"#000000\" d=\"M355,-287.8314C355,-280.131 355,-270.9743 355,-262.4166\"/>\n<polygon fill=\"#000000\" stroke=\"#000000\" points=\"358.5001,-262.4132 355,-252.4133 351.5001,-262.4133 358.5001,-262.4132\"/>\n</g>\n<!-- R*_61 -->\n<g id=\"node17\" class=\"node\">\n<title>R*_61</title>\n<ellipse fill=\"none\" stroke=\"#000000\" cx=\"427\" cy=\"-234\" rx=\"27\" ry=\"18\"/>\n<text text-anchor=\"middle\" x=\"427\" y=\"-230.3\" font-family=\"Times,serif\" font-size=\"14.00\" fill=\"#000000\">R*</text>\n</g>\n<!-- R1.R2_63&#45;&gt;R*_61 -->\n<g id=\"edge15\" class=\"edge\">\n<title>R1.R2_63&#45;&gt;R*_61</title>\n<path fill=\"none\" stroke=\"#000000\" d=\"M371.3379,-289.6621C381.1815,-279.8185 393.8542,-267.1458 404.6205,-256.3795\"/>\n<polygon fill=\"#000000\" stroke=\"#000000\" points=\"407.1152,-258.8346 411.7114,-249.2886 402.1654,-253.8848 407.1152,-258.8346\"/>\n</g>\n<!-- (_49 -->\n<g id=\"node6\" class=\"node\">\n<title>(_49</title>\n<ellipse fill=\"none\" stroke=\"#000000\" cx=\"54\" cy=\"-162\" rx=\"27\" ry=\"18\"/>\n<text text-anchor=\"middle\" x=\"54\" y=\"-158.3\" font-family=\"Times,serif\" font-size=\"14.00\" fill=\"#000000\">(</text>\n</g>\n<!-- (R)_48&#45;&gt;(_49 -->\n<g id=\"edge6\" class=\"edge\">\n<title>(R)_48&#45;&gt;(_49</title>\n<path fill=\"none\" stroke=\"#000000\" d=\"M118.6084,-219.4297C106.9707,-209.0851 91.1572,-195.0286 78.0881,-183.4116\"/>\n<polygon fill=\"#000000\" stroke=\"#000000\" points=\"80.1666,-180.5763 70.3672,-176.5486 75.516,-185.8082 80.1666,-180.5763\"/>\n</g>\n<!-- R1.R2_46 -->\n<g id=\"node7\" class=\"node\">\n<title>R1.R2_46</title>\n<ellipse fill=\"none\" stroke=\"#000000\" cx=\"135\" cy=\"-162\" rx=\"35.9954\" ry=\"18\"/>\n<text text-anchor=\"middle\" x=\"135\" y=\"-158.3\" font-family=\"Times,serif\" font-size=\"14.00\" fill=\"#000000\">R1.R2</text>\n</g>\n<!-- (R)_48&#45;&gt;R1.R2_46 -->\n<g id=\"edge7\" class=\"edge\">\n<title>(R)_48&#45;&gt;R1.R2_46</title>\n<path fill=\"none\" stroke=\"#000000\" d=\"M135,-215.8314C135,-208.131 135,-198.9743 135,-190.4166\"/>\n<polygon fill=\"#000000\" stroke=\"#000000\" points=\"138.5001,-190.4132 135,-180.4133 131.5001,-190.4133 138.5001,-190.4132\"/>\n</g>\n<!-- )_50 -->\n<g id=\"node13\" class=\"node\">\n<title>)_50</title>\n<ellipse fill=\"none\" stroke=\"#000000\" cx=\"216\" cy=\"-162\" rx=\"27\" ry=\"18\"/>\n<text text-anchor=\"middle\" x=\"216\" y=\"-158.3\" font-family=\"Times,serif\" font-size=\"14.00\" fill=\"#000000\">)</text>\n</g>\n<!-- (R)_48&#45;&gt;)_50 -->\n<g id=\"edge8\" class=\"edge\">\n<title>(R)_48&#45;&gt;)_50</title>\n<path fill=\"none\" stroke=\"#000000\" d=\"M151.3916,-219.4297C163.0293,-209.0851 178.8428,-195.0286 191.9119,-183.4116\"/>\n<polygon fill=\"#000000\" stroke=\"#000000\" points=\"194.484,-185.8082 199.6328,-176.5486 189.8334,-180.5763 194.484,-185.8082\"/>\n</g>\n<!-- R*_41 -->\n<g id=\"node8\" class=\"node\">\n<title>R*_41</title>\n<ellipse fill=\"none\" stroke=\"#000000\" cx=\"63\" cy=\"-90\" rx=\"27\" ry=\"18\"/>\n<text text-anchor=\"middle\" x=\"63\" y=\"-86.3\" font-family=\"Times,serif\" font-size=\"14.00\" fill=\"#000000\">R*</text>\n</g>\n<!-- R1.R2_46&#45;&gt;R*_41 -->\n<g id=\"edge3\" class=\"edge\">\n<title>R1.R2_46&#45;&gt;R*_41</title>\n<path fill=\"none\" stroke=\"#000000\" d=\"M118.6621,-145.6621C108.8185,-135.8185 96.1458,-123.1458 85.3795,-112.3795\"/>\n<polygon fill=\"#000000\" stroke=\"#000000\" points=\"87.8346,-109.8848 78.2886,-105.2886 82.8848,-114.8346 87.8346,-109.8848\"/>\n</g>\n<!-- ._47 -->\n<g id=\"node9\" class=\"node\">\n<title>._47</title>\n<ellipse fill=\"none\" stroke=\"#000000\" cx=\"135\" cy=\"-90\" rx=\"27\" ry=\"18\"/>\n<text text-anchor=\"middle\" x=\"135\" y=\"-86.3\" font-family=\"Times,serif\" font-size=\"14.00\" fill=\"#000000\">.</text>\n</g>\n<!-- R1.R2_46&#45;&gt;._47 -->\n<g id=\"edge4\" class=\"edge\">\n<title>R1.R2_46&#45;&gt;._47</title>\n<path fill=\"none\" stroke=\"#000000\" d=\"M135,-143.8314C135,-136.131 135,-126.9743 135,-118.4166\"/>\n<polygon fill=\"#000000\" stroke=\"#000000\" points=\"138.5001,-118.4132 135,-108.4133 131.5001,-118.4133 138.5001,-118.4132\"/>\n</g>\n<!-- b_45 -->\n<g id=\"node10\" class=\"node\">\n<title>b_45</title>\n<ellipse fill=\"none\" stroke=\"#000000\" cx=\"207\" cy=\"-90\" rx=\"27\" ry=\"18\"/>\n<text text-anchor=\"middle\" x=\"207\" y=\"-86.3\" font-family=\"Times,serif\" font-size=\"14.00\" fill=\"#000000\">b</text>\n</g>\n<!-- R1.R2_46&#45;&gt;b_45 -->\n<g id=\"edge5\" class=\"edge\">\n<title>R1.R2_46&#45;&gt;b_45</title>\n<path fill=\"none\" stroke=\"#000000\" d=\"M151.3379,-145.6621C161.1815,-135.8185 173.8542,-123.1458 184.6205,-112.3795\"/>\n<polygon fill=\"#000000\" stroke=\"#000000\" points=\"187.1152,-114.8346 191.7114,-105.2886 182.1654,-109.8848 187.1152,-114.8346\"/>\n</g>\n<!-- a_39 -->\n<g id=\"node11\" class=\"node\">\n<title>a_39</title>\n<ellipse fill=\"none\" stroke=\"#000000\" cx=\"27\" cy=\"-18\" rx=\"27\" ry=\"18\"/>\n<text text-anchor=\"middle\" x=\"27\" y=\"-14.3\" font-family=\"Times,serif\" font-size=\"14.00\" fill=\"#000000\">a</text>\n</g>\n<!-- R*_41&#45;&gt;a_39 -->\n<g id=\"edge1\" class=\"edge\">\n<title>R*_41&#45;&gt;a_39</title>\n<path fill=\"none\" stroke=\"#000000\" d=\"M54.2854,-72.5708C50.0403,-64.0807 44.8464,-53.6929 40.1337,-44.2674\"/>\n<polygon fill=\"#000000\" stroke=\"#000000\" points=\"43.237,-42.6477 35.6343,-35.2687 36.976,-45.7782 43.237,-42.6477\"/>\n</g>\n<!-- *_42 -->\n<g id=\"node12\" class=\"node\">\n<title>*_42</title>\n<ellipse fill=\"none\" stroke=\"#000000\" cx=\"99\" cy=\"-18\" rx=\"27\" ry=\"18\"/>\n<text text-anchor=\"middle\" x=\"99\" y=\"-14.3\" font-family=\"Times,serif\" font-size=\"14.00\" fill=\"#000000\">*</text>\n</g>\n<!-- R*_41&#45;&gt;*_42 -->\n<g id=\"edge2\" class=\"edge\">\n<title>R*_41&#45;&gt;*_42</title>\n<path fill=\"none\" stroke=\"#000000\" d=\"M71.7146,-72.5708C75.9597,-64.0807 81.1536,-53.6929 85.8663,-44.2674\"/>\n<polygon fill=\"#000000\" stroke=\"#000000\" points=\"89.024,-45.7782 90.3657,-35.2687 82.763,-42.6477 89.024,-45.7782\"/>\n</g>\n<!-- c_59 -->\n<g id=\"node18\" class=\"node\">\n<title>c_59</title>\n<ellipse fill=\"none\" stroke=\"#000000\" cx=\"391\" cy=\"-162\" rx=\"27\" ry=\"18\"/>\n<text text-anchor=\"middle\" x=\"391\" y=\"-158.3\" font-family=\"Times,serif\" font-size=\"14.00\" fill=\"#000000\">c</text>\n</g>\n<!-- R*_61&#45;&gt;c_59 -->\n<g id=\"edge11\" class=\"edge\">\n<title>R*_61&#45;&gt;c_59</title>\n<path fill=\"none\" stroke=\"#000000\" d=\"M418.2854,-216.5708C414.0403,-208.0807 408.8464,-197.6929 404.1337,-188.2674\"/>\n<polygon fill=\"#000000\" stroke=\"#000000\" points=\"407.237,-186.6477 399.6343,-179.2687 400.976,-189.7782 407.237,-186.6477\"/>\n</g>\n<!-- *_62 -->\n<g id=\"node19\" class=\"node\">\n<title>*_62</title>\n<ellipse fill=\"none\" stroke=\"#000000\" cx=\"463\" cy=\"-162\" rx=\"27\" ry=\"18\"/>\n<text text-anchor=\"middle\" x=\"463\" y=\"-158.3\" font-family=\"Times,serif\" font-size=\"14.00\" fill=\"#000000\">*</text>\n</g>\n<!-- R*_61&#45;&gt;*_62 -->\n<g id=\"edge12\" class=\"edge\">\n<title>R*_61&#45;&gt;*_62</title>\n<path fill=\"none\" stroke=\"#000000\" d=\"M435.7146,-216.5708C439.9597,-208.0807 445.1536,-197.6929 449.8663,-188.2674\"/>\n<polygon fill=\"#000000\" stroke=\"#000000\" points=\"453.024,-189.7782 454.3657,-179.2687 446.763,-186.6477 453.024,-189.7782\"/>\n</g>\n</g>\n</svg>\n"
          },
          "metadata": {},
          "execution_count": 13
        }
      ],
      "source": [
        "t2"
      ]
    },
    {
      "cell_type": "code",
      "execution_count": null,
      "metadata": {
        "id": "hzb76-h5v-Ej"
      },
      "outputs": [],
      "source": []
    },
    {
      "cell_type": "markdown",
      "metadata": {
        "id": "vF2JSTSJv-Ej"
      },
      "source": [
        "\n",
        "# YOUR QUESTIONS "
      ]
    },
    {
      "cell_type": "markdown",
      "metadata": {
        "id": "QkaNeCmgv-Ek"
      },
      "source": [
        "# Q1: Run this notebook as follows\n",
        "\n",
        "## 1) Restart this notebook if you want a \"fresh\" look. Then remove the parsetab.py file and the  __pycache__/ folder, again if things are confusing (else, no need). These are found under the \"File Icon\" tab on Colab (click to expand that icon on the left, and then nuke those files/folders and rerun the notebook). Again these are not essential steps for the most part - but good to do in case the remaining steps in this notebook give you trouble.\n",
        "\n",
        "## 2) Run all the cells (ignore warnings such as this)\n",
        "\n",
        "#### WARNING: ../../../../jove/TransitionSelectors.py:22: Possible grammar rule 'fn_range' defined without p_ prefix\n",
        "\n",
        "## 3) Look at the productions (the ```p_``` functions) present earlier in this notebook (example: p_expression_plus, and then the others after it) and write down a context-free grammar for parsing regular expressions that has been encoded in this Jove notebook.\n",
        "\n",
        "### YOUR ANSWER may please be written in this style, (inventing suitable abbreviations to express the High-level Rule)\n",
        "\n",
        "* expression : expression PLUS catexpression\n",
        "  - High-level Rule: R -> R + C  \n",
        "  \n",
        "* Do this for all the rules\n",
        "\n",
        "* When you have things like LPAREN, look up how the token was encoded, and write `(` instead in the High-level Rule. This way, things become a bit more readable than just seeing LPAREN, RPAREN, etc.\n",
        "\n",
        "* In summary, for this \"Q1\" part of the answer under Question 3, your are to produce a neat-looking CFG which consists of high-level rules as above. By looking at those collection of rules, one should see clearly how we have specified the grammar for regular expression-parsing.\n",
        "\n"
      ]
    },
    {
      "cell_type": "markdown",
      "metadata": {
        "id": "USH15lDOv-Ek"
      },
      "source": [
        "# Q2: Execute these commands:\n",
        "\n",
        "* (n1,t1) = ```drawPT(parseRE(\"(a*b*+cc)*\"))```\n",
        "\n",
        "* (n2,t2) = ```drawPT(parseRE(\"(a*b)*+cc*\"))```\n",
        "\n",
        "## By comparing n1 and t1, justify that the correct NFA formation rules have been followed. Repeat for n2 and t2. YOUR JUSTIFICATION must consist of EXACTLY the following two sentencs with the details filled in.\n",
        "\n",
        "\n",
        "1) *I observe that the root node for the first regular expression (RE) is SUCH AND SUCH and that is because the RE was parsed as by applying the STAR operator a, and then b, and finally to FILL THIS PART SHOWING WHICH sub-regular-expression the third STAR operator was applied to.*\n",
        "\n",
        "2) *For the second RE, the last STAR was applied to DESCRIBE IN ONE SENTENCE.*\n",
        "\n",
        "3) *I acknowledge that I now fully understand how parseRE works. And I can see the same method being usd in file Def_RE2NFA.py in the jove/ folder of Jove. In both cases, the parse() function depends on a parser generated as per identical context-free grammar rules.*\n",
        "\n",
        "**For this step, you must click on the file icon, find the Jove files on the left-tab, locate Def_RE2NFA.py, download that file, and take a look inside that file. Thus your answer merely is the I acknowledge part, but you must have done these steps! We trust you, as we believe you want to learn these practical matters (you may be quizzed later in an actual exam to check if you did this).**\n",
        "\n"
      ]
    },
    {
      "cell_type": "markdown",
      "metadata": {
        "id": "lJYZtOUjv-Ek"
      },
      "source": [
        "# Q3: Explain the workings of all mk_X_nfa functions (with mk_star_nfa explained well).\n",
        "\n",
        "\n",
        "## *REQUIRED ANSWER*: \n",
        "\n",
        "## EXPLAIN HOW the code below for mk_star_nfa takes the NFA for ```R``` and produces an NFA for ```R*```.  The code you paste below can vary - but do pick up related code and paste below.\n",
        "\n",
        "   1) Introduce new (single) start+final state IF.Let Q0 = set({ IF }). THIS HAPPENS in THESE LINES OF CODE (paste the lines of code involved)\n",
        "\n",
        "    HERE\n",
        "\n",
        "   2) Move on epsilon from IF to the set N[Q0].\n",
        "\n",
        "   THIS HAPPENS in THESE LINES OF CODE (paste the lines of code involved)\n",
        "\n",
        "    HERE\n",
        "\n",
        "  3) Make N[F] non-final.\n",
        "\n",
        "  THIS HAPPENS in THESE LINES OF CODE (paste the lines of code involved)\n",
        "\n",
        "    HERE\n",
        "\n",
        "  4) Spin back from every state in N[F] to Q0.\n",
        "\n",
        "  THIS HAPPENS in THESE LINES OF CODE (paste the lines of code involved)\n",
        "\n",
        "    HERE\n",
        "\n",
        "  5) Return the final NFA.\n",
        "\n",
        "     HERE\n",
        "\n",
        "\n",
        "SIMILARLY, in your answer please mention at least something about these cases:\n",
        "\n",
        "* mk_cat_nfa is doing concatenation of the NFA of the two REs being concatenated, \n",
        "\n",
        "* mk_plus_nfa is doing the union (OR) of the two NFA,\n",
        "\n",
        "* and other mk_X_nfa are synthesizing primitive NFA.\n",
        "\n",
        "All these are following the textbook algorithms.\n",
        "\n",
        "```\n",
        "def mk_star_nfa(N):\n",
        "    '''Given an NFA, make its star.\n",
        "    '''\n",
        "    #\n",
        "    delta_accum = dict({})\n",
        "    IF = NxtStateStr()\n",
        "    Q0 = set({ IF }) # new set of start + final states\n",
        "    # Jump from IF to N's start state set\n",
        "    delta_accum.update({ (IF,\"\"): N[\"Q0\"] })\n",
        "    delta_accum.update(N[\"Delta\"])\n",
        "    #\n",
        "    for f in N[\"F\"]:\n",
        "        # N's final states may already have epsilon moves to\n",
        "        # other N-states!\n",
        "        # Expand the target of such jumps to include Q0 also.\n",
        "        if (f, \"\") in N[\"Delta\"]:\n",
        "            delta_accum.update({ (f, \"\"): (Q0 | N[\"Delta\"][(f, \"\")]) })\n",
        "        else:\n",
        "            delta_accum.update({ (f, \"\"): Q0 })\n",
        "    #\n",
        "    return mk_nfa(Q     = N[\"Q\"] | Q0, \n",
        "                  Sigma = N[\"Sigma\"], \n",
        "                  Delta = delta_accum, \n",
        "                  Q0    = Q0, \n",
        "                  F     = Q0)\n",
        "                  ```\n",
        "\n"
      ]
    },
    {
      "cell_type": "code",
      "execution_count": null,
      "metadata": {
        "id": "0lrHKuyYv-Ek"
      },
      "outputs": [],
      "source": []
    },
    {
      "cell_type": "code",
      "source": [],
      "metadata": {
        "id": "Hbw2D2214YD7"
      },
      "execution_count": null,
      "outputs": []
    }
  ],
  "metadata": {
    "kernelspec": {
      "display_name": "Python 3",
      "language": "python",
      "name": "python3"
    },
    "language_info": {
      "codemirror_mode": {
        "name": "ipython",
        "version": 3
      },
      "file_extension": ".py",
      "mimetype": "text/x-python",
      "name": "python",
      "nbconvert_exporter": "python",
      "pygments_lexer": "ipython3",
      "version": "3.8.5"
    },
    "toc": {
      "colors": {
        "hover_highlight": "#DAA520",
        "running_highlight": "#FF0000",
        "selected_highlight": "#FFD700"
      },
      "moveMenuLeft": true,
      "nav_menu": {
        "height": "12px",
        "width": "252px"
      },
      "navigate_menu": true,
      "number_sections": true,
      "sideBar": true,
      "threshold": 4,
      "toc_cell": false,
      "toc_section_display": "block",
      "toc_window_display": false,
      "widenNotebook": false
    },
    "colab": {
      "provenance": []
    }
  },
  "nbformat": 4,
  "nbformat_minor": 0
}