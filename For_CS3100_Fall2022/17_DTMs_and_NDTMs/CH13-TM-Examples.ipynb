{
 "cells": [
  {
   "cell_type": "markdown",
   "metadata": {},
   "source": [
    "# Examples of Turing Machines\n",
    "\n",
    "\n",
    "You may wish to watch this video and then play with TM definitions.\n",
    "\n",
    "You may also wish to convert some \"old fashioned\" TMs (created before\n",
    "automd was designed) to the automd markdown syntax.\n"
   ]
  },
  {
   "cell_type": "code",
   "execution_count": null,
   "metadata": {
    "run_control": {
     "frozen": false,
     "read_only": false
    }
   },
   "outputs": [],
   "source": [
    "# This Youtube video walks through this notebook\n",
    "from IPython.display import YouTubeVideo\n",
    "YouTubeVideo('E1X8OTWUxJ0')"
   ]
  },
  {
   "cell_type": "markdown",
   "metadata": {
    "run_control": {
     "frozen": false,
     "read_only": false
    }
   },
   "source": [
    "# Turing Machines"
   ]
  },
  {
   "cell_type": "code",
   "execution_count": 1,
   "metadata": {
    "run_control": {
     "frozen": false,
     "read_only": false
    }
   },
   "outputs": [
    {
     "name": "stdout",
     "output_type": "stream",
     "text": [
      "You may use any of these help commands:\n",
      "help(step_tm)\n",
      "help(run_tm)\n",
      "help(explore_tm)\n",
      "\n",
      "You may use any of these help commands:\n",
      "help(md2mc)\n",
      ".. and if you want to dig more, then ..\n",
      "help(default_line_attr)\n",
      "help(length_ok_input_items)\n",
      "help(union_line_attr_list_fld)\n",
      "help(extend_rsltdict)\n",
      "help(form_delta)\n",
      "help(get_machine_components)\n",
      "\n",
      "You may use any of these help commands:\n",
      "help(ResetStNum)\n",
      "help(NxtStateStr)\n",
      "\n",
      " \"help(JoveEditor)\" gives you info on the generic animation panel that animates all machines. \n"
     ]
    }
   ],
   "source": [
    "#~~~~~~~~~~~~~~~~~~~~~~~~~~~~~~~~~~~~~~~~~~~~~~~~~~~~~~~\n",
    "import sys\n",
    "\n",
    "# -- Detect if in Own Install or in Colab\n",
    "try:\n",
    "    import google.colab\n",
    "    OWN_INSTALL = False\n",
    "except:\n",
    "    OWN_INSTALL = True\n",
    "    \n",
    "if OWN_INSTALL:\n",
    "    \n",
    "  #---- Leave these definitions ON if running on laptop\n",
    "  #---- Else turn OFF by putting them between ''' ... '''\n",
    "\n",
    "  sys.path[0:0] = ['../../../../..',  '../../../../../3rdparty',  \n",
    "                   '../../../..',  '../../../../3rdparty',  \n",
    "                   '../../..',     '../../../3rdparty', \n",
    "                   '../..',        '../../3rdparty',\n",
    "                   '..',           '../3rdparty' ]\n",
    "\n",
    "else: # In colab\n",
    "  ! if [ ! -d Jove ]; then git clone https://github.com/ganeshutah/Jove Jove; fi\n",
    "  sys.path.append('./Jove')\n",
    "  sys.path.append('./Jove/jove')\n",
    "\n",
    "# -- common imports --\n",
    "from jove.Def_TM     import *\n",
    "from jove.Def_md2mc  import *\n",
    "from jove.DotBashers import *\n",
    "from jove.JoveEditor import *\n",
    "from jove.AnimateTM import * #-- usage: AnimateTM(whas101DTM, FuseEdges=True)\n",
    "#~~~~~~~~~~~~~~~~~~~~~~~~~~~~~~~~~~~~~~~~~~~~~~~~~~~~~~~"
   ]
  },
  {
   "cell_type": "markdown",
   "metadata": {
    "run_control": {
     "frozen": false,
     "read_only": false
    }
   },
   "source": [
    "# Various DTMs and NDTMs below"
   ]
  },
  {
   "cell_type": "code",
   "execution_count": null,
   "metadata": {
    "run_control": {
     "frozen": false,
     "read_only": false
    }
   },
   "outputs": [],
   "source": [
    "flipperTM = md2mc('''TM\n",
    "I : . ; ., S -> F\n",
    "I : 0 ; 1, R -> I\n",
    "I : 1 ; 0, R -> I\n",
    "''')\n",
    "DOflipperTM = dotObj_tm(flipperTM, FuseEdges=True)\n",
    "DOflipperTM\n"
   ]
  },
  {
   "cell_type": "code",
   "execution_count": null,
   "metadata": {
    "run_control": {
     "frozen": false,
     "read_only": false
    }
   },
   "outputs": [],
   "source": [
    "explore_tm(flipperTM, \"001001\", 100)"
   ]
  },
  {
   "cell_type": "code",
   "execution_count": null,
   "metadata": {
    "run_control": {
     "frozen": false,
     "read_only": false
    }
   },
   "outputs": [],
   "source": [
    "help(explore_tm)"
   ]
  },
  {
   "cell_type": "code",
   "execution_count": null,
   "metadata": {},
   "outputs": [],
   "source": [
    "# The following display(...) call is needed to see the animation buttons in Colab\n",
    "display(HTML('<link rel=\"stylesheet\" href=\"//stackpath.bootstrapcdn.com/font-awesome/4.7.0/css/font-awesome.min.css\"/>'))\n",
    "AnimateTM(flipperTM, FuseEdges=True)"
   ]
  },
  {
   "cell_type": "code",
   "execution_count": null,
   "metadata": {
    "run_control": {
     "frozen": false,
     "read_only": false
    }
   },
   "outputs": [],
   "source": [
    "wpw_tm = md2mc(\n",
    "'''\n",
    "TM \n",
    "!!---------------------------------------------------------------------------\n",
    "!! This is a DTM for recognizing strings of the form w#w where w is in {0,1}*\n",
    "!! The presence of the \"#\" serves as the midpoint-marker, thus allowing the\n",
    "!! TM to deterministically match around it.\n",
    "!! \n",
    "!!---------------------------------------------------------------------------\n",
    "\n",
    "!!---------------------------------------------------------------------------\n",
    "!! State : rd ; wr , mv -> tostates !! comment\n",
    "!!---------------------------------------------------------------------------\n",
    "\n",
    "Iq0     : 0  ; X  , R  -> q1      !! All 0s are converted to X, and matching\n",
    "\t       \t       \t  \t  !! 0s are then sought to the right of the #\n",
    "\n",
    "Iq0     : 1  ; Y  , R  -> q7      !! All 1s are converted to Y, and matching\n",
    "\t       \t       \t  \t  !! 1s are then sought to the right of the #\t\t\t\t  \n",
    "\t\t\t\t  \n",
    "Iq0     : #  ; #  , R  -> q5      !! If we see # rightaway, we are in the\n",
    "\t       \t       \t  \t  !! situation of having to match eps # eps\n",
    "\n",
    "!!---\t\t\t\t  \n",
    "q5\t: X ; X,R | Y ; Y,R -> q5 !! In q5, we skip over X and Y (an equal number\n",
    "\t      \t      \t       \t  !! of X and Y lie to the left of the #)\n",
    "\n",
    "q5      : .  ; .  , R  -> Fq6\t  !! .. and we accept when we see a blank (.)\n",
    "!!---\t\t\t\t  \t\t\t\t  \n",
    "\n",
    "q1      : 0 ; 0,R | 1 ; 1,R -> q1 !! In q1, skip over the remaining 0s and 1s\n",
    "\n",
    "q1      : #  ; #  , R  -> q2      !! But upon seeing a #, look for a matching\n",
    "\t       \t       \t  \t  !! 0 (since we are in q2, we know this).\n",
    "\n",
    "q2      : X ; X,R | Y ; Y,R -> q2 !! All X and Y are \"past stuff\" to skip over\n",
    "\n",
    "q2      : 0  ; X  , L  -> q3      !! When we find a matching 0, turn that to\n",
    "\t       \t       \t  \t  !! an X, and sweep left to do the next pass\n",
    "\t\t\t\t  \n",
    "q3      : X ; X,L | Y ; Y,L -> q3 !! In q3, we move over all past X, Y\n",
    "\n",
    "q3      : #  ; #  , L  -> q4      !! but when we reach the middle marker, we\n",
    "\t       \t       \t  \t  !! know that the next action is to seek the\n",
    "\t\t\t\t  !! next unprocessed 0 or 1\n",
    "\t\t\t\t  \n",
    "q4      : 0 ; 0,L | 1 ; 1,L -> q4 !! In q4, wait till we hit the leftmost 0/1\n",
    "\n",
    "q4      : X ; X,R | Y ; Y,R -> Iq0 !! When we hit an X or Y, we know that we've\n",
    " \t       \t       \t           !! found the leftmost 0/1. Another pass begins.\n",
    "\n",
    "!!---\t\t\t\t  \n",
    "q7      : 0 ; 0,R | 1 ; 1,R -> q7 !! q7 is similar to q1\n",
    "\n",
    "q7      : #  ; #  , R  -> q8      !! and q8 is similar to q2\n",
    "\n",
    "q8      : X ; X,R | Y ; Y,R -> q8 \n",
    "\n",
    "q8      : 1  ; Y  , L  -> q3      \n",
    "\n",
    "\n",
    "\n",
    "!!---------------------------------------------------------------------------\n",
    "!! You may use the line below as an empty shell to populate for your purposes\n",
    "!! Also serves as a syntax reminder for entering DFAs.\n",
    "!!\n",
    "!! State : r1 ; w1 , m1 | r2 ; w2 , m2 -> s1 , s2   !! comment\n",
    "!!\n",
    "!! ..    : .. ; .. , .. | .. ; .. , .. -> .. , ..  !!  ..\n",
    "!!---------------------------------------------------------------------------\n",
    "!!\n",
    "!! Good commenting and software-engineering methods, good clean indentation,\n",
    "!! grouping of similar states, columnar alignment, etc etc. are HUGELY\n",
    "!! important in any programming endeavor -- especially while programming\n",
    "!! automata. Otherwise, you can easily make a mistake in your automaton\n",
    "!! code. Besides, you cannot rely upon others to find your mistakes, as\n",
    "!! they will find your automaton code impossible to read!\n",
    "!!\n",
    "!!---------------------------------------------------------------------------\n",
    "\n",
    "'''   \n",
    "    \n",
    ")\n",
    "\n",
    "dotObj_tm(wpw_tm, FuseEdges = True)"
   ]
  },
  {
   "cell_type": "code",
   "execution_count": null,
   "metadata": {
    "run_control": {
     "frozen": false,
     "read_only": false
    }
   },
   "outputs": [],
   "source": [
    "DOwpw = dotObj_tm(wpw_tm, FuseEdges = True)"
   ]
  },
  {
   "cell_type": "code",
   "execution_count": null,
   "metadata": {
    "run_control": {
     "frozen": false,
     "read_only": false
    }
   },
   "outputs": [],
   "source": [
    "explore_tm(wpw_tm, \"001#001\", 120)"
   ]
  },
  {
   "cell_type": "code",
   "execution_count": null,
   "metadata": {},
   "outputs": [],
   "source": [
    "# The following display(...) call is needed to see the animation buttons in Colab\n",
    "display(HTML('<link rel=\"stylesheet\" href=\"//stackpath.bootstrapcdn.com/font-awesome/4.7.0/css/font-awesome.min.css\"/>'))\n",
    "\n",
    "#---SET FUEL TO 100 OR SO, else there will be no animation shown---\n",
    "AnimateTM(wpw_tm, FuseEdges=True)\n",
    "\n"
   ]
  },
  {
   "cell_type": "code",
   "execution_count": null,
   "metadata": {
    "run_control": {
     "frozen": false,
     "read_only": false
    }
   },
   "outputs": [],
   "source": [
    "wwndtm_md = md2mc(\n",
    "\n",
    "'''\n",
    "TM \n",
    "!!---------------------------------------------------------------------------\n",
    "!! This is a TM for ww processing. Guesses midpoint using nondet.\n",
    "!! \n",
    "!!---------------------------------------------------------------------------\n",
    "\n",
    "!!---------------------------------------------------------------------------\n",
    "!! State : rd ; wr , mv -> tostates !! comment\n",
    "!!---------------------------------------------------------------------------\n",
    "\n",
    "Iq0     : 0  ; 0  , S  -> q14      !! This simulates the TM taking a guess\n",
    "Iq0     : 1  ; 1  , S  -> q14      !! that it hasn't seen the midpoint. It\n",
    "                                   !! moves to q14\n",
    "\n",
    "Iq0     : .  ; .  , R  -> Fq1      !! yay! shortest acceptance is for eps eps\n",
    "\t                           !! i.e. facing a sea of blanks that encodes\n",
    "\t\t\t\t   !! an epsilon followed by another epsilon.\n",
    "\n",
    "!!---------------------------------------------------------------------------\n",
    "\t\t\t\t   \n",
    "q14     : 0  ; 0 , R   -> q14      !! The TM skips over 0s or\n",
    "\t\t\t\t   !! 1s for a while, and then chooses a cell,\n",
    "\t\t\t\t   \n",
    "q14     : 0  ; X , L   -> q2       !! declaring it the midpoint, or more specifically\n",
    "\t       \t       \t  \t   !! FIRST CHARACTER PAST MIDPOINT, by marking it 'X' \t\t\t\t   \n",
    "\t\t\t\t   !! and then moves to q2 (to march around the\n",
    "\t\t\t\t   !! chosen midpoint).\n",
    "\t\t\t\t   \n",
    "q14     : 1  ; 1 , R   -> q14      !! Similar actions as with 0 in state q14,\n",
    "q14     : 1  ; Y , L   -> q2       !! except that it \"dings\" the \"1\" with a \"Y\"\n",
    "\t       \t       \t  \t   !! to mark it the FIRST CHARACTER PAST MIDPOINT.\n",
    "\t\t\t\t   \n",
    "                                   !! Then we march around it. While the separate\n",
    "\t\t\t\t   !! use of \"X\" and \"Y\" may not be necessary,\n",
    "\t\t\t\t   !! it improves understandability when you\n",
    "\t\t\t\t   !! finally see the result of TM executions.\n",
    "\n",
    "q2      : 0  ; 0 , L   -> q2       !! The TM is now winding back, seeking the\n",
    "q2      : 1  ; 1 , L   -> q2       !! left-end of the tape till hit hits a '.'\n",
    "                                   !! (blank).\n",
    "\n",
    "q2      : .  ; . , R   -> q3       !! When that happens, the TM goes to state q3\n",
    "                                   !! to begin its work of \"matching around.\"\n",
    "\t\t\t\t   \n",
    "\t\t\t\t   !! We describe the q3,q5,q11,q9,q3 loop well.\n",
    "\t\t\t\t   !! The other loop q3,q4,q10,q8,q3 is similar.\n",
    "\n",
    "!!-----------------------------------------------------------------\n",
    "\n",
    "q3      : X ; X , R    -> q6       !! This state is a stuck state (no progress)\n",
    "\t      \t       \t  \t   !! WE came to q3 because we dinged a 0->X\n",
    "\t\t\t\t   !! or a 1->Y while in q14; so its matching\n",
    "\t\t\t\t   !! \"partner\" 0 or 1 must be found to the\n",
    "\t\t\t\t   !! left. Unfortunately, we are finding an\n",
    "\t\t\t\t   !! X or a Y.  Thus, no \"match around the middle\"\n",
    "\t\t\t\t   !! is likely to happen.\n",
    "\n",
    "q3      : Y ; Y , R    -> q7\t   !! This state is ALSO a stuck state for similar\n",
    "\t      \t       \t  \t   !! reasons as expressed in the comments\n",
    "\t\t\t\t   !! associated with q3 : X ; X ...\n",
    "\n",
    "!!-----------------------------------------------------------------\n",
    "!! Description of the q3,q5,q11,q9,q3 loop :\n",
    "\n",
    "q3      : 1 ; Q , R    -> q5       !! Upon seeing a 1, change to Q. Then MUST see a \n",
    "                                   !! matching Y, then change to 3, and go right, and to state q5.\n",
    "\n",
    "\t\t\t\t   !! We do this because 'Y' represents what\n",
    "\t\t\t\t   !! was '1' and got marked as midpoint (well,\n",
    "\t\t\t\t   !! one-past midpoint..).\t\t\t\t   \n",
    "\n",
    "!!-- What will happen in q5,q11,q9,q3 --\n",
    "\t\t\t\t   \n",
    "!! So we have to get past this assumed\n",
    "!! midpoint and choose the next\n",
    "!! \"one past midpoint that has not been seen so far\".\n",
    "   \n",
    "!! We enter q11 to then ding a matching\n",
    "!! 0 to X or 1 to Y, moving left.\n",
    "\t\t\t   \n",
    "!! A blank sends us leftwards, as well.\n",
    "\t\t\t   \n",
    "!! We sweep left till we hit a Q. We MUST see a Q\n",
    "!! because we entered \"this lobe\" by dinging a 1->Q.\n",
    "\n",
    "!! The process repeats from state q3.\n",
    "\n",
    "\n",
    "\n",
    "q5      : 0;0,R | 1;1,R | 2;2,R | 3;3,R -> q5  !! punt the 0/1/2/3; we need a \"Y\".\n",
    "\n",
    "q5      : Y  ; 3, R               -> q11 !! ah-ha , got a Y. Ding to 3, seek 0/1/.\n",
    "\n",
    "q11     : 1;Y,L | .;.,L | 0;X,L   -> q9  !! phew! got to sweep left now!\n",
    "\n",
    "q9      : 0;0,L | 1;1,L | 2;2,L | 3;3,L -> q9  !! whee! going left!\n",
    "\n",
    "q9      : Q ; Q , R                     -> q3  !! Boiinggg - now gonna go right!\n",
    "\n",
    "!!-----------------------------------------------------------------\n",
    "!! Description of the q3,q4,q10,q8,q3 loop :\n",
    "\n",
    "q3      : 0 ; P , R    -> q4    !! This is similar to q3 : 1 ; Q , R -> q5 above\n",
    "\n",
    "\n",
    "q4      : 0;0,R | 1;1,R | 2;2,R | 3;3,R -> q4  !! punt the 0/1/2/3; we need a \"X\".\n",
    "\n",
    "q4      : X  ; 2, R               -> q10 !! ah-ha , got a X. Ding to 2, seek 0/1/.\n",
    "\n",
    "q10     : 1;Y,L | .;.,L | 0;X,L   -> q8  !! phew! got to sweep left now!\n",
    "\n",
    "q8      : 0;0,L | 1;1,L | 2;2,L | 3;3,L -> q8  !! whee! going left!\n",
    "\n",
    "q8      : P ; P , R                     -> q3  !! Boiinggg - now gonna go right!\n",
    "\n",
    "!!-----------------------------------------------------------------\n",
    "\n",
    "q3      : 2;2,R | 3;3,R -> q12     !! Seeing every sign of acceptance!!\n",
    "\n",
    "\t\t\t\t   !! We are seeing piles of 2 and 3\n",
    "\t\t\t\t   !! ALSO did not get stuck in q6 or q7\n",
    "\t\t\t\t   !! That means all the matches went fine\n",
    "\n",
    "q12     : 2 ; 2 , R | 3 ; 3 , R -> q12 !! Skip over piles of past 2s and 3s\n",
    "\n",
    "q12     : . ; . , R     -> Fq13    !! Yay, acceptance when we hit a blank!\n",
    "\n",
    "\n",
    "!!---------------------------------------------------------------------------\n",
    "!! You may use the line below as an empty shell to populate for your purposes\n",
    "!! Also serves as a syntax reminder for entering DFAs.\n",
    "!!\n",
    "!! State : r1 ; w1 , m1 | r2 ; w2 , m2 -> s1 , s2   !! comment\n",
    "!!\n",
    "!! ..    : .. ; .. , .. | .. ; .. , .. -> .. , ..  !!  ..\n",
    "!!---------------------------------------------------------------------------\n",
    "!!\n",
    "!! Good commenting and software-engineering methods, good clean indentation,\n",
    "!! grouping of similar states, columnar alignment, etc etc. are HUGELY\n",
    "!! important in any programming endeavor -- especially while programming\n",
    "!! automata. Otherwise, you can easily make a mistake in your automaton\n",
    "!! code. Besides, you cannot rely upon others to find your mistakes, as\n",
    "!! they will find your automaton code impossible to read!\n",
    "!!\n",
    "!!---------------------------------------------------------------------------\n",
    "\n",
    "\n",
    "'''\n",
    "    \n",
    ")\n",
    "\n",
    "dotObj_tm(wwndtm_md, FuseEdges=True)"
   ]
  },
  {
   "cell_type": "code",
   "execution_count": null,
   "metadata": {
    "run_control": {
     "frozen": false,
     "read_only": false
    }
   },
   "outputs": [],
   "source": [
    "DOwwndtm = dotObj_tm(wwndtm_md, FuseEdges=True)\n",
    "DOwwndtm"
   ]
  },
  {
   "cell_type": "code",
   "execution_count": null,
   "metadata": {
    "run_control": {
     "frozen": false,
     "read_only": false
    }
   },
   "outputs": [],
   "source": [
    "explore_tm(wwndtm_md, \"001001\", 170)"
   ]
  },
  {
   "cell_type": "code",
   "execution_count": null,
   "metadata": {},
   "outputs": [],
   "source": [
    "#---SET FUEL TO 100 OR SO, else there will be no animation shown---\n",
    "AnimateTM(wwndtm_md, FuseEdges=True)\n"
   ]
  },
  {
   "cell_type": "code",
   "execution_count": null,
   "metadata": {},
   "outputs": [],
   "source": []
  }
 ],
 "metadata": {
  "kernelspec": {
   "display_name": "Python 3",
   "language": "python",
   "name": "python3"
  },
  "language_info": {
   "codemirror_mode": {
    "name": "ipython",
    "version": 3
   },
   "file_extension": ".py",
   "mimetype": "text/x-python",
   "name": "python",
   "nbconvert_exporter": "python",
   "pygments_lexer": "ipython3",
   "version": "3.7.3"
  },
  "toc": {
   "colors": {
    "hover_highlight": "#DAA520",
    "running_highlight": "#FF0000",
    "selected_highlight": "#FFD700"
   },
   "moveMenuLeft": true,
   "nav_menu": {
    "height": "318px",
    "width": "252px"
   },
   "navigate_menu": true,
   "number_sections": true,
   "sideBar": true,
   "threshold": 4,
   "toc_cell": false,
   "toc_section_display": "block",
   "toc_window_display": false,
   "widenNotebook": false
  }
 },
 "nbformat": 4,
 "nbformat_minor": 1
}
