{
  "cells": [
    {
      "cell_type": "code",
      "execution_count": null,
      "metadata": {
        "id": "JnmsuJTNzKzZ"
      },
      "outputs": [],
      "source": [
        "#~~~~~~~~~~~~~~~~~~~~~~~~~~~~~~~~~~~~~~~~~~~~~~~~~~~~~~~\n",
        "import sys\n",
        "\n",
        "# -- Detect if in Own Install or in Colab\n",
        "try:\n",
        "    import google.colab\n",
        "    OWN_INSTALL = False\n",
        "except:\n",
        "    OWN_INSTALL = True\n",
        "    \n",
        "if OWN_INSTALL:\n",
        "    print(\"Own install\")\n",
        "    sys.path[0:0] = ['../../../../..',  '../../../../../3rdparty',\n",
        "                     '../../../..',  '../../../../3rdparty',\n",
        "                     '../../..',     '../../../3rdparty',\n",
        "                     '../..',        '../../3rdparty',\n",
        "                     '..',           '../3rdparty' ]\n",
        "    \n",
        "else: # In colab\n",
        "    ! if [ ! -d Jove ]; then git clone https://github.com/ganeshutah/Jove Jove; fi\n",
        "    sys.path.append('./Jove')\n",
        "    sys.path.append('./Jove/jove')\n",
        "\n",
        "# -- common imports --\n",
        "from jove.PcpJupyterNew import *\n",
        "from jove.Def_TM     import *\n",
        "from jove.Def_md2mc  import *\n",
        "from jove.DotBashers import *\n",
        "#~~~~~~~~~~~~~~~~~~~~~~~~~~~~~~~~~~~~~~~~~~~~~~~~~~~~~~~"
      ]
    },
    {
      "cell_type": "markdown",
      "metadata": {
        "id": "o9hh5_F4n8n5"
      },
      "source": [
        "\n",
        "# NOTE THAT A HELPFUL VIDEO IS PRESENTED ON CANVAS for the basics of Asg6\n",
        "\n",
        "# It is also the first video in the module REMAINING VIDEOS (NOV, DEC) 2022\n",
        "\n",
        "#===\n",
        "\n",
        "# Question 1 (50 points):\n",
        "\n",
        "## The TM design is *25 points* for a well-documented TM\n",
        "\n",
        "## Passing the given tests fetches 3 points each - total *15 points*\n",
        "\n",
        "## Each test you add (5 requested) that passes fetches 2 point each - total *10 points*\n",
        "\n",
        "## Strive to make three of your tests involve input strings of length 10 or more (to avoid having entirely short tests)"
      ]
    },
    {
      "cell_type": "markdown",
      "metadata": {
        "id": "R9bd3UrFoFT3"
      },
      "source": [
        "- Design a deterministic Turing machine (DTM) over the input alphabet Σ = {a, b, #} for the language of all strings of the form w#x where w, x ∈ {a, b}∗ and w is a substring of x. See the definition of substring here: https://en.wikipedia.org/wiki/Substring\n",
        "\n",
        "- You must design a deterministic Turing machine which absolutely has no non-determinism anywhere in its state transitions. A deterministic algorithm here requires searching for all w beginnings within x. A correct design will have a deterministic polynomial runtime.\n",
        "\n",
        "- More specifically, you will start the search at the beginning of x, fail, move one position forward on x, start the search again, etc., till you cannot find a position within x to start the search on\n",
        "\n",
        "- You don't need to do any error-checks of user input. Assume that the user never gave anything outside of the above $\\Sigma$ in their input.\n",
        "\n",
        "- Add 5 more tests of your own."
      ]
    },
    {
      "cell_type": "code",
      "execution_count": null,
      "metadata": {
        "id": "4GYe37nZuNDN"
      },
      "outputs": [],
      "source": [
        "Asg6DTM = md2mc('''\n",
        "TM     \n",
        "\n",
        "''')"
      ]
    },
    {
      "cell_type": "markdown",
      "metadata": {
        "id": "u0PYgVqsuo7N"
      },
      "source": [
        "### Test Cases: The \"fuel\" argument of 50 may be increased as needed (start with 50 and that is good if all tests finish)"
      ]
    },
    {
      "cell_type": "code",
      "execution_count": null,
      "metadata": {
        "id": "DxpoCGS_uNqc"
      },
      "outputs": [],
      "source": [
        "help(explore_tm)"
      ]
    },
    {
      "cell_type": "code",
      "execution_count": null,
      "metadata": {
        "id": "THq3o7AhuRem"
      },
      "outputs": [],
      "source": [
        "explore_tm(Asg6DTM, \"aba#aba\",50)"
      ]
    },
    {
      "cell_type": "code",
      "execution_count": null,
      "metadata": {
        "id": "lIGV869SuSoP"
      },
      "outputs": [],
      "source": [
        "explore_tm(Asg6DTM, \"aba#ab\",50)"
      ]
    },
    {
      "cell_type": "code",
      "execution_count": null,
      "metadata": {
        "id": "pK5gYjq1uT2k"
      },
      "outputs": [],
      "source": [
        "explore_tm(Asg6DTM, \"aba#baba\",50)"
      ]
    },
    {
      "cell_type": "code",
      "execution_count": null,
      "metadata": {
        "id": "1suuqWHLuVAD"
      },
      "outputs": [],
      "source": [
        "explore_tm(Asg6DTM, \"aba#babba\",50)"
      ]
    },
    {
      "cell_type": "code",
      "execution_count": null,
      "metadata": {
        "id": "u1xNzrCzuXat"
      },
      "outputs": [],
      "source": [
        "explore_tm(Asg6DTM, \"bba#bbabba\",50)"
      ]
    },
    {
      "cell_type": "markdown",
      "metadata": {
        "id": "5QlSFum4ubtm"
      },
      "source": [
        "### 5 Tests You Add:"
      ]
    },
    {
      "cell_type": "code",
      "execution_count": null,
      "metadata": {
        "id": "uO2HYF8LuhEc"
      },
      "outputs": [],
      "source": [
        "# Test 1"
      ]
    },
    {
      "cell_type": "code",
      "execution_count": null,
      "metadata": {
        "id": "ZNeqyBqkuieV"
      },
      "outputs": [],
      "source": [
        "# Test 2"
      ]
    },
    {
      "cell_type": "code",
      "execution_count": null,
      "metadata": {
        "id": "YtbPqIcIukKl"
      },
      "outputs": [],
      "source": [
        "# Test 3"
      ]
    },
    {
      "cell_type": "code",
      "execution_count": null,
      "metadata": {
        "id": "qN3IVwQWulIl"
      },
      "outputs": [],
      "source": [
        "# Test 4"
      ]
    },
    {
      "cell_type": "code",
      "execution_count": null,
      "metadata": {
        "id": "j9kLvJBvumNO"
      },
      "outputs": [],
      "source": [
        "# Test 5"
      ]
    },
    {
      "cell_type": "markdown",
      "metadata": {
        "id": "-RL2-xKKus2t"
      },
      "source": [
        "## Question 2 (50 points):\n"
      ]
    },
    {
      "cell_type": "markdown",
      "metadata": {
        "id": "-9-btsyEu-QE"
      },
      "source": [
        "-  Design a non-deterministic Turing machine (NDTM) over the input alphabet Σ = {a, b, #} for the language of all strings of the form w#x where w, x ∈ {a, b}∗ and w is a substring of x. See the definition of substring here: https://en.wikipedia.org/wiki/Substring\n",
        "\n",
        "- You must design a non-deterministic Turing machine—i.e., not design a DTM and call it an NDTM. You must employ a distinct phase of taking a guess (indicating it via your comments) and check the guess. A correct design will have a nondeterministic polynomial runtime, which means once the guess is made, only a polynomial zig-zag search must be involved to confirm the guess.\n",
        "\n",
        "- More specifically, you will start the search at a random spot in x, and just do one comparison of w with \"x beginning at that spot\" and find that w is embedded within x beginning at that point. If it fails, you just block in a reject state. (Other non-deterministic options will search out other x-beginnings).\n",
        "\n",
        "- You don't need to do any error-checks of user input. Assume that the user never gave anything outside of the above $\\Sigma$ in their input.\n",
        "\n",
        "- Add 5 tests on your own.\n",
        "\n",
        "* The TM design fetches *25 points* for a well-documented TM\n",
        "\n",
        "* The given tests passing fetches 3 points each - *total 15 points*\n",
        "\n",
        "* Each test you add fetches 2 points each - *total 10 points*\n",
        "\n",
        "* Strive to make three of your tests involve input strings of length 10 or more (to avoid having entirely short tests)"
      ]
    },
    {
      "cell_type": "code",
      "execution_count": null,
      "metadata": {
        "id": "YVJPnI8Su4WV"
      },
      "outputs": [],
      "source": [
        "# w#x NDTM\n",
        "Asg6NDTM = md2mc('''TM\n",
        "''')\n"
      ]
    },
    {
      "cell_type": "markdown",
      "metadata": {
        "id": "T3UKEXrpvZhd"
      },
      "source": [
        "### Test Cases: The \"fuel\" argument of 50 may be increased as needed (start with 50 and that is good if all tests finish)"
      ]
    },
    {
      "cell_type": "code",
      "execution_count": null,
      "metadata": {
        "id": "Eyt2gsjGvbjc"
      },
      "outputs": [],
      "source": [
        "explore_tm(Asg6NDTM, \"aba#aba\",50)"
      ]
    },
    {
      "cell_type": "code",
      "execution_count": null,
      "metadata": {
        "id": "ZPT-VhPMvXD4"
      },
      "outputs": [],
      "source": [
        "explore_tm(Asg6NDTM, \"aba#ab\",50)"
      ]
    },
    {
      "cell_type": "code",
      "execution_count": null,
      "metadata": {
        "id": "D7JxmSr4vdhk"
      },
      "outputs": [],
      "source": [
        "explore_tm(Asg6NDTM, \"aba#baba\",50)"
      ]
    },
    {
      "cell_type": "code",
      "execution_count": null,
      "metadata": {
        "id": "MLeHFI96vfd_"
      },
      "outputs": [],
      "source": [
        "explore_tm(Asg6NDTM, \"aba#babba\",50)"
      ]
    },
    {
      "cell_type": "code",
      "execution_count": null,
      "metadata": {
        "id": "KEHx2p6PvhDO"
      },
      "outputs": [],
      "source": [
        "explore_tm(Asg6NDTM, \"bba#bbabba\",50)"
      ]
    },
    {
      "cell_type": "markdown",
      "metadata": {
        "id": "IRAFeBn7vjHP"
      },
      "source": [
        "### 5 Test Cases You Add"
      ]
    },
    {
      "cell_type": "code",
      "execution_count": null,
      "metadata": {
        "id": "FbpeX8ADvmVQ"
      },
      "outputs": [],
      "source": [
        "# Test 1"
      ]
    },
    {
      "cell_type": "code",
      "execution_count": null,
      "metadata": {
        "id": "dGXDBQHNvmgu"
      },
      "outputs": [],
      "source": [
        "# Test 2"
      ]
    },
    {
      "cell_type": "code",
      "execution_count": null,
      "metadata": {
        "id": "F_59X_C2vmn0"
      },
      "outputs": [],
      "source": [
        "# Test 3"
      ]
    },
    {
      "cell_type": "code",
      "execution_count": null,
      "metadata": {
        "id": "sAGW1XytvmvL"
      },
      "outputs": [],
      "source": [
        "# Test 4"
      ]
    },
    {
      "cell_type": "code",
      "execution_count": null,
      "metadata": {
        "id": "WY_x56U8vm4z"
      },
      "outputs": [],
      "source": [
        "# Test 5"
      ]
    },
    {
      "cell_type": "markdown",
      "metadata": {
        "id": "lOH0x8cy7AuI"
      },
      "source": [
        "# END\n"
      ]
    }
  ],
  "metadata": {
    "colab": {
      "provenance": []
    },
    "kernelspec": {
      "display_name": "Python 3",
      "language": "python",
      "name": "python3"
    },
    "language_info": {
      "codemirror_mode": {
        "name": "ipython",
        "version": 3
      },
      "file_extension": ".py",
      "mimetype": "text/x-python",
      "name": "python",
      "nbconvert_exporter": "python",
      "pygments_lexer": "ipython3",
      "version": "3.8.5"
    },
    "toc": {
      "colors": {
        "hover_highlight": "#DAA520",
        "running_highlight": "#FF0000",
        "selected_highlight": "#FFD700"
      },
      "moveMenuLeft": true,
      "nav_menu": {
        "height": "121px",
        "width": "252px"
      },
      "navigate_menu": true,
      "number_sections": true,
      "sideBar": true,
      "threshold": 4,
      "toc_cell": false,
      "toc_section_display": "block",
      "toc_window_display": false,
      "widenNotebook": false
    }
  },
  "nbformat": 4,
  "nbformat_minor": 0
}