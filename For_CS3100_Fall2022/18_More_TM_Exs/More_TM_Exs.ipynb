{
 "cells": [
  {
   "cell_type": "markdown",
   "metadata": {
    "run_control": {
     "frozen": false,
     "read_only": false
    }
   },
   "source": [
    "# Turing Machines"
   ]
  },
  {
   "cell_type": "code",
   "execution_count": null,
   "metadata": {
    "run_control": {
     "frozen": false,
     "read_only": false
    }
   },
   "outputs": [],
   "source": [
    "#~~~~~~~~~~~~~~~~~~~~~~~~~~~~~~~~~~~~~~~~~~~~~~~~~~~~~~~\n",
    "import sys\n",
    "\n",
    "# -- Detect if in Own Install or in Colab\n",
    "try:\n",
    "    import google.colab\n",
    "    OWN_INSTALL = False\n",
    "except:\n",
    "    OWN_INSTALL = True\n",
    "    \n",
    "if OWN_INSTALL:\n",
    "    \n",
    "  #---- Leave these definitions ON if running on laptop\n",
    "  #---- Else turn OFF by putting them between ''' ... '''\n",
    "\n",
    "  sys.path[0:0] = ['../../../../..',  '../../../../../3rdparty',  \n",
    "                   '../../../..',  '../../../../3rdparty',  \n",
    "                   '../../..',     '../../../3rdparty', \n",
    "                   '../..',        '../../3rdparty',\n",
    "                   '..',           '../3rdparty' ]\n",
    "\n",
    "else: # In colab\n",
    "  ! if [ ! -d Jove ]; then git clone https://github.com/ganeshutah/Jove Jove; fi\n",
    "  sys.path.append('./Jove')\n",
    "  sys.path.append('./Jove/jove')\n",
    "\n",
    "# -- common imports --\n",
    "from jove.Def_TM     import *\n",
    "from jove.Def_md2mc  import *\n",
    "from jove.DotBashers import *\n",
    "#~~~~~~~~~~~~~~~~~~~~~~~~~~~~~~~~~~~~~~~~~~~~~~~~~~~~~~~"
   ]
  },
  {
   "cell_type": "code",
   "execution_count": null,
   "metadata": {
    "run_control": {
     "frozen": false,
     "read_only": false
    }
   },
   "outputs": [],
   "source": [
    " # DTM to locate \"101\"\n",
    "\n",
    "dtm101 = md2mc('''TM\n",
    "I : 0; A, R -> I\n",
    "I : 1; B, R -> Got1Sk0\n",
    "I : .; ., R -> StuckNo1beg\n",
    "\n",
    "Got1Sk0 : 1; B, R -> Got1Sk0\n",
    "Got1Sk0 : .; ., R -> StuckNo0Aft1\n",
    "Got1Sk0 : 0; A, R -> Got10Sk1\n",
    "\n",
    "Got10Sk1 : 0; A, R -> I\n",
    "Got10Sk1 : 1; B, R -> Found101\n",
    "Got10Sk1 : .; ., R -> StuckNo1end\n",
    "\n",
    "''')\n",
    "DO_dtm101 = dotObj_tm(dtm101, FuseEdges=True)\n",
    "DO_dtm101.render('dtm101')\n",
    "DO_dtm101"
   ]
  },
  {
   "cell_type": "code",
   "execution_count": null,
   "metadata": {
    "run_control": {
     "frozen": false,
     "read_only": false
    }
   },
   "outputs": [],
   "source": [
    "explore_tm(dtm101, \"00101\", 10)"
   ]
  },
  {
   "cell_type": "code",
   "execution_count": null,
   "metadata": {
    "run_control": {
     "frozen": false,
     "read_only": false
    }
   },
   "outputs": [],
   "source": [
    "# NDTM to locate \"101\"\n",
    "\n",
    "ndtm101 = md2mc('''TM\n",
    "\n",
    "I : 0; A, R | 1; B, R -> I\n",
    "I : 0; 0, S | 1; 1, S -> TryMyLuck\n",
    "\n",
    "TryMyLuck : 1; Q, R -> Got1Sk0\n",
    "Got1Sk0   : 0; P, R -> Got10Sk1\n",
    "Got10Sk1  : 1; Q, R -> Found101\n",
    "\n",
    "I : .; ., R -> Reject\n",
    " \n",
    "''')\n",
    "DO_ndtm101 = dotObj_tm(ndtm101, FuseEdges=True)\n",
    "DO_ndtm101.render('ndtm101')\n",
    "DO_ndtm101"
   ]
  },
  {
   "cell_type": "code",
   "execution_count": null,
   "metadata": {
    "run_control": {
     "frozen": false,
     "read_only": false
    }
   },
   "outputs": [],
   "source": [
    "explore_tm(ndtm101, \"00101\", 10)"
   ]
  },
  {
   "cell_type": "markdown",
   "metadata": {},
   "source": [
    "## This TM (written by Ian Briggs) doubles a number given in decimal"
   ]
  },
  {
   "cell_type": "code",
   "execution_count": null,
   "metadata": {
    "run_control": {
     "frozen": false,
     "read_only": false
    }
   },
   "outputs": [],
   "source": [
    "dec_doub = md2mc(\n",
    "\"\"\"\n",
    "TM\n",
    "i_start : 0;.,R -> erase_leading_0\n",
    "i_start : 1;1,R | 2;2,R | 3;3,R | 4;4,R | 5;5,R | 6;6,R | 7;7,R | 8;8,R | 9;9,R -> goto_lsd\n",
    "i_start : .;.,S -> error\n",
    "\n",
    "erase_leading_0 : 0;.,R -> erase_leading_0\n",
    "erase_leading_0 : 1;1,R | 2;2,R | 3;3,R | 4;4,R | 5;5,R | 6;6,R | 7;7,R | 8;8,R | 9;9,R -> goto_lsd\n",
    "erase_leading_0 : .;0,S -> f_done\n",
    "\n",
    "goto_lsd : 0;0,R | 1;1,R | 2;2,R | 3;3,R | 4;4,R | 5;5,R | 6;6,R | 7;7,R | 8;8,R | 9;9,R -> goto_lsd\n",
    "goto_lsd : .;.,L -> 0_carry\n",
    "\n",
    "0_carry : 0;0,L | 1;2,L | 2;4,L | 3;6,L | 4;8,L -> 0_carry\n",
    "0_carry : 5;0,L | 6;2,L | 7;4,L | 8;6,L | 9;8,L -> 1_carry\n",
    "0_carry : .;.,S -> f_done\n",
    "\n",
    "1_carry : 0;1,L | 1;3,L | 2;5,L | 3;7,L | 4;9,L -> 0_carry\n",
    "1_carry : 5;1,L | 6;3,L | 7;5,L | 8;7,L | 9;9,L -> 1_carry\n",
    "1_carry : .;1,S -> f_done\n",
    "!!\"\"\"\n",
    "\n",
    ")\n",
    "    \n",
    "# -- src='File', fname='../../machines/tmfiles/decimal_double_tm.tm'\n"
   ]
  },
  {
   "cell_type": "code",
   "execution_count": null,
   "metadata": {
    "run_control": {
     "frozen": false,
     "read_only": false
    }
   },
   "outputs": [],
   "source": [
    "dotObj_tm(dec_doub, FuseEdges = True)"
   ]
  },
  {
   "cell_type": "code",
   "execution_count": null,
   "metadata": {
    "run_control": {
     "frozen": false,
     "read_only": false
    }
   },
   "outputs": [],
   "source": [
    "# Doubles the number given on the tape in decimal!\n",
    "explore_tm(dec_doub, \"231\", 100)"
   ]
  },
  {
   "cell_type": "markdown",
   "metadata": {},
   "source": [
    "### This is also known as the Collatz Problem which is to check whether a function of the following form\n",
    "### terminates on all inputs. We give the Collatz problem in Python below."
   ]
  },
  {
   "cell_type": "code",
   "execution_count": null,
   "metadata": {},
   "outputs": [],
   "source": [
    "def collatz(x):\n",
    "    if (x%2 == 0): \n",
    "        print(x, \", \",end=\"\")\n",
    "        return collatz(x//2)\n",
    "    elif (x==1):\n",
    "        print(x, \", \",end=\"\")\n",
    "        return 1\n",
    "    else:\n",
    "        print(x, \", \",end=\"\")\n",
    "        return collatz(3*x + 1)"
   ]
  },
  {
   "cell_type": "code",
   "execution_count": null,
   "metadata": {},
   "outputs": [],
   "source": [
    "collatz(23)"
   ]
  },
  {
   "cell_type": "code",
   "execution_count": null,
   "metadata": {},
   "outputs": [],
   "source": [
    "collatz(73)"
   ]
  },
  {
   "cell_type": "markdown",
   "metadata": {},
   "source": [
    "## This TM (written by Ian Briggs) runs the code associated with the \"3x+1\" problem "
   ]
  },
  {
   "cell_type": "code",
   "execution_count": null,
   "metadata": {
    "run_control": {
     "frozen": false,
     "read_only": false
    }
   },
   "outputs": [],
   "source": [
    "'''\n",
    "(src='File', fname='../../machines/tmfiles/collatz_tm.tm')\n",
    "'''\n",
    "\n",
    "collatz_tm = md2mc(\n",
    "\"\"\"\n",
    "TM\n",
    "\n",
    "i_start      : 0; ., R -> i_start             !! erase this zero and try to find more\n",
    "i_start      : 1; 1, R -> goto_lsb            !! we have a proper number, go to the lsb\n",
    "i_start      : .; ., S -> error               !! error on no input or input == 0\n",
    "\n",
    "\n",
    "goto_lsb     : 0; 0,R | 1; 1,R -> goto_lsb    !! scan off the right edge of the number\n",
    "goto_lsb     : .; .,L -> branch               !! take a step back to be on the lsb and start branch\n",
    "\n",
    "\n",
    "branch       : 0; .,L -> branch               !! number is even, divide by two and re-branch\n",
    "branch       : 1; 1,L -> check_n_eq_1         !! number is odd, check if it is 1\n",
    "\n",
    "\n",
    "check_n_eq_1 : 0; 0,R | 1; 1,R -> 01_fma      !! number wasn't 1, goto 3n+1\n",
    "check_n_eq_1 : .; .,R -> f_halt               !! number was 1, halt\n",
    "\n",
    "\n",
    "!! carrying 0 we see a 0 so write 0 and carry 0 forward\n",
    "00_fma       : 0; 0,L -> 00_fma\n",
    "\n",
    "!! carrying 0 we see a 1 (times 3 is 11) so write 1 and carry 1 forward\n",
    "00_fma       : 1; 1,L -> 01_fma\n",
    "\n",
    "!! reached the end of the number, go back to the start\n",
    "00_fma       : .; .,R -> goto_lsb             \n",
    "\n",
    "\n",
    "!! carrying 1 we see a 0 so write 1 and carry 0 forward\n",
    "01_fma       : 0; 1,L -> 00_fma  \n",
    "\n",
    "!! carrying 1 we see a 1 (times 3 is 11, plus our carry is 100) so write 0 and carry 10 forward\n",
    "01_fma       : 1; 0,L -> 10_fma  \n",
    "\n",
    "!! reached the end of the number, write our 1 and go back to the start\n",
    "01_fma       : .; 1,R -> goto_lsb             \n",
    "\n",
    "\n",
    "!! carrying 10 we see a 0, so write 0 and carry 1 forward\n",
    "10_fma       : 0; 0,L -> 01_fma\n",
    "\n",
    "!! carrying 10 we see a 1 (times 3 is 11, plus our carry is 101), so write 1 and carry 10 forward\n",
    "10_fma       : 1; 1,L -> 10_fma\n",
    "\n",
    "!! reached the end of the number, write a 0 from our 10 and carry 1\n",
    "10_fma       : .; 0,L -> 01_fma\n",
    "\n",
    "\"\"\"\n",
    ")"
   ]
  },
  {
   "cell_type": "code",
   "execution_count": null,
   "metadata": {
    "run_control": {
     "frozen": false,
     "read_only": false
    }
   },
   "outputs": [],
   "source": [
    "DOcollatz = dotObj_tm(collatz_tm, FuseEdges=True)\n",
    "DOcollatz"
   ]
  },
  {
   "cell_type": "code",
   "execution_count": null,
   "metadata": {
    "run_control": {
     "frozen": false,
     "read_only": false
    }
   },
   "outputs": [],
   "source": [
    "# Will loop if the Collatz (\"3x+1\") program will ever loop!\n",
    "explore_tm(collatz_tm, \"0110\", 100)"
   ]
  },
  {
   "cell_type": "markdown",
   "metadata": {},
   "source": [
    "### This TM written by Ian Briggs shifts the given string of a's and b's\n",
    "### puts a gap before the last character and shifts the other characters\n",
    "### one place left. E.g., ababba -> ababb.a"
   ]
  },
  {
   "cell_type": "code",
   "execution_count": null,
   "metadata": {
    "run_control": {
     "frozen": false,
     "read_only": false
    }
   },
   "outputs": [],
   "source": [
    "'''(src='File', fname='../../machines/tmfiles/shift_left_tm.tm')\n",
    "'''\n",
    "\n",
    "shiftl_tm = md2mc(\n",
    "\"\"\"\n",
    "!! Input: a string matching the regex \"[ab]*\"\n",
    "!!\n",
    "!! Output: the same input string with a gap before the last character\n",
    "!!\n",
    "!! Errors: None\n",
    "\n",
    "TM\n",
    "i_start : a;a,R | b;b,R -> scan_to_end\n",
    "i_start : .;.,S -> f_done\n",
    "\n",
    "scan_to_end : a;a,R | b;b,R -> scan_to_end\n",
    "scan_to_end : .;.,L -> move_left\n",
    "\n",
    "move_left : a;a,L | b;b,L -> read\n",
    "\n",
    "read : a;.,L -> a_next\n",
    "read : b;.,L -> b_next\n",
    "\n",
    "a_next : a;a,L -> a_next\n",
    "a_next : b;a,L -> b_next\n",
    "a_next : .;a,L -> f_done\n",
    "\n",
    "b_next : a;b,L -> a_next\n",
    "b_next : b;b,L -> b_next\n",
    "b_next : .;b,L -> f_done\n",
    "\n",
    "\"\"\"\n",
    "\n",
    ")"
   ]
  },
  {
   "cell_type": "code",
   "execution_count": null,
   "metadata": {
    "run_control": {
     "frozen": false,
     "read_only": false
    }
   },
   "outputs": [],
   "source": [
    "dotObj_tm(shiftl_tm, FuseEdges=True)"
   ]
  },
  {
   "cell_type": "code",
   "execution_count": null,
   "metadata": {
    "run_control": {
     "frozen": false,
     "read_only": false
    }
   },
   "outputs": [],
   "source": [
    "explore_tm(shiftl_tm, \"abaaba\", 100)"
   ]
  },
  {
   "cell_type": "markdown",
   "metadata": {},
   "source": [
    "### This TM written by Ian Briggs shifts the given string of a's and b's\n",
    "### puts a gap before the last character and shifts the other characters\n",
    "### one place left. E.g., ababba -> a.babba"
   ]
  },
  {
   "cell_type": "code",
   "execution_count": null,
   "metadata": {
    "run_control": {
     "frozen": false,
     "read_only": false
    }
   },
   "outputs": [],
   "source": [
    "'''\n",
    "(src='File', fname='../../machines/tmfiles/shift_right_tm.tm')\n",
    "'''\n",
    "\n",
    "shiftr_tm = md2mc(\n",
    "\"\"\"\n",
    "!! Input: a string matching the regex \"[ab]*\"\n",
    "!!\n",
    "!! Output: the same input string with a gap after the first character\n",
    "!!\n",
    "!! Errors: None\n",
    "TM\n",
    "i_move_right : a;a,R | b;b,R -> read\n",
    "i_move_right : .;.,S -> f_done\n",
    "\n",
    "read : a;.,R -> a_next\n",
    "read : b;.,R -> b_next\n",
    "read : .;.,S -> f_done\n",
    "\n",
    "a_next : a;a,R -> a_next\n",
    "a_next : b;a,R -> b_next\n",
    "a_next : .;a,S -> f_done\n",
    "\n",
    "b_next : a;b,R -> a_next\n",
    "b_next : b;b,R -> b_next\n",
    "b_next : .;b,S -> f_done\n",
    "!!\"\"\"\n",
    "\n",
    ")"
   ]
  },
  {
   "cell_type": "code",
   "execution_count": null,
   "metadata": {
    "run_control": {
     "frozen": false,
     "read_only": false
    }
   },
   "outputs": [],
   "source": [
    "dotObj_tm(shiftr_tm, True)"
   ]
  },
  {
   "cell_type": "code",
   "execution_count": null,
   "metadata": {
    "run_control": {
     "frozen": false,
     "read_only": false
    }
   },
   "outputs": [],
   "source": [
    "explore_tm(shiftr_tm, \"ababba\", 100)"
   ]
  },
  {
   "cell_type": "markdown",
   "metadata": {
    "run_control": {
     "frozen": false,
     "read_only": false
    }
   },
   "source": [
    "# TM that performs bit-serial addition is below\n",
    "\n",
    "## Written by Ian Briggs"
   ]
  },
  {
   "cell_type": "code",
   "execution_count": null,
   "metadata": {
    "run_control": {
     "frozen": false,
     "read_only": false
    }
   },
   "outputs": [],
   "source": [
    "# The TM with input such as \n",
    "\n",
    "# 0101+0110= where 0101 and 0110 are presented little-endian\n",
    "\n",
    "\n",
    "# Assume that the inputs will be padded to be the same length\n",
    "#\n",
    "# The example addition being performed is (written in the big-endian manner) is:\n",
    "#\n",
    "# 0110\n",
    "# 1010\n",
    "# ----\n",
    "# 10000\n",
    "#\n",
    "\n",
    "\n",
    "# Algorithm : State design is of course key!\n",
    "#\n",
    "# We are also in various states. Here is how we name the states:\n",
    "#\n",
    "# B means before\n",
    "# B+ means we are before the + \n",
    "# B= means we are before the =\n",
    "\n",
    "# B+p means we are BEFORE the + \n",
    "#   as well as PRIOR to reading a 0 and changing it to an X or reading a 1 and changing it to a Y\n",
    "\n",
    "# B+q means we are AFTER the + and after changing 0->X or 1->Y\n",
    "\n",
    "# B=p and B=q have the same significance\n",
    "\n",
    "# Finally the _00 or _01 or _10 or _11 means\n",
    "# _<carry><sum>\n",
    "# i.e. the present carry and the present sum are recorded after the underscore\n",
    "\n",
    "addtm = md2mc('''TM \n",
    " \n",
    "I_00   : 0;0,S | 1;1,S  -> B+p_00 !! From init state, go to Before +, prior \n",
    "\n",
    "B+p_00 : 0;X,R          -> B+q_00  !! Change to Before +, after\n",
    "B+p_00 : 1;Y,R          -> B+q_01\n",
    "\n",
    "B+p_00 : X;X,R | Y;Y,R  -> B+p_00  !! Skip over X,Y\n",
    "B+p_00 : +;+,R          -> EnsureSndDone0   !! Carry=0; Maybe addition is over; check second piece also \"done\"\n",
    " \n",
    "B+p_10 : 0;X,R          -> B+q_01\n",
    "B+p_10 : 1;Y,R          -> B+q_10\n",
    "\n",
    "B+p_10 : X;X,R | Y;Y,R  -> B+p_10\n",
    "B+p_10 : +;+,R          -> EnsureSndDone1   !! Carry=1; similar to EnsureSndDone0 otherwise\n",
    "\n",
    "B+q_00 : 0;0,R  | 1;1,R -> B+q_00\n",
    "B+q_00 : +;+,R          -> B=p_00  !! Move onto the \"Before =\" part\n",
    "\n",
    "B+q_01 : +;+,R          -> B=p_01\n",
    "B+q_01 : 0;0,R  | 1;1,R -> B+q_01\n",
    "\n",
    "B+q_10 : 0;0,R  | 1;1,R -> B+q_10\n",
    "B+q_10 : +;+,R          -> B=p_10\n",
    "\n",
    " \n",
    "!!---\n",
    "\n",
    "B=p_00 : X;X,R | Y;Y,R -> B=p_00  !! skip over the initial X and Y\n",
    "B=p_00 : 0;X,R         -> B=q_00  !! We have reached the \"after\" part\n",
    "B=p_00 : 1;Y,R         -> B=q_01\n",
    " \n",
    "B=p_10 : X;X,R | Y;Y,R -> B=p_10\n",
    "B=p_10 : 0;X,R         -> B=q_10\n",
    "B=p_10 : 1;Y,R         -> B=q_11\n",
    "\n",
    "B=q_11 : 0;0,R | 1;1,R -> B=q_11\n",
    "B=q_11 : =;=,R         -> SkEnd_11\n",
    "\n",
    "B=p_01 : X;X,R | Y;Y,R -> B=p_01\n",
    "B=q_01 : =;=,R         -> SkEnd_01        !! Seeking end\n",
    "\n",
    "B=q_00 : 0;0,R | 1;1,R -> B=q_00\n",
    "B=q_00 : =;=,R         -> SkEnd_00\n",
    "\n",
    "B=q_01 : 0;0,R | 1;1,R -> B=q_01\n",
    "B=q_10 : 0;0,R | 1;1,R -> B=q_10\n",
    "\n",
    "B=q_10 : =;=,R         -> SkEnd_10\n",
    "B=p_01 : 0;X,R         -> B=q_01\n",
    "B=p_01 : 1;Y,R         -> B=q_10\n",
    "\n",
    " \n",
    "!!---\n",
    "\n",
    "SkEnd_00 : 0;0,R | 1;1,R -> SkEnd_00\n",
    "SkEnd_00 : .;0,L         -> RstHdL0   !! Reset head to the left; carry=0\n",
    "\n",
    "SkEnd_01 : 0;0,R | 1;1,R -> SkEnd_01\n",
    "SkEnd_01 : .;1,L         -> RstHdL0\n",
    "\n",
    "SkEnd_10 : 0;0,R | 1;1,R -> SkEnd_10\n",
    "SkEnd_10 : .;0,L         -> RstHdL1   !! Reset head to the left; carry=1\n",
    "\n",
    "SkEnd_11 : 0;0,R | 1;1,R -> SkEnd_11\n",
    "SkEnd_11 : .;1,L         -> RstHdL1\n",
    "\n",
    " \n",
    "!!---\n",
    "\n",
    "EnsureSndDone0 : X;X,R | Y;Y,R -> EnsureSndDone0 !! Ensure done, carry=0\n",
    "EnsureSndDone0 : =;=,R         -> F       !! Yes, second piece also properly done\n",
    "\n",
    "EnsureSndDone1 : X;X,R | Y;Y,R -> EnsureSndDone1 !! Ensure done, carry=1\n",
    "EnsureSndDone1 : =;=,R         -> Last1          !! Must stick in last 1 in MSB of result\n",
    "\n",
    " \n",
    "!!---\n",
    " \n",
    "Last1 : 0;0,R | 1;1,R  -> Last1           !! Stick in 1 in MSB of result\n",
    "Last1 : .;1,R          -> F               !! drain pending carry as there are no more bits to add\n",
    "\n",
    "\n",
    "!!---\n",
    "\n",
    "RstHdL0  : 0;0,L | 1;1,L | X;X,L | Y;Y,L | +;+,L | =;=,L -> RstHdL0\n",
    "RstHdL1  : 0;0,L | 1;1,L | X;X,L | Y;Y,L | +;+,L | =;=,L -> RstHdL1\n",
    "\n",
    "RstHdL0  : .;.,R -> B+p_00\n",
    "RstHdL1  : .;.,R -> B+p_10\n",
    "\n",
    "''')\n",
    "DOaddtm = dotObj_tm(addtm, FuseEdges=True)\n",
    "DOaddtm.render('addtm')\n",
    "DOaddtm"
   ]
  },
  {
   "cell_type": "code",
   "execution_count": null,
   "metadata": {
    "run_control": {
     "frozen": false,
     "read_only": false
    }
   },
   "outputs": [],
   "source": [
    "explore_tm(addtm,\"11+11=\",100)"
   ]
  },
  {
   "cell_type": "code",
   "execution_count": null,
   "metadata": {
    "run_control": {
     "frozen": false,
     "read_only": false
    }
   },
   "outputs": [],
   "source": [
    "explore_tm(addtm,\"0101+0110=\",140)"
   ]
  },
  {
   "cell_type": "code",
   "execution_count": null,
   "metadata": {
    "run_control": {
     "frozen": false,
     "read_only": false
    }
   },
   "outputs": [],
   "source": [
    "explore_tm(addtm,\"10000+11111=\",200)"
   ]
  },
  {
   "cell_type": "markdown",
   "metadata": {},
   "source": [
    "# END"
   ]
  }
 ],
 "metadata": {
  "kernelspec": {
   "display_name": "Python 3",
   "language": "python",
   "name": "python3"
  },
  "language_info": {
   "codemirror_mode": {
    "name": "ipython",
    "version": 3
   },
   "file_extension": ".py",
   "mimetype": "text/x-python",
   "name": "python",
   "nbconvert_exporter": "python",
   "pygments_lexer": "ipython3",
   "version": "3.7.3"
  },
  "toc": {
   "colors": {
    "hover_highlight": "#DAA520",
    "running_highlight": "#FF0000",
    "selected_highlight": "#FFD700"
   },
   "moveMenuLeft": true,
   "nav_menu": {
    "height": "318px",
    "width": "252px"
   },
   "navigate_menu": true,
   "number_sections": true,
   "sideBar": true,
   "threshold": 4,
   "toc_cell": false,
   "toc_section_display": "block",
   "toc_window_display": false,
   "widenNotebook": false
  }
 },
 "nbformat": 4,
 "nbformat_minor": 1
}
