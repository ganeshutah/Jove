{
  "nbformat": 4,
  "nbformat_minor": 0,
  "metadata": {
    "colab": {
      "provenance": []
    },
    "kernelspec": {
      "display_name": "Python 3",
      "language": "python",
      "name": "python3"
    },
    "language_info": {
      "codemirror_mode": {
        "name": "ipython",
        "version": 3
      },
      "file_extension": ".py",
      "mimetype": "text/x-python",
      "name": "python",
      "nbconvert_exporter": "python",
      "pygments_lexer": "ipython3",
      "version": "3.8.5"
    },
    "toc": {
      "colors": {
        "hover_highlight": "#DAA520",
        "running_highlight": "#FF0000",
        "selected_highlight": "#FFD700"
      },
      "moveMenuLeft": true,
      "nav_menu": {
        "height": "318px",
        "width": "252px"
      },
      "navigate_menu": true,
      "number_sections": true,
      "sideBar": true,
      "threshold": 4,
      "toc_cell": false,
      "toc_section_display": "block",
      "toc_window_display": false,
      "widenNotebook": false
    }
  },
  "cells": [
    {
      "cell_type": "markdown",
      "source": [
        "# This is Asg8 of CS3100, Fall 2022. Those questions below where you just follow-along are game for asking (with small variations) in the final exam.\n",
        "\n",
        "# **Please search for RESPONSE and you will find the place to enter responses**\n",
        "\n",
        "### Q1) First, you'll learn what BDDs are, and how to enter and build them. In fact, this part will be done in class, so nothing for you to do but follow (and record your understanding). *But whether you follow or not may be tested via questions in the final exam.*\n",
        "\n",
        "### Q2) Second, you'll learn how to convert a Boolean formula to CNF via BDDs. The classical method is first illustrated. In fact, this part will be done in class, so nothing for you to do but follow + record your understanding.\n",
        "\n",
        "### Q3) Third, you'll learn how to obtain CNF from DNF via BDDs. This method will be illustrated for you (including checking for equivalence). Please follow along + record understanding.\n",
        "\n",
        "### Q4) Next, you'll see how to solve a simple Lewis Carroll puzzle using BDDs.  \n",
        "\n",
        "### **Combined points for Q1-4, Q6 : 25% (5 points per 2-3 line response)** You are given a place to note down your understanding correponding to the \"follow along\", below. *Look for this cell after Q6.* \n",
        "\n",
        "### Q5) **This question will be graded for 25\\%.** It will ask you to repair a Lewis Carrol puzzle and get a proof by contradiction.\n",
        "\n",
        "### Q6) **This question exposes you to discovering map coloring using BDDs.** *Follow along.*\n",
        "\n",
        "### Q7) **This question will be graded for 50\\%.** This is where you'll gain additional understanding of the construction in Figure 16.9.\n"
      ],
      "metadata": {
        "id": "FWKapNmJjymr"
      }
    },
    {
      "cell_type": "code",
      "metadata": {
        "id": "g8PM6TIXtZha",
        "run_control": {
          "frozen": false,
          "read_only": false
        }
      },
      "source": [
        "#~~~~~~~~~~~~~~~~~~~~~~~~~~~~~~~~~~~~~~~~~~~~~~~~~~~~~~~\n",
        "import sys\n",
        "\n",
        "sys.path[0:0] = ['./Jove/pbl/python',\n",
        "                   './Jove/pbl/python/BDD_V2',\n",
        "                   './Jove/pbl/python/BDD_V2/BDD_V2',\n",
        "                   './Jove/pbl/python/BDD_V2/BDD_V2/include',\n",
        "                   './Jove/pbl/python/PyBool',\n",
        "                   './Jove/pbl/python/PyBool/include',\n",
        "                   './Jove/pbl/python/PyBool/include/ply'\n",
        "                ]\n",
        "! if [ ! -d Jove ]; then git clone https://github.com/ganeshutah/Jove Jove; fi"
      ],
      "execution_count": null,
      "outputs": []
    },
    {
      "cell_type": "code",
      "metadata": {
        "id": "3_v_avMUtZhg",
        "run_control": {
          "frozen": false,
          "read_only": false
        }
      },
      "source": [
        "from BDD import *\n",
        "from BDD_ite import *\n",
        "from BDD_ite1 import *\n",
        "from dot_bdd import *\n",
        "\n",
        "from PBL_CNF import *\n",
        "from PBL_NNE import *\n",
        "\n",
        "from PyBool_algorithms import *\n",
        "from PyBool_builder import *\n",
        "from PyBool_dimacs_parse import *\n",
        "from PyBool_public_interface import *\n",
        "from PyBool_std_parse import *\n",
        "\n",
        "from ply import *\n",
        "from cpp import *\n",
        "from ctokens import *\n",
        "from lex import *\n",
        "from yacc import *\n",
        "from buildBDD import *\n",
        "from buildBDDMin import *\n",
        "from common import *\n",
        "#~~~~~~~~~~~~~~~~~~~~~~~~~~~~~~~~~~~~~~~~~~~~~~~~~~~~~~~"
      ],
      "execution_count": null,
      "outputs": []
    },
    {
      "cell_type": "markdown",
      "source": [
        "# **------The questions Q1-Q7 mentioned above (including the \"follow along\" ones) are found after these tutorial sections------**\n",
        "\n"
      ],
      "metadata": {
        "id": "WJ584yKusLga"
      }
    },
    {
      "cell_type": "markdown",
      "metadata": {
        "id": "lcddzGErlzb3"
      },
      "source": [
        "# Here is the language specification for using BDDs\n",
        "\n",
        "\n",
        "Tyler Sorensen\n",
        "February 18, 2012\n",
        "University of Utah\n",
        "\n",
        "This file contains the Specs for the standard input language of PyBool\n",
        "It was implemented using the ply python package and all code can\n",
        "be found in the file PyBool_std_parse.py.\n",
        "\n",
        "\n",
        "-------------------------------------------------------------\n",
        "---Legal Operators-------------------------------------------\n",
        "-------------------------------------------------------------\n",
        "\n",
        "The legal operators are:\n",
        "\n",
        "And -            noted: &\n",
        "Or -             noted: |\n",
        "logically equal- noted: <=>\n",
        "implies -\t noted: =>\n",
        "not -\t\t noted: ~\n",
        "Exclusive or -\t noted: XOR\n",
        "Parenthesis  -   noted: ( )\n",
        "\n",
        "They corespond to their usual meaning in Boolean Algebra\n",
        "\n",
        "-------------------------------------------------------------\n",
        "---Key Words-------------------------------------------------\n",
        "-------------------------------------------------------------\n",
        "\n",
        "The following are keywords that cannot be used as variable\n",
        "names along with a brief description\n",
        "\n",
        "Var_Order\n",
        "Used in declaring the variable ordering\n",
        "\n",
        "Main_Exp\n",
        "Used in identifying the expression to consider\n",
        "\n",
        "XOR\n",
        "the exclusive or operator\n",
        "\n",
        "-------------------------------------------------------------\n",
        "---Key Words and Variables-----------------------------------\n",
        "-------------------------------------------------------------\n",
        "\n",
        "Variables, much like any other language are a string of characters.\n",
        "\n",
        "The restrictions on variable names are the following:\n",
        "\n",
        "-Cannot start with a symbol or a 0 or 1 (must start with a letter)\n",
        "\n",
        "-Cannot be a keyword\n",
        "\n",
        "There are two types of variables, literal variables and formula \n",
        "variables. \n",
        "\n",
        "Literal variables hold a 0 or a 1\n",
        "\n",
        "Formula variables hold an expression and are declared simply by assigning\n",
        "them.\n",
        "\n",
        "-------------------------------------------------------------\n",
        "--Variable Declaration---------------------------------------\n",
        "-------------------------------------------------------------\n",
        "\n",
        "-Literal Variables and Var_Order\n",
        "\n",
        "Some applications of Boolean formula require an explicit variable\n",
        "ordering to be declared. This is what the Var_Order keyword is for.\n",
        "To explicity declare a variable order, simply write\n",
        "Var_Order : List_of_Variables\n",
        "\n",
        "example:\n",
        "Var_Order : x1 x2 x3\n",
        "\n",
        "You are not limited to one Var_Order statement, as you might want\n",
        "to add variables later on, just don't repeat variable declarations.\n",
        "\n",
        "-Formula Variables\n",
        "\n",
        "To declare a formula variable, simply use the assignment operator '='\n",
        "For example, if you wanted the variable X to hold the following formula:\n",
        "x1 & x2 & ~x3 you would simply write the line:\n",
        "\n",
        "X = x1 & x2 & ~x3\n",
        "\n",
        "Now X can be used in other formulas in place of x1 & x2 & ~x3\n",
        "\n",
        "-------------------------------------------------------------\n",
        "--Main_Exp---------------------------------------------------\n",
        "-------------------------------------------------------------\n",
        "\n",
        "Once you have all your expression written, you need to tell the\n",
        "BDD which expression you actually want solved. It can be useful\n",
        "to have many \"sub\" expression but only solve certain combinations\n",
        "of them at a time. This is done with the Main_Exp keyword. \n",
        "\n",
        "Say you have two formulas stored in X1 and X2 and you want to \n",
        "solve the conjunction of the formulas, you would write:\n",
        "\n",
        "Main_Exp : X1 & X2\n",
        "\n",
        "Notice how Main_Exp is followed by a ':'\n",
        "\n",
        "In general Main_Exp is\n",
        "\n",
        "Main_Exp : expression\n",
        "\n",
        "where expression is any valid expression consisting of literals,\n",
        "literal variables or formula variables.\n",
        "\n",
        "-------------------------------------------------------------\n",
        "--Msc--------------------------------------------------------\n",
        "-------------------------------------------------------------\n",
        "\n",
        "A few final points:\n",
        "\n",
        "Comments are started with a # symbol will render the rest\n",
        "of the line as a comment. \n",
        "\n",
        "Semi Colons are ignored, so if it is your style to end lines with\n",
        "a semi colon, please do so.\n",
        "\n",
        "-------------------------------------------------------------\n",
        "\n",
        "## **--Putting it all together - an Example follows--** \n",
        "\n",
        "### **We first enter a Boolean formula, as shown under (1) below.**\n",
        "\n",
        "### **We then obtain the BDD, as shown under (2) below.**\n",
        "\n",
        "## **(1) ex1 below shows how you enter a Boolean formula.**"
      ]
    },
    {
      "cell_type": "markdown",
      "source": [
        "# Q1) Learn what BDDs are, and how to enter and build them."
      ],
      "metadata": {
        "id": "W-URY6Ogixq6"
      }
    },
    {
      "cell_type": "code",
      "metadata": {
        "id": "tWC8_ptgFWXG"
      },
      "source": [
        "ex1 = '''\n",
        "Var_Order : a b c d\n",
        "exp      = a | (b&c&d)\n",
        "Main_Exp :  exp\n",
        "'''"
      ],
      "execution_count": null,
      "outputs": []
    },
    {
      "cell_type": "markdown",
      "source": [
        "\n",
        "## **This is how you plot the formula ex1 defined above.**\n",
        "\n",
        "### *You may change the width=300 to another value, to obtain a decent-looking BDD.*\n",
        "\n",
        "### *You may save a png by right-clicking on the BDD image.*"
      ],
      "metadata": {
        "id": "daDa751tuIVr"
      }
    },
    {
      "cell_type": "code",
      "metadata": {
        "id": "9ctrGuPL3irY"
      },
      "source": [
        "buildBDDmain(ex1.splitlines())\n",
        "\n",
        "import graphviz\n",
        "from IPython.display import Image\n",
        "import pydot\n",
        "\n",
        "graphs = pydot.graph_from_dot_file(final_dot_file+\".dot\")\n",
        "graph = graphs[0]\n",
        "graph.write_png(final_dot_file+'.png')\n",
        "from IPython.display import Image\n",
        "Image(final_dot_file+'.png', width=150)"
      ],
      "execution_count": null,
      "outputs": []
    },
    {
      "cell_type": "markdown",
      "source": [
        "# Q2) Converting a DNF formula to CNF classically\n",
        "\n",
        "## As per Boolean algebra , a | (b & c) = (a | b) & (a | c)\n",
        "\n",
        "## Thus, a | (b & c & d) becomes (a | b) & (a | c) & (a | d)  \n",
        "\n",
        "## We check that exp and exp_cnf_classic are equivalent\n",
        "\n",
        "# **Hugely important point: please comment on this in your 2-3 line answers**\n",
        "\n",
        "## 1) It is possible to \"cheat\" on NP-completeness proofs by changing a CNF formula to a DNF formula by applying similar distribution. And DNF satisfiability is linear-time.\n",
        "\n",
        "## 2) This makes the formulae exponentially bigger. Then getting a linear proof over an exp input is pointless. \n",
        "\n",
        "## 3) This is a deeper topic but at least keep the input encoding size in mind!\n",
        "\n",
        "## For instance (a+b+c+d).(e+f+g+h).(i+j+k+l).(m+n+o+p).(q+r+s+t).(u+v+w+z).(y+z+a1+b1).(a2+b2+c2+d2) when \"multiplied out\" generates a DNF formula of length 65536!\n",
        "\n",
        "## Verifying such a bloated formula in linear-time is a skewed metric of complexity. But there is more to this under the heading of \"Strong NP-completeness\" (outside the scope of this course, and frankly I need to read more on it).\n",
        "\n",
        "## For now, just be aware that the CNF encoding is critical to capturing the structure of the problem. \n",
        "\n",
        "# DNF is a \"case by case unravelled\" CNF, and so the constraints are per product term and not across all the clauses"
      ],
      "metadata": {
        "id": "0R4NbO87jRgs"
      }
    },
    {
      "cell_type": "code",
      "source": [
        "ex2 = '''\n",
        "Var_Order : a b c d\n",
        "exp              = a | (b&c&d)\n",
        "exp_cnf_classic  = (a|b)&(a|c)&(a|d)\n",
        " \n",
        "Main_Exp : exp_cnf_classic <-> exp\n",
        "'''"
      ],
      "metadata": {
        "id": "i1z03menkO1Q"
      },
      "execution_count": null,
      "outputs": []
    },
    {
      "cell_type": "code",
      "source": [
        "buildBDDmain(ex2.splitlines())\n",
        "\n",
        "import graphviz\n",
        "from IPython.display import Image\n",
        "import pydot\n",
        "\n",
        "graphs = pydot.graph_from_dot_file(final_dot_file+\".dot\")\n",
        "graph = graphs[0]\n",
        "graph.write_png(final_dot_file+'.png')\n",
        "from IPython.display import Image\n",
        "Image(final_dot_file+'.png', width=300)"
      ],
      "metadata": {
        "id": "U5PUCUFWkwba"
      },
      "execution_count": null,
      "outputs": []
    },
    {
      "cell_type": "markdown",
      "source": [
        "# Q3) From a BDD, here is how you get a DNF and a CNF formula\n",
        "\n",
        "### * Follow each path from the root to the '1' node\n",
        "### * Conjoin the literals\n",
        "## * For our example, we have this DNF via BDD:\n",
        "#  a | (!a & b & c & d)\n",
        "\n",
        "### * Converting to CNF is done by going to the \"0\" node from the root\n",
        "### * and for each edge, if that edge is a 0, keep the same variable\n",
        "### * and if that edge is a 1, negate the variable\n",
        "### * and collect the edges via \"OR\"s\n",
        "###   (because of the implicit DeMorgan's Law as explained in class)\n",
        "\n",
        "## * For our example, we have this CNF via BDD:\n",
        "#  (a | b) & (a | !b | c) & (a | !b | !c | d)\n"
      ],
      "metadata": {
        "id": "K0H0qkkrscWq"
      }
    },
    {
      "cell_type": "code",
      "source": [
        "ex3 = '''\n",
        "Var_Order : a b c d\n",
        "exp              = a | (b&c&d)\n",
        "exp_dnf_bdd      = a | (!a & b & c & d)\n",
        "exp_cnf_bdd      = (a|b)&(a|!b|c)&(a|!b|!c|d)\n",
        "Main_Exp : (exp_dnf_bdd <-> exp) &  (exp_cnf_bdd <-> exp)\n",
        "'''"
      ],
      "metadata": {
        "id": "lMLEZP4ur5up"
      },
      "execution_count": null,
      "outputs": []
    },
    {
      "cell_type": "code",
      "source": [
        "buildBDDmain(ex3.splitlines())\n",
        "\n",
        "import graphviz\n",
        "from IPython.display import Image\n",
        "import pydot\n",
        "\n",
        "graphs = pydot.graph_from_dot_file(final_dot_file+\".dot\")\n",
        "graph = graphs[0]\n",
        "graph.write_png(final_dot_file+'.png')\n",
        "from IPython.display import Image\n",
        "Image(final_dot_file+'.png', width=300)"
      ],
      "metadata": {
        "id": "umF8kGvMuM7s"
      },
      "execution_count": null,
      "outputs": []
    },
    {
      "cell_type": "markdown",
      "metadata": {
        "id": "06p3RRroJpdi"
      },
      "source": [
        "# Q4) This is the Babies and Crocodiles example mentioned in Quiz-11\n",
        "## The proof by contradiction is obtained with ~C added to Main_Exp\n",
        "## Try also w/o that to see the full BDD (for your practice)"
      ]
    },
    {
      "cell_type": "code",
      "metadata": {
        "id": "85nXhnNcJgIH"
      },
      "source": [
        "# Babies and crocodiles\n",
        "\n",
        "BabCroc = '''\n",
        "#Formula for a simple Lewis Carroll logic puzzle.\n",
        "#\n",
        "#The Puzzle is stated as follows:\n",
        "#Assume that:\n",
        "#\n",
        "#All babies are illogical.\n",
        "#Nobody is despised who can manage a crocodile.\n",
        "#Illogical persons are despised.\n",
        "#\n",
        "#Show that:\n",
        "#Babies cannot manage crocodiles.\n",
        "\n",
        "#Declare variables and order\n",
        "Var_Order : babies illogical despised manageCrocs\n",
        "\n",
        "#Babies are illogical\n",
        "P1 = babies => illogical\n",
        "\n",
        "#illogical people are despised\n",
        "P2 = illogical => despised\n",
        "\n",
        "#People who manage crocs are not despised   \n",
        "P3 = manageCrocs => ~despised\t\n",
        "\n",
        "#Conclusion: babies cannot manage crocs\n",
        "C  = babies => ~manageCrocs\n",
        "\n",
        "#Main expression is all premises with the negation\n",
        "#of what we're trying to prove. Should have 0 satisfying\n",
        "#assignments if true.\n",
        "Main_Exp : P1 & P2 & P3 & ~C\n",
        "'''"
      ],
      "execution_count": null,
      "outputs": []
    },
    {
      "cell_type": "code",
      "metadata": {
        "id": "U3eR0-tSKcdQ"
      },
      "source": [
        "buildBDDmain(BabCroc.splitlines())\n",
        "\n",
        "import graphviz\n",
        "from IPython.display import Image\n",
        "import pydot\n",
        "\n",
        "graphs = pydot.graph_from_dot_file(final_dot_file+\".dot\")\n",
        "graph = graphs[0]\n",
        "graph.write_png(final_dot_file+'.png')\n",
        "from IPython.display import Image\n",
        "Image(final_dot_file+'.png', width=600)"
      ],
      "execution_count": null,
      "outputs": []
    },
    {
      "cell_type": "markdown",
      "metadata": {
        "id": "b2P34lEklzcA"
      },
      "source": [
        "# Q5) Lewis Carroll's Example of \"Wise Young Pigs\"\n",
        "# Also called \"Wise Balloonist\" in Quiz-11\n",
        "\n",
        "  First try by setting Extra to 1 (i.e. Extra = 1) and run\n",
        "  This is a \"Forgotten English Fact\" that will almost give you\n",
        "  a 0 node (counterexample) ... but if you read the path, you will\n",
        "  see that we must have this Extra condition that old <-> ~young.\n",
        "  Once that is added, we get a full counterexample. This is a neat\n",
        "  way to teach proofs in a fun way!"
      ]
    },
    {
      "cell_type": "code",
      "metadata": {
        "id": "tHUYBVi4lzcB"
      },
      "source": [
        "# Also called Wise Balloonist\n",
        "\n",
        "Carroll='''\n",
        "#Input for a Lewis Carroll problem\n",
        "#Written in the mark up language for the python BDD manager\n",
        "\n",
        "#Declare all the variables. Notice how you can use\n",
        "#more than one line.\n",
        "Var_Order : eatPennyBuns old young danceTightRopes\n",
        "Var_Order : pigs respect giddy publicLunch ridiculous\n",
        "Var_Order : umbrella fat wise balloon \n",
        "\n",
        "#These are the Premises\n",
        "P1 = (~danceTightRopes & ~eatPennyBuns) => old \n",
        "P2 = (pigs & giddy) => respect\n",
        "P3 = (ridiculous & eatPennyBuns) => ~publicLunch\n",
        "P4 = (young & balloon) => giddy\n",
        "P5 = (wise & balloon) => umbrella\n",
        "P6 = (fat & ridiculous & ~danceTightRopes) => publicLunch\n",
        "P7 = (wise & giddy) => ~danceTightRopes\n",
        "P8 = (pigs & umbrella) => ridiculous\n",
        "P9 = (~danceTightRopes & respect) => fat  \n",
        "\n",
        "# Extra Frame Axiom needed \n",
        "# A frame axiom in AI is something that humans know but logic might not\n",
        "# E.g. \"All birds can fly... except if their feet are stuck in concrete\"\n",
        "# The frame condition is the \"stuck in concrete\"\n",
        "# Like that you have to aim to prove by contradiction only in the presence\n",
        "# of the extra Frame_Axiom\n",
        "\n",
        "# YOU WILL NOT get a contradiction initially\n",
        "# THEN you must look at the BDD and figure out what went wrong\n",
        "# (what real-world fact you overlooked)\n",
        "# Incorporate that by changing \"1\" below to that condition\n",
        "# Then you ought to get your big red 0 square, showing that\n",
        "# the contradiction is achieved!\n",
        "\n",
        "Frame_Axiom = 1 # change this to the right \"Frame Axiom\"\n",
        "\n",
        "\n",
        "#This is the conclusion\n",
        "C = (wise & young & pigs) => ~balloon\n",
        "\n",
        "#This is all the premises conjoined\n",
        "P_All = P1 & P2 & P3 & P4 & P5 & P6 & P7 & P8 & P9\n",
        "\n",
        "#The main expression to be considered.\n",
        "Main_Exp : P_All & Frame_Axiom & ~C\n",
        "'''"
      ],
      "execution_count": null,
      "outputs": []
    },
    {
      "cell_type": "code",
      "metadata": {
        "id": "WwrcZjChlzcC"
      },
      "source": [
        "buildBDDmain(Carroll.splitlines())\n",
        "\n",
        "import graphviz\n",
        "from IPython.display import Image\n",
        "import pydot\n",
        "\n",
        "graphs = pydot.graph_from_dot_file(final_dot_file+\".dot\")\n",
        "graph = graphs[0]\n",
        "graph.write_png(final_dot_file+'.png')\n",
        "from IPython.display import Image\n",
        "Image(final_dot_file+'.png', width=600)"
      ],
      "execution_count": null,
      "outputs": []
    },
    {
      "cell_type": "markdown",
      "source": [
        "# Repair the above problem by introducing the right extra constraint in \"Frame_Axiom\" above.\n",
        "\n",
        "# ** RESPONSE-Q-7: What is the extra clause**\n",
        "\n",
        "...answer...\n",
        "\n",
        "# Show that we now get a contradiction"
      ],
      "metadata": {
        "id": "kgLqY95CHxO6"
      }
    },
    {
      "cell_type": "code",
      "source": [
        "#...Enter a modified code + buildBDDDomain call (maybe in the same code cell) ...\n",
        "#...to obtain a proof by contradiction for wise young pigs...\n",
        "#...A big red 0 must result ..."
      ],
      "metadata": {
        "id": "u3rgSLwuIIxC"
      },
      "execution_count": null,
      "outputs": []
    },
    {
      "cell_type": "markdown",
      "metadata": {
        "id": "1w4MnqcpK0Lu"
      },
      "source": [
        "# Q6) This is the \"Four Coloring\" test where some adjacent states in the USA are listed\n",
        "# Also consider this as part of Quiz-11\n",
        "## Specifically, Utah, Nevada, Arizona, and Colorado have 2 bits each\n",
        "## BDDs compute the coloring by avoiding coloring neighboring states the same\n",
        "## Read the \"0/1\" codes for the states as a \"color\"\n",
        "## the \"aUT\" and \"bUT\" bit bits tell you the \"a/b\" bits assigned for Utah.\n",
        "## So on for others\n",
        " \n",
        "\n",
        "#**Change the variable ordering as indicated below.** *Record your observations!*"
      ]
    },
    {
      "cell_type": "code",
      "metadata": {
        "id": "8eBaXhyQK1A_"
      },
      "source": [
        "FourColoringStates = '''\n",
        "\n",
        "#--Uncomment the one commented and comment what's uncommented\n",
        "#--See how it affects the BDD size\n",
        "#--Explain why this might be\n",
        "\n",
        "Var_Order : aUT, bUT, aNV, bNV, aAZ, bAZ, aCO, bCO\n",
        "#Var_Order : aUT, aNV, aAZ, aCO, bUT, bNV, bAZ, bCO\n",
        "\n",
        "Nv_not_Ut = ~((aNV <=> aUT) & (bNV <=> bUT))\n",
        "Nv_not_Az = ~((aNV <=> aAZ) & (bNV <=> bAZ))\n",
        "Az_not_Ut = ~((aUT <=> aAZ) & (bUT <=> bAZ))\n",
        "\n",
        "Co_not_Az = ~((aCO <=> aAZ) & (bCO <=> bAZ))\n",
        "Co_not_Ut = ~((aCO <=> aUT) & (bCO <=> bUT))\n",
        "\n",
        " \n",
        "\n",
        "Main_Exp : Nv_not_Ut & Nv_not_Az & Az_not_Ut & Co_not_Az & Co_not_Ut\n",
        "'''"
      ],
      "execution_count": null,
      "outputs": []
    },
    {
      "cell_type": "code",
      "source": [
        "buildBDDmain(FourColoringStates.splitlines())\n",
        "\n",
        "import graphviz\n",
        "from IPython.display import Image\n",
        "import pydot\n",
        "\n",
        "graphs = pydot.graph_from_dot_file(final_dot_file+\".dot\")\n",
        "graph = graphs[0]\n",
        "graph.write_png(final_dot_file+'.png')\n",
        "from IPython.display import Image\n",
        "Image(final_dot_file+'.png', width=800)"
      ],
      "metadata": {
        "id": "3wmF3G-Nu6sp"
      },
      "execution_count": null,
      "outputs": []
    },
    {
      "cell_type": "markdown",
      "source": [
        "# RESPONSE-Q1-Q6\n",
        "\n",
        "# **Below, please record about 2-3 lines for each of Q1-Q4, and Q6, capturing your understanding of the illustrations in these \"follow along\" questions.**\n",
        "\n",
        "## Q1 response (2-3 lines as stated above)\n",
        "\n",
        "...Space for Q1...\n",
        "\n",
        "## Q2 response (2-3 lines as stated above)\n",
        "\n",
        "...Space for Q2...\n",
        "\n",
        "## Q3 response (2-3 lines as stated above)\n",
        "\n",
        "...Space for Q3...\n",
        "\n",
        "## Q4 response (2-3 lines as stated above)\n",
        "\n",
        "...Space for Q4...\n",
        "\n",
        "## Q6 response (2-3 lines as stated above)\n",
        "\n",
        "...Space for Q6...IN HERE, capture *what the different variable ordering did* to the **BDD size** and why that might be the case...\n",
        "\n",
        "...Ask on Piazza why that might be the case, and I'll reponse...\n",
        "\n",
        "...Also read the path from the root to \"1\" and try to understand that the BDD is setting the two bits of the state colors in different ways. It could be that 11 is red, 10 is blue etc...\n",
        "\n"
      ],
      "metadata": {
        "id": "NddrcJaFjr9u"
      }
    },
    {
      "cell_type": "markdown",
      "metadata": {
        "id": "U3MHEfYMGJxX"
      },
      "source": [
        "# Q7, (50\\% of the points) -- enter answers in the space explicitly provided below\n",
        "\n",
        "## Q7(a): 10 of the 50%: Encode the formula given in Figure 16.9 and show that the formula is unsatisfiable\n",
        "\n",
        "## Q7(b): 20 of the 50%: Leave out the last clause and find the satisfying instance. Then argue that a 3-clique -- a triangle -- exists in the graph derived for this formula. Write out the triangle by listing its nodes.\n",
        "\n",
        "## Q7(c): 10 of the 50%: Show that this tests the mapping reduction involved. Describe how it shows that this formula with K clauses is satisfiable if and only if the Graph has a K-clique."
      ]
    },
    {
      "cell_type": "code",
      "source": [
        "Q7a = '''\n",
        "Var_Order : ...\n",
        "c1 = (x1 | x1 | x2)\n",
        "c2 = ... enter for all the other clauses also ...\n",
        "\n",
        "Main_Exp  : c1 & c2 & ..etc.. as much as needed...\n",
        "'''\n",
        " "
      ],
      "metadata": {
        "id": "gBi2pPIJSVUd"
      },
      "execution_count": null,
      "outputs": []
    },
    {
      "cell_type": "code",
      "source": [
        "buildBDDmain(Q7a.splitlines())\n",
        "\n",
        "import graphviz\n",
        "from IPython.display import Image\n",
        "import pydot\n",
        "\n",
        "graphs = pydot.graph_from_dot_file(final_dot_file+\".dot\")\n",
        "graph = graphs[0]\n",
        "graph.write_png(final_dot_file+'.png')\n",
        "from IPython.display import Image\n",
        "Image(final_dot_file+'.png', width=600)"
      ],
      "metadata": {
        "id": "7TBQ-czhTmBn"
      },
      "execution_count": null,
      "outputs": []
    },
    {
      "cell_type": "markdown",
      "source": [
        "# RESPONSE-Q7a: Write your observations for Q7a below\n",
        "\n",
        "...answer..."
      ],
      "metadata": {
        "id": "uzD2VUywHYOh"
      }
    },
    {
      "cell_type": "code",
      "metadata": {
        "id": "JN3kHJ8e3irc"
      },
      "source": [
        "Q7b = ..."
      ],
      "execution_count": null,
      "outputs": []
    },
    {
      "cell_type": "code",
      "metadata": {
        "id": "p2_Xk1_O3irc"
      },
      "source": [
        "buildBDDmain(Q7b.splitlines())\n",
        "\n",
        "import graphviz\n",
        "from IPython.display import Image\n",
        "import pydot\n",
        "\n",
        "graphs = pydot.graph_from_dot_file(final_dot_file+\".dot\")\n",
        "graph = graphs[0]\n",
        "graph.write_png(final_dot_file+'.png')\n",
        "from IPython.display import Image\n",
        "Image(final_dot_file+'.png', width=300)"
      ],
      "execution_count": null,
      "outputs": []
    },
    {
      "cell_type": "markdown",
      "source": [
        "# RESPONSE-Q7-b : Write your observations for Q7b here\n",
        "\n",
        "...answer..."
      ],
      "metadata": {
        "id": "JRMhnjh-HUX2"
      }
    },
    {
      "cell_type": "markdown",
      "source": [
        "# List the triangle being formed when the formula in Q7b is satisfied. *Argue in a few lines (2-3) that a mapping reduction is achieved.* **That is, a 3-clique exists IFF ...** . How does this follow from the experiments in Q7a and Q7b?\n",
        "\n",
        "...answer..."
      ],
      "metadata": {
        "id": "xXWH1G4gHcyJ"
      }
    },
    {
      "cell_type": "markdown",
      "metadata": {
        "id": "PhiYN_cX3ird"
      },
      "source": [
        "# End"
      ]
    }
  ]
}